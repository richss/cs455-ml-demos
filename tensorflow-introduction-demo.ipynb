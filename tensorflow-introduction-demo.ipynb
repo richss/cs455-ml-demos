{
 "cells": [
  {
   "cell_type": "code",
   "execution_count": 1,
   "metadata": {},
   "outputs": [],
   "source": [
    "import tensorflow as tf\n",
    "import numpy as np\n",
    "\n",
    "\n",
    "def reset_graph():\n",
    "    tf.reset_default_graph()\n",
    "\n",
    "\n",
    "\n"
   ]
  },
  {
   "cell_type": "code",
   "execution_count": 68,
   "metadata": {},
   "outputs": [
    {
     "name": "stdout",
     "output_type": "stream",
     "text": [
      "Tensor(\"Assign:0\", shape=(1, 2), dtype=float32_ref)\n"
     ]
    }
   ],
   "source": [
    "# AND Code\n",
    "reset_graph()\n",
    "\n",
    "# Construction\n",
    "X = np.array([[0,0], [0,1], [1,0],[1,1]])\n",
    "y = np.array([[0], [0], [0], [1]])\n",
    "\n",
    "n = 2\n",
    "m = 4\n",
    "alpha = 0.1\n",
    "\n",
    "X_in = tf.placeholder(tf.float32, shape=(1,2),name=\"X\")\n",
    "y_in = tf.placeholder(tf.float32, shape=(1,), name=\"y\")\n",
    "w = tf.Variable(tf.random_uniform([1,2],-0.5, 0.5), name=\"weights\")\n",
    "th = tf.Variable(tf.random_uniform([1,1], -0.5, 0.5), name=\"theta\")\n",
    "\n",
    "z = tf.reduce_sum(tf.matmul(tf.transpose(w), X_in) - th)\n",
    "y_pred = tf.sign(tf.sign(z) + 0.1) #implements a heaviside step\n",
    "error = y_in - y_pred\n",
    "w = tf.assign(w, w + alpha * X_in * error)\n",
    "\n",
    "\n",
    "\n",
    "max_epochs_ = 10\n",
    "\n",
    "init = tf.global_variables_initializer()\n",
    "\n",
    "with tf.Session() as sess:\n",
    "    sess.run(init)\n",
    "    \n",
    "    epoch = 0\n",
    "    for epoch in range(0, max_epochs_):                \n",
    "        for i in range(0, m):\n",
    "            \n",
    "            #print(error.eval(feed_dict={X_in: [X[i]], y_in: y[i]}))\n",
    "                       \n",
    "            sess.run([w, y_in, z, error],feed_dict={X_in: [X[i]], y_in: y[i]})\n",
    "                        \n",
    "            \n",
    "print(w)\n",
    "        \n",
    "\n",
    "\n"
   ]
  }
 ],
 "metadata": {
  "kernelspec": {
   "display_name": "Python 3",
   "language": "python",
   "name": "python3"
  },
  "language_info": {
   "codemirror_mode": {
    "name": "ipython",
    "version": 3
   },
   "file_extension": ".py",
   "mimetype": "text/x-python",
   "name": "python",
   "nbconvert_exporter": "python",
   "pygments_lexer": "ipython3",
   "version": "3.6.8"
  }
 },
 "nbformat": 4,
 "nbformat_minor": 2
}
