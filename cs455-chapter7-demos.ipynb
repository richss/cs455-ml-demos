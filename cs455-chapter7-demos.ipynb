{
 "cells": [
  {
   "cell_type": "markdown",
   "metadata": {},
   "source": [
    "<h1><center>CS 455/595a: Ensemble Methods - bagging and random forests</center></h1>\n",
    "<center>Richard S. Stansbury</center>\n",
    "\n",
    "This notebook applies the bagging and random forest ensemble classification and regression concepts concepts covered in [1] with the [Titanic](https://www.kaggle.com/c/titanic/) and [Boston Housing](https://scikit-learn.org/stable/modules/generated/sklearn.datasets.load_boston.html) data sets for DT-based classification and regression, respectively.\n",
    "\n",
    "Note: you must install the graphviz package for Python.  Please do this install using pip or conda. i.e.  \"conda install graphviz\"\n",
    "\n",
    "Reference:\n",
    "\n",
    "[1] Aurelen Geron. *Hands on Machine Learning with Scikit-Learn & TensorFlow* O'Reilley Media Inc, 2017.\n",
    "\n",
    "[2] Aurelen Geron. \"ageron/handson-ml: A series of Jupyter notebooks that walk you through the fundamentals of Machine Learning and Deep Learning in python using Scikit-Learn and TensorFlow.\" Github.com, online at: https://github.com/ageron/handson-ml [last accessed 2019-03-01]"
   ]
  },
  {
   "cell_type": "markdown",
   "metadata": {},
   "source": [
    "**Table of Contents**\n",
    "1. [Titanic Survivor Ensemble Classifiers](#Titanic-Survivor-Classifier)\n",
    " \n",
    "2. [Boston Housing Cost Ensemble Regressors](#Boston-Housing-Cost-Estimator)"
   ]
  },
  {
   "cell_type": "markdown",
   "metadata": {},
   "source": [
    "\n"
   ]
  },
  {
   "cell_type": "markdown",
   "metadata": {},
   "source": [
    "# Titanic Survivor Classifier\n",
    "\n",
    "## Set up - Imports of libraries and Data Preparation"
   ]
  },
  {
   "cell_type": "code",
   "execution_count": 1,
   "metadata": {},
   "outputs": [],
   "source": [
    "from sklearn.pipeline import Pipeline, FeatureUnion\n",
    "from sklearn.impute import SimpleImputer\n",
    "from sklearn.base import BaseEstimator, TransformerMixin\n",
    "from sklearn.model_selection import train_test_split\n",
    "\n",
    "from sklearn.metrics import confusion_matrix, precision_score, recall_score, accuracy_score, f1_score \n",
    "from sklearn.metrics import mean_squared_error, mean_absolute_error\n",
    "from sklearn.model_selection import cross_val_predict\n",
    "from sklearn import datasets\n",
    "\n",
    "from matplotlib import pyplot as plt\n",
    "%matplotlib inline \n",
    "\n",
    "import numpy as np\n",
    "import pandas as pd\n",
    "import os\n",
    "\n",
    "# Read data from input files into Pandas data frames\n",
    "data_path = os.path.join(\"datasets\",\"titanic\")\n",
    "train_filename = \"train.csv\"\n",
    "test_filename = \"test.csv\"\n",
    "\n",
    "def read_csv(data_path, filename):\n",
    "    joined_path = os.path.join(data_path, filename)\n",
    "    return pd.read_csv(joined_path)\n",
    "\n",
    "# Read CSV file into Pandas Dataframes\n",
    "train_df = read_csv(data_path, train_filename)\n",
    "\n",
    "# Defining Data Pre-Processing Pipelines\n",
    "class DataFrameSelector(BaseEstimator, TransformerMixin):\n",
    "    \n",
    "    def __init__(self, attributes):\n",
    "        self.attributes = attributes\n",
    "    \n",
    "    def fit(self, X, y=None):\n",
    "        return self\n",
    "    \n",
    "    def transform(self, X):\n",
    "        return X[self.attributes]\n",
    "\n",
    "class MostFrequentImputer(BaseEstimator, TransformerMixin):\n",
    "    \n",
    "    def fit(self, X, y=None):\n",
    "        self.most_frequent = pd.Series([X[c].value_counts().index[0] for c in X], \n",
    "                                       index = X.columns)\n",
    "        return self\n",
    "    \n",
    "    def transform(self, X):\n",
    "        return X.fillna(self.most_frequent)\n",
    "\n",
    "    \n",
    "numeric_pipe = Pipeline([\n",
    "        (\"Select\", DataFrameSelector([\"Age\", \"Fare\", \"SibSp\", \"Parch\"])), # Selects Fields from dataframe\n",
    "        (\"Imputer\", SimpleImputer(strategy=\"median\")),   # Fills in NaN w/ median value for its column\n",
    "    ])\n",
    "\n",
    "#Handle categorical string for sex by encoding as female true, 1 or false,0\n",
    "train_df['Female'] = train_df[\"Sex\"].apply(lambda x: 1 if x == 'female' else 0)\n",
    "\n",
    "categories_pipe = Pipeline([\n",
    "        (\"Select\", DataFrameSelector([\"Pclass\", \"Female\"])), # Selects Fields from dataframe\n",
    "        (\"MostFreqImp\", MostFrequentImputer()), # Fill in NaN with most frequent\n",
    "    ])\n",
    "\n",
    "preprocessing_pipe = FeatureUnion(transformer_list = [\n",
    "        (\"numeric pipeline\", numeric_pipe), \n",
    "        (\"categories pipeline\", categories_pipe)\n",
    "     ]) \n",
    "\n",
    "# Process Input Data Using Pipleines\n",
    "train_X_data = preprocessing_pipe.fit_transform(train_df)\n",
    "\n",
    "train_y_data = train_df[\"Survived\"]\n",
    "\n",
    "feature_names = [\"Age\", \"Fare\", \"SibSp\", \"Parch\", \"Class\", \"Female\"]\n",
    "target_names = [\"Died\",\"Survived\"]"
   ]
  },
  {
   "cell_type": "markdown",
   "metadata": {},
   "source": [
    "## KNN Classifier Performance vs. Metrics (for comparison)\n",
    "\n",
    "This example is included for comparison by showing the cross validation metric scores for a KNN classifier on the titanic data set."
   ]
  },
  {
   "cell_type": "code",
   "execution_count": 2,
   "metadata": {},
   "outputs": [
    {
     "name": "stdout",
     "output_type": "stream",
     "text": [
      "Confusion Matrix:\n",
      "[[451  98]\n",
      " [176 166]]\n",
      "Accuracy Score = 0.6924803591470258\n",
      "Pecision Score = 0.6287878787878788\n",
      "Recall Score = 0.4853801169590643\n",
      "F1 Score = 0.5478547854785478\n"
     ]
    }
   ],
   "source": [
    "from sklearn.neighbors import KNeighborsClassifier\n",
    "\n",
    "# KNN Classifier 10-fold Validation\n",
    "k=10\n",
    "clf = KNeighborsClassifier(n_neighbors=k)\n",
    "\n",
    "y_pred = cross_val_predict(clf, train_X_data, train_y_data, cv=5)\n",
    "\n",
    "print(\"Confusion Matrix:\")\n",
    "print(confusion_matrix(train_y_data, y_pred))\n",
    "print(\"Accuracy Score = \" + str(accuracy_score(train_y_data, y_pred)))\n",
    "print(\"Pecision Score = \" + str(precision_score(train_y_data, y_pred)))\n",
    "print(\"Recall Score = \" + str(recall_score(train_y_data,y_pred)))\n",
    "print(\"F1 Score = \" + str(f1_score(train_y_data,y_pred)))                            \n",
    "                               "
   ]
  },
  {
   "cell_type": "code",
   "execution_count": null,
   "metadata": {},
   "outputs": [],
   "source": []
  },
  {
   "cell_type": "markdown",
   "metadata": {},
   "source": [
    "## Bagging Example with KNN\n",
    "\n",
    "This example implements a bagging classifier of 500 KNN classifiers with K=10.  It then demonstrates the performance metrics for the algorithm under a 5-fold cross validation."
   ]
  },
  {
   "cell_type": "code",
   "execution_count": 3,
   "metadata": {},
   "outputs": [
    {
     "name": "stdout",
     "output_type": "stream",
     "text": [
      "Confusion Matrix:\n",
      "[[472  77]\n",
      " [183 159]]\n",
      "Accuracy Score = 0.7081930415263749\n",
      "Pecision Score = 0.673728813559322\n",
      "Recall Score = 0.4649122807017544\n",
      "F1 Score = 0.5501730103806227\n"
     ]
    }
   ],
   "source": [
    "from sklearn.ensemble import BaggingClassifier\n",
    "\n",
    "k=10\n",
    "base_clf = KNeighborsClassifier(n_neighbors=k)\n",
    "\n",
    "bag_clf = BaggingClassifier(\n",
    "    base_clf,\n",
    "    n_estimators = 500,\n",
    "    max_samples=0.5, \n",
    "    n_jobs = -1,\n",
    "    bootstrap=True)\n",
    "    \n",
    "y_pred = cross_val_predict(bag_clf, train_X_data, train_y_data, cv=5)\n",
    "\n",
    "print(\"Confusion Matrix:\")\n",
    "print(confusion_matrix(train_y_data, y_pred))\n",
    "print(\"Accuracy Score = \" + str(accuracy_score(train_y_data, y_pred)))\n",
    "print(\"Pecision Score = \" + str(precision_score(train_y_data, y_pred)))\n",
    "print(\"Recall Score = \" + str(recall_score(train_y_data,y_pred)))\n",
    "print(\"F1 Score = \" + str(f1_score(train_y_data,y_pred)))   \n",
    "\n"
   ]
  },
  {
   "cell_type": "code",
   "execution_count": null,
   "metadata": {},
   "outputs": [],
   "source": []
  },
  {
   "cell_type": "markdown",
   "metadata": {},
   "source": [
    "## Bagging with Decision Tree\n",
    "\n",
    "This example implements a bagging classifier of 500 decision trees (constrained to a maximum depth of 10 each).  It then demonstrates the performance metrics for the algorithm under a 5-fold cross validation."
   ]
  },
  {
   "cell_type": "code",
   "execution_count": 4,
   "metadata": {},
   "outputs": [
    {
     "name": "stdout",
     "output_type": "stream",
     "text": [
      "Confusion Matrix:\n",
      "[[498  51]\n",
      " [ 94 248]]\n",
      "Accuracy Score = 0.8372615039281706\n",
      "Pecision Score = 0.8294314381270903\n",
      "Recall Score = 0.7251461988304093\n",
      "F1 Score = 0.7737909516380654\n"
     ]
    }
   ],
   "source": [
    "from sklearn.tree import DecisionTreeClassifier\n",
    "\n",
    "k=10\n",
    "base_clf = DecisionTreeClassifier(max_depth=10)\n",
    "\n",
    "bag_clf = BaggingClassifier(\n",
    "    base_clf,\n",
    "    n_estimators = 500,\n",
    "    max_samples=0.5, \n",
    "    n_jobs = -1,\n",
    "    bootstrap=True)\n",
    "\n",
    "# Crossvalidation with our ensemble classifier\n",
    "y_pred = cross_val_predict(bag_clf, train_X_data, train_y_data, cv=5)\n",
    "print(\"Confusion Matrix:\")\n",
    "print(confusion_matrix(train_y_data, y_pred))\n",
    "print(\"Accuracy Score = \" + str(accuracy_score(train_y_data, y_pred)))\n",
    "print(\"Pecision Score = \" + str(precision_score(train_y_data, y_pred)))\n",
    "print(\"Recall Score = \" + str(recall_score(train_y_data,y_pred)))\n",
    "print(\"F1 Score = \" + str(f1_score(train_y_data,y_pred)))   "
   ]
  },
  {
   "cell_type": "code",
   "execution_count": null,
   "metadata": {},
   "outputs": [],
   "source": []
  },
  {
   "cell_type": "markdown",
   "metadata": {},
   "source": [
    "## Out of Bag Validation\n",
    "\n",
    "This examples creates a bagging method ensemble classifier with decision trees up to depth 10.  It is configured to output the oob_score, which is the cross validation score.  \n"
   ]
  },
  {
   "cell_type": "code",
   "execution_count": 5,
   "metadata": {},
   "outputs": [
    {
     "data": {
      "text/plain": [
       "0.8294051627384961"
      ]
     },
     "execution_count": 5,
     "metadata": {},
     "output_type": "execute_result"
    }
   ],
   "source": [
    "from sklearn.tree import DecisionTreeClassifier\n",
    "\n",
    "k=10\n",
    "base_clf = DecisionTreeClassifier(max_depth=10)\n",
    "\n",
    "bag_clf = BaggingClassifier(\n",
    "    base_clf,\n",
    "    n_estimators = 500,\n",
    "    max_samples=0.5, \n",
    "    n_jobs = -1,\n",
    "    oob_score=True,\n",
    "    bootstrap=True)\n",
    "\n",
    "bag_clf.fit(train_X_data, train_y_data)\n",
    "bag_clf.oob_score_"
   ]
  },
  {
   "cell_type": "code",
   "execution_count": null,
   "metadata": {},
   "outputs": [],
   "source": []
  },
  {
   "cell_type": "markdown",
   "metadata": {},
   "source": [
    "## Random Forest Example\n",
    "\n",
    "This examples creates a random forest of decision tree cassifiers of 500 estimators with a maximum depth limit of 10 for each.\n",
    "\n",
    "The output shows the cross validation confusion matrix and the performance metrics."
   ]
  },
  {
   "cell_type": "code",
   "execution_count": 6,
   "metadata": {},
   "outputs": [
    {
     "name": "stdout",
     "output_type": "stream",
     "text": [
      "Confusion Matrix:\n",
      "[[491  58]\n",
      " [ 94 248]]\n",
      "Accuracy Score = 0.8294051627384961\n",
      "Pecision Score = 0.8104575163398693\n",
      "Recall Score = 0.7251461988304093\n",
      "F1 Score = 0.7654320987654322\n"
     ]
    }
   ],
   "source": [
    "from sklearn.ensemble import RandomForestClassifier\n",
    "\n",
    "rf_clf = RandomForestClassifier(n_estimators=500, n_jobs=-1, max_depth=10)\n",
    "\n",
    "# Crossvalidation with our ensemble classifier\n",
    "y_pred = cross_val_predict(rf_clf, train_X_data, train_y_data, cv=5)\n",
    "print(\"Confusion Matrix:\")\n",
    "print(confusion_matrix(train_y_data, y_pred))\n",
    "print(\"Accuracy Score = \" + str(accuracy_score(train_y_data, y_pred)))\n",
    "print(\"Pecision Score = \" + str(precision_score(train_y_data, y_pred)))\n",
    "print(\"Recall Score = \" + str(recall_score(train_y_data,y_pred)))\n",
    "print(\"F1 Score = \" + str(f1_score(train_y_data,y_pred)))   "
   ]
  },
  {
   "cell_type": "markdown",
   "metadata": {},
   "source": [
    "## Feature Importance and Out of Bag Validation for Random Forest\n",
    "\n",
    "This example demonstrates a random forest classifier with the oob_score turned to true.\n",
    "\n",
    "We output from it the importance score for each feature.  We also output the out of bag cross validation score."
   ]
  },
  {
   "cell_type": "code",
   "execution_count": 7,
   "metadata": {},
   "outputs": [
    {
     "name": "stdout",
     "output_type": "stream",
     "text": [
      "Age 0.21927603450859903\n",
      "Fare 0.2452633845800299\n",
      "SibSp 0.05439401513602098\n",
      "Parch 0.039687150106554964\n",
      "Class 0.10765355130474409\n",
      "Female 0.3337258643640503\n",
      "\n",
      "\n",
      "Out of Bag Validation: 0.8215488215488216\n"
     ]
    }
   ],
   "source": [
    "from sklearn.ensemble import RandomForestClassifier\n",
    "\n",
    "rf_clf = RandomForestClassifier(n_estimators=500, n_jobs=-1, max_depth=10, oob_score=True)\n",
    "rf_clf.fit(train_X_data, train_y_data)\n",
    "\n",
    "for name, score in zip(feature_names, rf_clf.feature_importances_):\n",
    "    print(name, score)\n",
    "    \n",
    "print(\"\\n\\nOut of Bag Validation:\", rf_clf.oob_score_)"
   ]
  },
  {
   "cell_type": "code",
   "execution_count": null,
   "metadata": {},
   "outputs": [],
   "source": []
  },
  {
   "cell_type": "code",
   "execution_count": null,
   "metadata": {},
   "outputs": [],
   "source": []
  },
  {
   "cell_type": "code",
   "execution_count": null,
   "metadata": {},
   "outputs": [],
   "source": []
  },
  {
   "cell_type": "markdown",
   "metadata": {},
   "source": [
    "# Boston Housing Cost Estimator\n",
    "\n",
    "Building off the classifier examples above, this section shows ensemble regressors using bagging and random forests."
   ]
  },
  {
   "cell_type": "markdown",
   "metadata": {},
   "source": [
    "## Setup"
   ]
  },
  {
   "cell_type": "code",
   "execution_count": 8,
   "metadata": {},
   "outputs": [],
   "source": [
    "# Load Data Set\n",
    "boston_housing_data = datasets.load_boston()\n",
    "\n",
    "train_X, test_X, train_y, test_y = train_test_split(boston_housing_data.data,\n",
    "                                                   boston_housing_data.target,\n",
    "                                                   test_size=0.33)\n",
    "\n",
    "def plot_learning_curves(model, X, y):\n",
    "    \"\"\"\n",
    "    Plots performance on the training set and testing (validation) set.\n",
    "    X-axis - number of training samples used\n",
    "    Y-axis - RMSE\n",
    "    \"\"\"\n",
    "    \n",
    "    train_X, test_X, train_y, test_y = train_test_split(X, y, test_size = 0.20)\n",
    "    \n",
    "    training_errors, validation_errors = [], []\n",
    "    \n",
    "    for m in range(1, len(train_X)):\n",
    "        \n",
    "        model.fit(train_X[:m], train_y[:m])\n",
    "        \n",
    "        train_pred = model.predict(train_X)\n",
    "        test_pred = model.predict(test_X)\n",
    "        \n",
    "        training_errors.append(np.sqrt(mean_squared_error(train_y, train_pred)))\n",
    "        validation_errors.append(np.sqrt(mean_squared_error(test_y, test_pred)))\n",
    "        \n",
    "    plt.plot(training_errors, \"r-+\", label=\"train\")\n",
    "    plt.plot(validation_errors, \"b-\", label=\"test\")\n",
    "    plt.legend()\n",
    "    plt.axis([0, 80, 0, 3])"
   ]
  },
  {
   "cell_type": "markdown",
   "metadata": {},
   "source": [
    "## Linear Regression on Boston Data Set (for comparison)\n",
    "\n",
    "For comparison a linear regression on the boston data is shown."
   ]
  },
  {
   "cell_type": "markdown",
   "metadata": {},
   "source": [
    "\n"
   ]
  },
  {
   "cell_type": "code",
   "execution_count": 9,
   "metadata": {},
   "outputs": [
    {
     "name": "stdout",
     "output_type": "stream",
     "text": [
      "Theta:\n",
      "40.94686901090128 [-5.46190778e-02  4.73875834e-02  5.28204503e-02  3.95972092e+00\n",
      " -2.17799715e+01  3.46352948e+00  5.76673988e-03 -1.27969757e+00\n",
      "  2.90699240e-01 -1.02886979e-02 -1.07999939e+00  9.20534769e-03\n",
      " -5.24189931e-01]\n",
      "MAE = 3.496658949824057\n"
     ]
    },
    {
     "data": {
      "text/plain": [
       "[0, 300, 0, 10]"
      ]
     },
     "execution_count": 9,
     "metadata": {},
     "output_type": "execute_result"
    },
    {
     "data": {
      "image/png": "[encoded data removed]",
      "text/plain": [
       "<Figure size 432x288 with 1 Axes>"
      ]
     },
     "metadata": {
      "needs_background": "light"
     },
     "output_type": "display_data"
    },
    {
     "data": {
      "image/png": "[encoded data removed]",
      "text/plain": [
       "<Figure size 432x288 with 1 Axes>"
      ]
     },
     "metadata": {
      "needs_background": "light"
     },
     "output_type": "display_data"
    }
   ],
   "source": [
    "from sklearn.linear_model import LinearRegression\n",
    "\n",
    "lin_reg = LinearRegression()\n",
    "lin_reg.fit(train_X,train_y)\n",
    "pred_y = lin_reg.predict(test_X)\n",
    "\n",
    "# Outputs the intercept and coefficient of the model (theta_0 and theta_1 respectively)\n",
    "print(\"Theta:\")\n",
    "print(lin_reg.intercept_, lin_reg.coef_)\n",
    "\n",
    "plt.figure(\"a\")\n",
    "plt.hist(abs(test_y - pred_y),bins=100)\n",
    "plt.xlabel(\"Error ($k)\")\n",
    "\n",
    "print(\"MAE = \" + str(mean_absolute_error(test_y, pred_y)))\n",
    "\n",
    "plt.figure(\"b\")\n",
    "plot_learning_curves(lin_reg, train_X, train_y)\n",
    "plt.axis([0,300,0,10])"
   ]
  },
  {
   "cell_type": "markdown",
   "metadata": {},
   "source": []
  },
  {
   "cell_type": "markdown",
   "metadata": {},
   "source": [
    "## Bagging Regressor using Linear Regression as Base\n",
    "\n",
    "This example implements a bagging regressor with a linear regression model as the base classifier.  It shows the histogram of the price estimation error.  It also shows the learning curve for the model."
   ]
  },
  {
   "cell_type": "code",
   "execution_count": 10,
   "metadata": {},
   "outputs": [
    {
     "name": "stdout",
     "output_type": "stream",
     "text": [
      "Theta:\n",
      "37.971346224019584 [-3.11949527e-02  4.88083583e-02  8.33296341e-02  4.88762641e+00\n",
      " -2.23602370e+01  3.79242576e+00  5.51507569e-03 -1.28362515e+00\n",
      "  3.03570389e-01 -9.71918315e-03 -1.05872173e+00  1.02544093e-02\n",
      " -5.42042249e-01]\n",
      "MAE = 3.4966589498241043\n"
     ]
    },
    {
     "data": {
      "text/plain": [
       "[0, 300, 0, 10]"
      ]
     },
     "execution_count": 10,
     "metadata": {},
     "output_type": "execute_result"
    },
    {
     "data": {
      "image/png": "[encoded data removed]",
      "text/plain": [
       "<Figure size 432x288 with 1 Axes>"
      ]
     },
     "metadata": {
      "needs_background": "light"
     },
     "output_type": "display_data"
    },
    {
     "data": {
      "image/png": "[encoded data removed]",
      "text/plain": [
       "<Figure size 432x288 with 1 Axes>"
      ]
     },
     "metadata": {
      "needs_background": "light"
     },
     "output_type": "display_data"
    }
   ],
   "source": [
    "## Bagging with Linear Regression\n",
    "\n",
    "from sklearn.ensemble import BaggingRegressor\n",
    "from sklearn.linear_model import LinearRegression\n",
    "\n",
    "base_reg = LinearRegression()\n",
    "\n",
    "bag_reg = BaggingRegressor(\n",
    "    base_reg,\n",
    "    n_estimators = 500,\n",
    "    max_samples=1.0,\n",
    "    n_jobs = -1,\n",
    "    bootstrap=False) #Not replacement for this configuration\n",
    "\n",
    "bag_reg.fit(train_X, train_y)\n",
    "\n",
    "pred_y = bag_reg.predict(test_X)\n",
    "\n",
    "# Outputs the intercept and coefficient of the model (theta_0 and theta_1 respectively)\n",
    "print(\"Theta:\")\n",
    "print(lin_reg.intercept_, lin_reg.coef_)\n",
    "\n",
    "plt.figure(\"a\")\n",
    "plt.hist(abs(test_y - pred_y),bins=100)\n",
    "plt.xlabel(\"Error ($k)\")\n",
    "\n",
    "print(\"MAE = \" + str(mean_absolute_error(test_y, pred_y)))\n",
    "\n",
    "plt.figure(\"b\")\n",
    "plot_learning_curves(lin_reg, train_X, train_y)\n",
    "plt.axis([0,300,0,10])"
   ]
  },
  {
   "cell_type": "code",
   "execution_count": null,
   "metadata": {},
   "outputs": [],
   "source": []
  },
  {
   "cell_type": "markdown",
   "metadata": {},
   "source": [
    "## Random Forest Regression Example\n",
    "\n",
    "This example implements a random forest regressor using decision trees up to depth 10.  It shows the histogram of the price estimation error.  It also shows the learning curve for the model."
   ]
  },
  {
   "cell_type": "code",
   "execution_count": 11,
   "metadata": {},
   "outputs": [
    {
     "name": "stdout",
     "output_type": "stream",
     "text": [
      "Theta:\n",
      "39.0676034865034 [-5.41896135e-02  4.06444373e-02  2.65716919e-02  4.52127700e+00\n",
      " -2.19598064e+01  3.54591175e+00  7.70951655e-03 -1.22984540e+00\n",
      "  3.01399219e-01 -9.48922928e-03 -1.02210279e+00  8.84100907e-03\n",
      " -5.23344551e-01]\n",
      "MAE = 2.222767733456878\n"
     ]
    },
    {
     "data": {
      "text/plain": [
       "[0, 300, 0, 10]"
      ]
     },
     "execution_count": 11,
     "metadata": {},
     "output_type": "execute_result"
    },
    {
     "data": {
      "image/png": "[encoded data removed]",
      "text/plain": [
       "<Figure size 432x288 with 1 Axes>"
      ]
     },
     "metadata": {
      "needs_background": "light"
     },
     "output_type": "display_data"
    },
    {
     "data": {
      "image/png": "[encoded data removed]",
      "text/plain": [
       "<Figure size 432x288 with 1 Axes>"
      ]
     },
     "metadata": {
      "needs_background": "light"
     },
     "output_type": "display_data"
    }
   ],
   "source": [
    "from sklearn.ensemble import RandomForestRegressor\n",
    "\n",
    "rf_reg = RandomForestRegressor(n_estimators=50, n_jobs=-1, max_depth=10)\n",
    "\n",
    "rf_reg.fit(train_X, train_y)\n",
    "\n",
    "pred_y = rf_reg.predict(test_X)\n",
    "\n",
    "# Outputs the intercept and coefficient of the model (theta_0 and theta_1 respectively)\n",
    "print(\"Theta:\")\n",
    "print(lin_reg.intercept_, lin_reg.coef_)\n",
    "\n",
    "plt.figure(\"a\")\n",
    "plt.hist(abs(test_y - pred_y),bins=100)\n",
    "plt.xlabel(\"Error ($k)\")\n",
    "\n",
    "print(\"MAE = \" + str(mean_absolute_error(test_y, pred_y)))\n",
    "\n",
    "plt.figure(\"b\")\n",
    "plot_learning_curves(lin_reg, train_X, train_y)\n",
    "plt.axis([0,300,0,10])"
   ]
  },
  {
   "cell_type": "code",
   "execution_count": null,
   "metadata": {},
   "outputs": [],
   "source": []
  },
  {
   "cell_type": "markdown",
   "metadata": {},
   "source": [
    "## Random Forest Regressor: Feature Importance and Out of Bag Validation Score\n",
    "\n",
    "This example shows a random forest regressor using decision trees constrained to a maximum depth of 10.  Out of bag score is enabled.  "
   ]
  },
  {
   "cell_type": "code",
   "execution_count": 12,
   "metadata": {},
   "outputs": [
    {
     "name": "stdout",
     "output_type": "stream",
     "text": [
      "CRIM 0.03286861034296195\n",
      "ZN 0.0011545057812899816\n",
      "INDUS 0.005809413079362309\n",
      "CHAS 0.0008244084843174658\n",
      "NOX 0.02508285653390117\n",
      "RM 0.28676435899913083\n",
      "AGE 0.017221743338127815\n",
      "DIS 0.052805164905148326\n",
      "RAD 0.003757265170370122\n",
      "TAX 0.012525620743861727\n",
      "PTRATIO 0.0229284709713859\n",
      "B 0.015341433178425175\n",
      "LSTAT 0.5229161484717173\n",
      "\n",
      "\n",
      "Out of Bag Validation: 0.8412992736573659\n"
     ]
    }
   ],
   "source": [
    "from sklearn.ensemble import RandomForestRegressor\n",
    "\n",
    "rf_reg = RandomForestRegressor(n_estimators=500, n_jobs=-1, max_depth=10, oob_score=True)\n",
    "rf_reg.fit(train_X, train_y)\n",
    "\n",
    "for name, score in zip(boston_housing_data.feature_names, rf_reg.feature_importances_):\n",
    "    print(name, score)\n",
    "    \n",
    "print(\"\\n\\nOut of Bag Validation:\", rf_reg.oob_score_)"
   ]
  }
 ],
 "metadata": {
  "kernelspec": {
   "display_name": "Python [default]",
   "language": "python",
   "name": "python3"
  },
  "language_info": {
   "codemirror_mode": {
    "name": "ipython",
    "version": 3
   },
   "file_extension": ".py",
   "mimetype": "text/x-python",
   "name": "python",
   "nbconvert_exporter": "python",
   "pygments_lexer": "ipython3",
   "version": "3.7.0"
  }
 },
 "nbformat": 4,
 "nbformat_minor": 2
}
