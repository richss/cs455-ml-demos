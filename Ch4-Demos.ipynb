{
 "cells": [
  {
   "cell_type": "markdown",
   "metadata": {},
   "source": [
    "# Introduction\n",
    "\n"
   ]
  },
  {
   "cell_type": "markdown",
   "metadata": {},
   "source": [
    "## Demonstration Setup"
   ]
  },
  {
   "cell_type": "code",
   "execution_count": null,
   "metadata": {
    "collapsed": true
   },
   "outputs": [],
   "source": [
    "import numpy as np\n",
    "from matplotlib import pyplot as plt\n",
    "%matplotlib inline "
   ]
  },
  {
   "cell_type": "code",
   "execution_count": 4,
   "metadata": {},
   "outputs": [
    {
     "data": {
      "text/plain": [
       "[<matplotlib.lines.Line2D at 0x198ed2144e0>]"
      ]
     },
     "execution_count": 4,
     "metadata": {},
     "output_type": "execute_result"
    },
    {
     "data": {
      "image/png": "[encoded data removed]",
      "text/plain": [
       "<matplotlib.figure.Figure at 0x198ecf2f5f8>"
      ]
     },
     "metadata": {},
     "output_type": "display_data"
    }
   ],
   "source": [
    "# Data Preparation\n",
    "X = 2 * np.random.rand(100,1)\n",
    "X_b = np.c_[np.ones((100,1)), X]\n",
    "y = 4 + 3*X + np.random.randn(100,1)  #y = 3x + 4  +guassian noise\n",
    "\n",
    "# Plot the data\n",
    "plt.plot(X,y, \"b.\")"
   ]
  },
  {
   "cell_type": "code",
   "execution_count": 5,
   "metadata": {
    "collapsed": true
   },
   "outputs": [],
   "source": [
    "def showProgress(i, X, y, theta):\n",
    "    \"\"\"\n",
    "    Helper function to show progress by (a) printing current theta and (b) plotting current\n",
    "    regression\n",
    "    \"\"\"\n",
    "    print(\"Theta (i=\" + str(i+1) + \"): \" + str(theta))\n",
    "    \n",
    "    # Predict on x=0 and x=2\n",
    "    X_new = np.array([[0],[2]])\n",
    "    X_new_b = np.c_[np.ones((2,1)), X_new] # [[1,0][1,2]]\n",
    "    y_predict = X_new_b.dot(theta)\n",
    "    \n",
    "    # Plot prediction\n",
    "    plt.plot(X_new, y_predict)\n",
    "    if (i==0): \n",
    "        plt.plot(X,y, \"b.\")"
   ]
  },
  {
   "cell_type": "code",
   "execution_count": null,
   "metadata": {
    "collapsed": true
   },
   "outputs": [],
   "source": [
    "#####################################################################\n",
    "#####################################################################"
   ]
  },
  {
   "cell_type": "markdown",
   "metadata": {},
   "source": [
    "# Linear Regression\n",
    "\n",
    "## Linear Regression - Closed-Form Solution"
   ]
  },
  {
   "cell_type": "code",
   "execution_count": 9,
   "metadata": {
    "collapsed": true
   },
   "outputs": [],
   "source": [
    "import numpy as np\n",
    "from matplotlib import pyplot as plt\n",
    "from sklearn.linear_model import LinearRegression\n",
    "%matplotlib inline "
   ]
  },
  {
   "cell_type": "code",
   "execution_count": 6,
   "metadata": {
    "scrolled": true
   },
   "outputs": [
    {
     "name": "stdout",
     "output_type": "stream",
     "text": [
      "Theta (i=1): [[3.70000245]\n",
      " [3.2217283 ]]\n"
     ]
    },
    {
     "data": {
      "image/png": "[encoded data removed]",
      "text/plain": [
       "<matplotlib.figure.Figure at 0x198ed22d240>"
      ]
     },
     "metadata": {},
     "output_type": "display_data"
    }
   ],
   "source": [
    "# Solve normal equation for theta\n",
    "theta = np.linalg.inv( X_b.T.dot(X_b) ).dot(X_b.T).dot(y)\n",
    "\n",
    "showProgress(0, X, y, theta)"
   ]
  },
  {
   "cell_type": "code",
   "execution_count": 7,
   "metadata": {},
   "outputs": [
    {
     "name": "stdout",
     "output_type": "stream",
     "text": [
      "[[ 3.70000245]\n",
      " [ 5.3108666 ]\n",
      " [ 6.92173075]\n",
      " [ 8.5325949 ]\n",
      " [10.14345905]]\n"
     ]
    }
   ],
   "source": [
    "# Predictions based upon theta\n",
    "X_new = np.array([[0],[0.5],[1],[1.5],[2]])\n",
    "X_new_b = np.c_[np.ones((5,1)), X_new]\n",
    "y_predict = X_new_b.dot(theta)\n",
    "\n",
    "print(y_predict)"
   ]
  },
  {
   "cell_type": "code",
   "execution_count": null,
   "metadata": {
    "collapsed": true
   },
   "outputs": [],
   "source": [
    "#####################################################################"
   ]
  },
  {
   "cell_type": "markdown",
   "metadata": {},
   "source": [
    "## Linear Regression using Scikit-Learn"
   ]
  },
  {
   "cell_type": "code",
   "execution_count": 10,
   "metadata": {},
   "outputs": [
    {
     "name": "stdout",
     "output_type": "stream",
     "text": [
      "Theta (i=1): [array([3.70000245]), array([[3.2217283]])]\n"
     ]
    },
    {
     "data": {
      "image/png": "[encoded data removed]",
      "text/plain": [
       "<matplotlib.figure.Figure at 0x198efa426a0>"
      ]
     },
     "metadata": {},
     "output_type": "display_data"
    }
   ],
   "source": [
    "#  Create a linear regression and train it\n",
    "lin_reg = LinearRegression()\n",
    "lin_reg.fit(X,y)\n",
    "\n",
    "theta = [lin_reg.intercept_, lin_reg.coef_]\n",
    "showProgress(0, X, y, theta)"
   ]
  },
  {
   "cell_type": "code",
   "execution_count": 11,
   "metadata": {},
   "outputs": [
    {
     "name": "stdout",
     "output_type": "stream",
     "text": [
      "[[ 3.70000245]\n",
      " [ 5.3108666 ]\n",
      " [ 6.92173075]\n",
      " [ 8.5325949 ]\n",
      " [10.14345905]]\n"
     ]
    }
   ],
   "source": [
    "# Make a prediction using trained model\n",
    "X_new = np.array([[0],[0.5],[1],[1.5],[2]])\n",
    "X_new_b = np.c_[np.ones((5,1)), X_new]\n",
    "y_predict = lin_reg.predict(X_new)\n",
    "\n",
    "print(y_predict)"
   ]
  },
  {
   "cell_type": "code",
   "execution_count": null,
   "metadata": {
    "collapsed": true
   },
   "outputs": [],
   "source": [
    "#####################################################################"
   ]
  },
  {
   "cell_type": "markdown",
   "metadata": {},
   "source": [
    "## Batch Linear Regression"
   ]
  },
  {
   "cell_type": "code",
   "execution_count": 12,
   "metadata": {},
   "outputs": [
    {
     "name": "stdout",
     "output_type": "stream",
     "text": [
      "Theta (i=1): [[0.15453216]\n",
      " [0.72528491]]\n",
      "Theta (i=1): [[1.35518586]\n",
      " [2.08687416]]\n",
      "Theta (i=2): [[2.04760647]\n",
      " [2.85018456]]\n",
      "Theta (i=3): [[2.45124411]\n",
      " [3.27429193]]\n",
      "Theta (i=4): [[2.69064579]\n",
      " [3.50620775]]\n",
      "Theta (i=5): [[2.83650199]\n",
      " [3.62934887]]\n",
      "Theta (i=6): [[2.92893997]\n",
      " [3.69104349]]\n",
      "Theta (i=7): [[2.99074244]\n",
      " [3.71814031]]\n",
      "Theta (i=8): [[3.03484894]\n",
      " [3.72586654]]\n",
      "Theta (i=9): [[3.06861281]\n",
      " [3.72285465]]\n",
      "Theta (i=10): [[3.09621697]\n",
      " [3.71399498]]\n",
      "Theta (i=11): [[3.12004479]\n",
      " [3.70205455]]\n",
      "Theta (i=12): [[3.14145818]\n",
      " [3.6885957 ]]\n",
      "Theta (i=13): [[3.16123898]\n",
      " [3.67449738]]\n",
      "Theta (i=14): [[3.17983964]\n",
      " [3.66025101]]\n",
      "Theta (i=15): [[3.19752533]\n",
      " [3.64612832]]\n",
      "Theta (i=16): [[3.21445471]\n",
      " [3.63227658]]\n",
      "Theta (i=17): [[3.23072566]\n",
      " [3.61877271]]\n",
      "Theta (i=18): [[3.2464014 ]\n",
      " [3.60565391]]\n",
      "Theta (i=19): [[3.26152513]\n",
      " [3.59293504]]\n",
      "Theta (i=20): [[3.27612851]\n",
      " [3.5806185 ]]\n",
      "Theta (i=21): [[3.29023639]\n",
      " [3.56869983]]\n",
      "Theta (i=22): [[3.30386952]\n",
      " [3.55717085]]\n",
      "Theta (i=23): [[3.31704614]\n",
      " [3.54602147]]\n",
      "Theta (i=24): [[3.32978278]\n",
      " [3.5352407 ]]\n",
      "Theta (i=25): [[3.34209488]\n",
      " [3.5248172 ]]\n",
      "Theta (i=26): [[3.35399698]\n",
      " [3.51473963]]\n",
      "Theta (i=27): [[3.36550298]\n",
      " [3.50499677]]\n",
      "Theta (i=28): [[3.37662619]\n",
      " [3.49557766]]\n",
      "Theta (i=29): [[3.38737941]\n",
      " [3.48647163]]\n",
      "Theta (i=30): [[3.397775  ]\n",
      " [3.47766834]]\n",
      "Theta (i=31): [[3.40782488]\n",
      " [3.46915773]]\n",
      "Theta (i=32): [[3.41754055]\n",
      " [3.4609301 ]]\n",
      "Theta (i=33): [[3.42693315]\n",
      " [3.45297605]]\n",
      "Theta (i=34): [[3.4360134 ]\n",
      " [3.44528648]]\n",
      "Theta (i=35): [[3.44479172]\n",
      " [3.43785261]]\n",
      "Theta (i=36): [[3.45327813]\n",
      " [3.43066593]]\n",
      "Theta (i=37): [[3.46148234]\n",
      " [3.42371822]]\n",
      "Theta (i=38): [[3.46941374]\n",
      " [3.41700154]]\n",
      "Theta (i=39): [[3.47708141]\n",
      " [3.41050821]]\n",
      "Theta (i=40): [[3.4844941]\n",
      " [3.4042308]]\n",
      "Theta (i=41): [[3.4916603 ]\n",
      " [3.39816212]]\n",
      "Theta (i=42): [[3.49858821]\n",
      " [3.39229525]]\n",
      "Theta (i=43): [[3.50528575]\n",
      " [3.38662347]]\n",
      "Theta (i=44): [[3.51176057]\n",
      " [3.38114028]]\n",
      "Theta (i=45): [[3.51802009]\n",
      " [3.37583943]]\n",
      "Theta (i=46): [[3.52407147]\n",
      " [3.37071484]]\n",
      "Theta (i=47): [[3.52992163]\n",
      " [3.36576066]]\n",
      "Theta (i=48): [[3.53557725]\n",
      " [3.36097121]]\n",
      "Theta (i=49): [[3.5410448 ]\n",
      " [3.35634103]]\n",
      "Theta (i=50): [[3.54633055]\n",
      " [3.35186482]]\n",
      "Theta (i=51): [[3.55144053]\n",
      " [3.34753744]]\n",
      "Theta (i=52): [[3.55638059]\n",
      " [3.34335397]]\n",
      "Theta (i=53): [[3.56115639]\n",
      " [3.33930961]]\n",
      "Theta (i=54): [[3.56577337]\n",
      " [3.33539973]]\n",
      "Theta (i=55): [[3.57023683]\n",
      " [3.33161986]]\n",
      "Theta (i=56): [[3.57455187]\n",
      " [3.32796569]]\n",
      "Theta (i=57): [[3.57872342]\n",
      " [3.32443303]]\n",
      "Theta (i=58): [[3.58275626]\n",
      " [3.32101783]]\n",
      "Theta (i=59): [[3.58665499]\n",
      " [3.3177162 ]]\n",
      "Theta (i=60): [[3.59042408]\n",
      " [3.31452436]]\n",
      "Theta (i=61): [[3.59406784]\n",
      " [3.31143865]]\n",
      "Theta (i=62): [[3.59759044]\n",
      " [3.30845556]]\n",
      "Theta (i=63): [[3.6009959 ]\n",
      " [3.30557165]]\n",
      "Theta (i=64): [[3.60428812]\n",
      " [3.30278365]]\n",
      "Theta (i=65): [[3.60747086]\n",
      " [3.30008835]]\n",
      "Theta (i=66): [[3.61054778]\n",
      " [3.29748268]]\n",
      "Theta (i=67): [[3.61352237]\n",
      " [3.29496365]]\n",
      "Theta (i=68): [[3.61639805]\n",
      " [3.29252839]]\n",
      "Theta (i=69): [[3.61917811]\n",
      " [3.29017411]]\n",
      "Theta (i=70): [[3.62186573]\n",
      " [3.28789811]]\n",
      "Theta (i=71): [[3.62446397]\n",
      " [3.2856978 ]]\n",
      "Theta (i=72): [[3.62697582]\n",
      " [3.28357065]]\n",
      "Theta (i=73): [[3.62940414]\n",
      " [3.28151423]]\n",
      "Theta (i=74): [[3.63175172]\n",
      " [3.2795262 ]]\n",
      "Theta (i=75): [[3.63402123]\n",
      " [3.27760427]]\n",
      "Theta (i=76): [[3.63621527]\n",
      " [3.27574625]]\n",
      "Theta (i=77): [[3.63833636]\n",
      " [3.27395002]]\n",
      "Theta (i=78): [[3.64038691]\n",
      " [3.27221351]]\n",
      "Theta (i=79): [[3.64236928]\n",
      " [3.27053475]]\n",
      "Theta (i=80): [[3.64428573]\n",
      " [3.26891181]]\n",
      "Theta (i=81): [[3.64613845]\n",
      " [3.26734284]]\n",
      "Theta (i=82): [[3.64792957]\n",
      " [3.26582604]]\n",
      "Theta (i=83): [[3.64966112]\n",
      " [3.26435968]]\n",
      "Theta (i=84): [[3.6513351 ]\n",
      " [3.26294208]]\n",
      "Theta (i=85): [[3.65295341]\n",
      " [3.26157161]]\n",
      "Theta (i=86): [[3.65451791]\n",
      " [3.26024672]]\n",
      "Theta (i=87): [[3.65603039]\n",
      " [3.25896589]]\n",
      "Theta (i=88): [[3.65749257]\n",
      " [3.25772764]]\n",
      "Theta (i=89): [[3.65890614]\n",
      " [3.25653057]]\n",
      "Theta (i=90): [[3.66027269]\n",
      " [3.25537331]]\n",
      "Theta (i=91): [[3.66159381]\n",
      " [3.25425453]]\n",
      "Theta (i=92): [[3.66287099]\n",
      " [3.25317295]]\n",
      "Theta (i=93): [[3.66410571]\n",
      " [3.25212733]]\n",
      "Theta (i=94): [[3.66529937]\n",
      " [3.25111649]]\n",
      "Theta (i=95): [[3.66645333]\n",
      " [3.25013925]]\n",
      "Theta (i=96): [[3.66756893]\n",
      " [3.24919452]]\n",
      "Theta (i=97): [[3.66864742]\n",
      " [3.2482812 ]]\n",
      "Theta (i=98): [[3.66969006]\n",
      " [3.24739824]]\n",
      "Theta (i=99): [[3.67069802]\n",
      " [3.24654465]]\n",
      "Theta (i=100): [[3.67167247]\n",
      " [3.24571945]]\n",
      "Theta (i=101): [[3.67261451]\n",
      " [3.24492168]]\n",
      "Theta (i=102): [[3.67352523]\n",
      " [3.24415044]]\n",
      "Theta (i=103): [[3.67440567]\n",
      " [3.24340485]]\n",
      "Theta (i=104): [[3.67525683]\n",
      " [3.24268405]]\n",
      "Theta (i=105): [[3.67607968]\n",
      " [3.24198722]]\n",
      "Theta (i=106): [[3.67687517]\n",
      " [3.24131355]]\n",
      "Theta (i=107): [[3.67764421]\n",
      " [3.24066229]]\n",
      "Theta (i=108): [[3.67838768]\n",
      " [3.24003269]]\n",
      "Theta (i=109): [[3.67910643]\n",
      " [3.23942402]]\n",
      "Theta (i=110): [[3.67980127]\n",
      " [3.2388356 ]]\n",
      "Theta (i=111): [[3.68047301]\n",
      " [3.23826673]]\n",
      "Theta (i=112): [[3.68112242]\n",
      " [3.23771679]]\n",
      "Theta (i=113): [[3.68175023]\n",
      " [3.23718513]]\n",
      "Theta (i=114): [[3.68235716]\n",
      " [3.23667115]]\n",
      "Theta (i=115): [[3.68294391]\n",
      " [3.23617427]]\n",
      "Theta (i=116): [[3.68351115]\n",
      " [3.2356939 ]]\n",
      "Theta (i=117): [[3.68405953]\n",
      " [3.23522951]]\n",
      "Theta (i=118): [[3.68458967]\n",
      " [3.23478056]]\n",
      "Theta (i=119): [[3.68510219]\n",
      " [3.23434654]]\n",
      "Theta (i=120): [[3.68559766]\n",
      " [3.23392695]]\n",
      "Theta (i=121): [[3.68607665]\n",
      " [3.23352131]]\n",
      "Theta (i=122): [[3.68653972]\n",
      " [3.23312917]]\n",
      "Theta (i=123): [[3.68698739]\n",
      " [3.23275006]]\n",
      "Theta (i=124): [[3.68742017]\n",
      " [3.23238356]]\n",
      "Theta (i=125): [[3.68783857]\n",
      " [3.23202924]]\n",
      "Theta (i=126): [[3.68824305]\n",
      " [3.23168671]]\n",
      "Theta (i=127): [[3.68863408]\n",
      " [3.23135557]]\n",
      "Theta (i=128): [[3.6890121 ]\n",
      " [3.23103544]]\n",
      "Theta (i=129): [[3.68937756]\n",
      " [3.23072595]]\n",
      "Theta (i=130): [[3.68973087]\n",
      " [3.23042676]]\n",
      "Theta (i=131): [[3.69007242]\n",
      " [3.23013751]]\n",
      "Theta (i=132): [[3.69040262]\n",
      " [3.22985788]]\n",
      "Theta (i=133): [[3.69072184]\n",
      " [3.22958755]]\n",
      "Theta (i=134): [[3.69103044]\n",
      " [3.22932621]]\n",
      "Theta (i=135): [[3.69132879]\n",
      " [3.22907356]]\n",
      "Theta (i=136): [[3.69161721]\n",
      " [3.22882931]]\n",
      "Theta (i=137): [[3.69189604]\n",
      " [3.22859319]]\n",
      "Theta (i=138): [[3.6921656 ]\n",
      " [3.22836491]]\n",
      "Theta (i=139): [[3.69242619]\n",
      " [3.22814423]]\n",
      "Theta (i=140): [[3.69267812]\n",
      " [3.22793088]]\n",
      "Theta (i=141): [[3.69292167]\n",
      " [3.22772463]]\n",
      "Theta (i=142): [[3.69315713]\n",
      " [3.22752524]]\n",
      "Theta (i=143): [[3.69338475]\n",
      " [3.22733247]]\n",
      "Theta (i=144): [[3.69360481]\n",
      " [3.22714612]]\n",
      "Theta (i=145): [[3.69381755]\n",
      " [3.22696597]]\n",
      "Theta (i=146): [[3.69402321]\n",
      " [3.2267918 ]]\n",
      "Theta (i=147): [[3.69422203]\n",
      " [3.22662343]]\n",
      "Theta (i=148): [[3.69441425]\n",
      " [3.22646065]]\n",
      "Theta (i=149): [[3.69460007]\n",
      " [3.22630329]]\n",
      "Theta (i=150): [[3.69477971]\n",
      " [3.22615116]]\n",
      "Theta (i=151): [[3.69495338]\n",
      " [3.22600409]]\n",
      "Theta (i=152): [[3.69512128]\n",
      " [3.22586191]]\n",
      "Theta (i=153): [[3.69528359]\n",
      " [3.22572445]]\n",
      "Theta (i=154): [[3.6954405 ]\n",
      " [3.22559157]]\n",
      "Theta (i=155): [[3.6955922 ]\n",
      " [3.22546311]]\n",
      "Theta (i=156): [[3.69573885]\n",
      " [3.22533892]]\n",
      "Theta (i=157): [[3.69588063]\n",
      " [3.22521885]]\n",
      "Theta (i=158): [[3.69601769]\n",
      " [3.22510278]]\n",
      "Theta (i=159): [[3.69615019]\n",
      " [3.22499057]]\n",
      "Theta (i=160): [[3.69627829]\n",
      " [3.22488209]]\n",
      "Theta (i=161): [[3.69640213]\n",
      " [3.22477722]]\n",
      "Theta (i=162): [[3.69652185]\n",
      " [3.22467584]]\n",
      "Theta (i=163): [[3.69663758]\n",
      " [3.22457783]]\n",
      "Theta (i=164): [[3.69674947]\n",
      " [3.22448307]]\n",
      "Theta (i=165): [[3.69685764]\n",
      " [3.22439147]]\n",
      "Theta (i=166): [[3.69696222]\n",
      " [3.22430291]]\n",
      "Theta (i=167): [[3.69706331]\n",
      " [3.2242173 ]]\n",
      "Theta (i=168): [[3.69716105]\n",
      " [3.22413453]]\n",
      "Theta (i=169): [[3.69725553]\n",
      " [3.22405452]]\n",
      "Theta (i=170): [[3.69734687]\n",
      " [3.22397717]]\n",
      "Theta (i=171): [[3.69743518]\n",
      " [3.22390239]]\n",
      "Theta (i=172): [[3.69752054]\n",
      " [3.22383009]]\n",
      "Theta (i=173): [[3.69760307]\n",
      " [3.2237602 ]]\n",
      "Theta (i=174): [[3.69768286]\n",
      " [3.22369264]]\n",
      "Theta (i=175): [[3.69775999]\n",
      " [3.22362732]]\n",
      "Theta (i=176): [[3.69783456]\n",
      " [3.22356417]]\n",
      "Theta (i=177): [[3.69790665]\n",
      " [3.22350312]]\n",
      "Theta (i=178): [[3.69797634]\n",
      " [3.22344411]]\n",
      "Theta (i=179): [[3.69804371]\n",
      " [3.22338705]]\n",
      "Theta (i=180): [[3.69810884]\n",
      " [3.22333189]]\n",
      "Theta (i=181): [[3.69817181]\n",
      " [3.22327857]]\n",
      "Theta (i=182): [[3.69823268]\n",
      " [3.22322702]]\n",
      "Theta (i=183): [[3.69829153]\n",
      " [3.22317718]]\n",
      "Theta (i=184): [[3.69834843]\n",
      " [3.223129  ]]\n",
      "Theta (i=185): [[3.69840343]\n",
      " [3.22308243]]\n",
      "Theta (i=186): [[3.6984566]\n",
      " [3.2230374]]\n",
      "Theta (i=187): [[3.698508  ]\n",
      " [3.22299387]]\n",
      "Theta (i=188): [[3.6985577 ]\n",
      " [3.22295179]]\n",
      "Theta (i=189): [[3.69860574]\n",
      " [3.2229111 ]]\n",
      "Theta (i=190): [[3.69865218]\n",
      " [3.22287177]]\n",
      "Theta (i=191): [[3.69869708]\n",
      " [3.22283375]]\n",
      "Theta (i=192): [[3.69874049]\n",
      " [3.22279699]]\n",
      "Theta (i=193): [[3.69878245]\n",
      " [3.22276145]]\n",
      "Theta (i=194): [[3.69882302]\n",
      " [3.2227271 ]]\n",
      "Theta (i=195): [[3.69886224]\n",
      " [3.22269388]]\n",
      "Theta (i=196): [[3.69890015]\n",
      " [3.22266178]]\n",
      "Theta (i=197): [[3.69893681]\n",
      " [3.22263074]]\n",
      "Theta (i=198): [[3.69897224]\n",
      " [3.22260073]]\n",
      "Theta (i=199): [[3.6990065 ]\n",
      " [3.22257172]]\n",
      "Theta (i=200): [[3.69903962]\n",
      " [3.22254367]]\n",
      "Theta (i=201): [[3.69907163]\n",
      " [3.22251656]]\n",
      "Theta (i=202): [[3.69910259]\n",
      " [3.22249035]]\n",
      "Theta (i=203): [[3.69913251]\n",
      " [3.22246501]]\n",
      "Theta (i=204): [[3.69916144]\n",
      " [3.22244051]]\n",
      "Theta (i=205): [[3.6991894 ]\n",
      " [3.22241683]]\n",
      "Theta (i=206): [[3.69921644]\n",
      " [3.22239393]]\n",
      "Theta (i=207): [[3.69924257]\n",
      " [3.2223718 ]]\n",
      "Theta (i=208): [[3.69926784]\n",
      " [3.2223504 ]]\n",
      "Theta (i=209): [[3.69929227]\n",
      " [3.22232971]]\n",
      "Theta (i=210): [[3.69931589]\n",
      " [3.22230972]]\n",
      "Theta (i=211): [[3.69933872]\n",
      " [3.22229038]]\n",
      "Theta (i=212): [[3.69936079]\n",
      " [3.22227169]]\n",
      "Theta (i=213): [[3.69938212]\n",
      " [3.22225362]]\n",
      "Theta (i=214): [[3.69940275]\n",
      " [3.22223615]]\n",
      "Theta (i=215): [[3.69942269]\n",
      " [3.22221927]]\n",
      "Theta (i=216): [[3.69944197]\n",
      " [3.22220294]]\n",
      "Theta (i=217): [[3.69946061]\n",
      " [3.22218716]]\n",
      "Theta (i=218): [[3.69947863]\n",
      " [3.2221719 ]]\n",
      "Theta (i=219): [[3.69949604]\n",
      " [3.22215715]]\n",
      "Theta (i=220): [[3.69951288]\n",
      " [3.22214289]]\n",
      "Theta (i=221): [[3.69952916]\n",
      " [3.2221291 ]]\n",
      "Theta (i=222): [[3.6995449 ]\n",
      " [3.22211578]]\n",
      "Theta (i=223): [[3.69956011]\n",
      " [3.22210289]]\n",
      "Theta (i=224): [[3.69957482]\n",
      " [3.22209043]]\n",
      "Theta (i=225): [[3.69958904]\n",
      " [3.22207839]]\n",
      "Theta (i=226): [[3.69960279]\n",
      " [3.22206675]]\n",
      "Theta (i=227): [[3.69961608]\n",
      " [3.2220555 ]]\n"
     ]
    },
    {
     "data": {
      "image/png": "[encoded data removed]",
      "text/plain": [
       "<matplotlib.figure.Figure at 0x198ed258cf8>"
      ]
     },
     "metadata": {},
     "output_type": "display_data"
    }
   ],
   "source": [
    "# Set algorithm parameters\n",
    "eta = 0.1 \n",
    "n_iterations = 10000\n",
    "m = (len(X)) # number of inputs\n",
    "epsilon = 0.00001\n",
    "\n",
    "# Initialize Linear Model's parameters\n",
    "theta = np.random.randn(2,1)\n",
    "showProgress(0, X, y, theta)\n",
    "\n",
    "# Train Linear Model\n",
    "for i in range(0,n_iterations):\n",
    "    \n",
    "    gradients = 2/m * X_b.T.dot(X_b.dot(theta) - y)  # 2/m * XT.(X.theta - y)\n",
    "\n",
    "    if np.mean(-gradients) < epsilon:\n",
    "        break\n",
    "    \n",
    "    theta = theta - eta * gradients\n",
    "    \n",
    "    showProgress(i, X, y, theta)"
   ]
  },
  {
   "cell_type": "code",
   "execution_count": 13,
   "metadata": {},
   "outputs": [
    {
     "name": "stdout",
     "output_type": "stream",
     "text": [
      "[[ 3.69961608]\n",
      " [ 5.31064383]\n",
      " [ 6.92167158]\n",
      " [ 8.53269932]\n",
      " [10.14372707]]\n"
     ]
    }
   ],
   "source": [
    "# Predictions based upon theta\n",
    "X_new = np.array([[0],[0.5],[1],[1.5],[2]])\n",
    "X_new_b = np.c_[np.ones((5,1)), X_new] \n",
    "\n",
    "y_predict = X_new_b.dot(theta)\n",
    "print(y_predict)"
   ]
  },
  {
   "cell_type": "code",
   "execution_count": null,
   "metadata": {
    "collapsed": true
   },
   "outputs": [],
   "source": [
    "#####################################################################"
   ]
  },
  {
   "cell_type": "markdown",
   "metadata": {},
   "source": [
    "## Stochastic Gradient Descent"
   ]
  },
  {
   "cell_type": "code",
   "execution_count": 14,
   "metadata": {
    "collapsed": true
   },
   "outputs": [],
   "source": [
    "# Learning Schedule\n",
    "t0, tn = 5, 50\n",
    "def learning_schedule(t):\n",
    "    return t0 / (t + tn)"
   ]
  },
  {
   "cell_type": "code",
   "execution_count": 15,
   "metadata": {},
   "outputs": [
    {
     "name": "stdout",
     "output_type": "stream",
     "text": [
      "Theta (i=1): [[-0.40073557]\n",
      " [-0.96722295]]\n",
      "Theta (i=1): [[3.8725194 ]\n",
      " [3.29423341]]\n",
      "Theta (i=2): [[3.77494387]\n",
      " [3.3744193 ]]\n",
      "Theta (i=3): [[3.74221326]\n",
      " [3.15022739]]\n",
      "Theta (i=4): [[3.93220934]\n",
      " [3.26497585]]\n",
      "Theta (i=5): [[3.7199097 ]\n",
      " [3.10810814]]\n",
      "Theta (i=6): [[3.65331997]\n",
      " [3.21432977]]\n",
      "Theta (i=7): [[3.69457641]\n",
      " [3.3317751 ]]\n",
      "Theta (i=8): [[3.60040043]\n",
      " [3.24384907]]\n",
      "Theta (i=9): [[3.64778727]\n",
      " [3.33982242]]\n",
      "Theta (i=10): [[3.52047017]\n",
      " [3.12610646]]\n",
      "Theta (i=11): [[3.60930129]\n",
      " [3.22056397]]\n",
      "Theta (i=12): [[3.61849841]\n",
      " [3.24670621]]\n",
      "Theta (i=13): [[3.59815346]\n",
      " [3.30539274]]\n",
      "Theta (i=14): [[3.66306064]\n",
      " [3.35131221]]\n",
      "Theta (i=15): [[3.65424659]\n",
      " [3.38577227]]\n",
      "Theta (i=16): [[3.59245219]\n",
      " [3.28561548]]\n",
      "Theta (i=17): [[3.61480699]\n",
      " [3.26916599]]\n",
      "Theta (i=18): [[3.64874876]\n",
      " [3.30270235]]\n",
      "Theta (i=19): [[3.66401119]\n",
      " [3.25035598]]\n",
      "Theta (i=20): [[3.67566363]\n",
      " [3.24383349]]\n",
      "Theta (i=21): [[3.68026822]\n",
      " [3.25016341]]\n",
      "Theta (i=22): [[3.70084597]\n",
      " [3.26509443]]\n",
      "Theta (i=23): [[3.62993429]\n",
      " [3.17210291]]\n",
      "Theta (i=24): [[3.69345182]\n",
      " [3.26419417]]\n",
      "Theta (i=25): [[3.67164283]\n",
      " [3.22963927]]\n",
      "Theta (i=26): [[3.61014941]\n",
      " [3.16072554]]\n",
      "Theta (i=27): [[3.62819388]\n",
      " [3.18054441]]\n",
      "Theta (i=28): [[3.61991244]\n",
      " [3.2142398 ]]\n",
      "Theta (i=29): [[3.64862132]\n",
      " [3.26283037]]\n",
      "Theta (i=30): [[3.66411589]\n",
      " [3.25922724]]\n",
      "Theta (i=31): [[3.65416151]\n",
      " [3.24733408]]\n",
      "Theta (i=32): [[3.65259303]\n",
      " [3.24440575]]\n",
      "Theta (i=33): [[3.62559668]\n",
      " [3.20564604]]\n",
      "Theta (i=34): [[3.67124569]\n",
      " [3.22483023]]\n",
      "Theta (i=35): [[3.66069335]\n",
      " [3.19352997]]\n",
      "Theta (i=36): [[3.73123329]\n",
      " [3.25551469]]\n",
      "Theta (i=37): [[3.71092407]\n",
      " [3.23105418]]\n",
      "Theta (i=38): [[3.64605421]\n",
      " [3.17826215]]\n",
      "Theta (i=39): [[3.65889038]\n",
      " [3.19613525]]\n",
      "Theta (i=40): [[3.66620952]\n",
      " [3.20813562]]\n",
      "Theta (i=41): [[3.7130545 ]\n",
      " [3.24267813]]\n",
      "Theta (i=42): [[3.69373497]\n",
      " [3.24699976]]\n",
      "Theta (i=43): [[3.66849424]\n",
      " [3.22057334]]\n",
      "Theta (i=44): [[3.67602306]\n",
      " [3.25551284]]\n",
      "Theta (i=45): [[3.67793328]\n",
      " [3.25047985]]\n",
      "Theta (i=46): [[3.65714889]\n",
      " [3.23158968]]\n",
      "Theta (i=47): [[3.6656895 ]\n",
      " [3.23415302]]\n",
      "Theta (i=48): [[3.69930243]\n",
      " [3.27978151]]\n",
      "Theta (i=49): [[3.70780057]\n",
      " [3.2911881 ]]\n",
      "Theta (i=50): [[3.6824365 ]\n",
      " [3.26690118]]\n"
     ]
    },
    {
     "data": {
      "text/plain": [
       "[<matplotlib.lines.Line2D at 0x198eff2b978>]"
      ]
     },
     "execution_count": 15,
     "metadata": {},
     "output_type": "execute_result"
    },
    {
     "data": {
      "image/png": "[encoded data removed]",
      "text/plain": [
       "<matplotlib.figure.Figure at 0x198edd6b748>"
      ]
     },
     "metadata": {},
     "output_type": "display_data"
    }
   ],
   "source": [
    "# Set loop\n",
    "n_epochs = 50\n",
    "m = (len(X)) # number of inputs\n",
    "\n",
    "# Initialize Linear Model's parameters\n",
    "theta = np.random.randn(2,1)\n",
    "showProgress(0, X, y, theta)\n",
    "\n",
    "\n",
    "# Train Linear Model\n",
    "for epoch in range(0, n_epochs):\n",
    "    for i in range(0,m):\n",
    "    \n",
    "        rand_idx = np.random.randint(m)\n",
    "        xi = X_b[rand_idx:rand_idx+1]\n",
    "        yi = y[rand_idx:rand_idx+1]\n",
    "        \n",
    "        gradients = 2 * xi.T.dot(xi.dot(theta) - yi)  # 2 * XT.(X.theta - y)\n",
    "        eta = learning_schedule(epoch*m + i)\n",
    "        theta = theta - eta * gradients\n",
    "        \n",
    "    showProgress(epoch, X, y, theta)\n",
    "\n",
    "plt.plot(X,y, \"b.\")"
   ]
  },
  {
   "cell_type": "code",
   "execution_count": 16,
   "metadata": {
    "scrolled": true
   },
   "outputs": [
    {
     "name": "stdout",
     "output_type": "stream",
     "text": [
      "[[ 3.6824365 ]\n",
      " [ 5.3158871 ]\n",
      " [ 6.94933769]\n",
      " [ 8.58278828]\n",
      " [10.21623887]]\n"
     ]
    }
   ],
   "source": [
    "# Predictions based upon theta\n",
    "# Data\n",
    "X_new = np.array([[0],[0.5],[1],[1.5],[2]])\n",
    "X_new_b = np.c_[np.ones((5,1)), X_new]\n",
    "\n",
    "# Prediction\n",
    "y_predict = X_new_b.dot(theta)\n",
    "print(y_predict)"
   ]
  },
  {
   "cell_type": "code",
   "execution_count": null,
   "metadata": {
    "collapsed": true
   },
   "outputs": [],
   "source": [
    "#####################################################################"
   ]
  },
  {
   "cell_type": "markdown",
   "metadata": {},
   "source": [
    "## Mini-Batch Gradient Descent"
   ]
  },
  {
   "cell_type": "code",
   "execution_count": 17,
   "metadata": {
    "collapsed": true
   },
   "outputs": [],
   "source": [
    "# Learning Schedule\n",
    "t0, tn = 5, 50\n",
    "def learning_schedule(t):\n",
    "    return t0 / (t + tn)"
   ]
  },
  {
   "cell_type": "code",
   "execution_count": 18,
   "metadata": {},
   "outputs": [
    {
     "name": "stdout",
     "output_type": "stream",
     "text": [
      "Theta (i=1): [[0.98181845]\n",
      " [0.57680788]]\n",
      "Theta (i=1): [[3.6762356 ]\n",
      " [3.36191433]]\n",
      "Theta (i=2): [[3.67961107]\n",
      " [3.15650207]]\n",
      "Theta (i=3): [[3.70748007]\n",
      " [3.22378149]]\n",
      "Theta (i=4): [[3.62750207]\n",
      " [3.18359029]]\n",
      "Theta (i=5): [[3.67736623]\n",
      " [3.17103884]]\n",
      "Theta (i=6): [[3.66726734]\n",
      " [3.20361982]]\n",
      "Theta (i=7): [[3.67569567]\n",
      " [3.24657443]]\n",
      "Theta (i=8): [[3.7056234 ]\n",
      " [3.25484099]]\n",
      "Theta (i=9): [[3.72014693]\n",
      " [3.25781729]]\n",
      "Theta (i=10): [[3.74601526]\n",
      " [3.27537902]]\n",
      "Theta (i=11): [[3.72786693]\n",
      " [3.22965615]]\n",
      "Theta (i=12): [[3.7141267 ]\n",
      " [3.21141833]]\n",
      "Theta (i=13): [[3.74277553]\n",
      " [3.25074907]]\n",
      "Theta (i=14): [[3.71351066]\n",
      " [3.2309959 ]]\n",
      "Theta (i=15): [[3.68720494]\n",
      " [3.21873957]]\n",
      "Theta (i=16): [[3.70822197]\n",
      " [3.23783891]]\n",
      "Theta (i=17): [[3.69721366]\n",
      " [3.23550964]]\n",
      "Theta (i=18): [[3.68932796]\n",
      " [3.23745102]]\n",
      "Theta (i=19): [[3.69015272]\n",
      " [3.22480012]]\n",
      "Theta (i=20): [[3.70691387]\n",
      " [3.24178401]]\n",
      "Theta (i=21): [[3.70170152]\n",
      " [3.24185544]]\n",
      "Theta (i=22): [[3.6904409 ]\n",
      " [3.22461037]]\n",
      "Theta (i=23): [[3.67820238]\n",
      " [3.20082655]]\n",
      "Theta (i=24): [[3.70613533]\n",
      " [3.23770875]]\n",
      "Theta (i=25): [[3.7171432 ]\n",
      " [3.25193695]]\n",
      "Theta (i=26): [[3.70812044]\n",
      " [3.23292644]]\n",
      "Theta (i=27): [[3.69491575]\n",
      " [3.21800379]]\n",
      "Theta (i=28): [[3.71246935]\n",
      " [3.22752025]]\n",
      "Theta (i=29): [[3.70709291]\n",
      " [3.22611963]]\n",
      "Theta (i=30): [[3.70490822]\n",
      " [3.21493918]]\n",
      "Theta (i=31): [[3.70404026]\n",
      " [3.22181708]]\n",
      "Theta (i=32): [[3.70819591]\n",
      " [3.23358171]]\n",
      "Theta (i=33): [[3.6940437 ]\n",
      " [3.20399166]]\n",
      "Theta (i=34): [[3.7088516 ]\n",
      " [3.22195885]]\n",
      "Theta (i=35): [[3.70018938]\n",
      " [3.21832518]]\n",
      "Theta (i=36): [[3.69260453]\n",
      " [3.20990392]]\n",
      "Theta (i=37): [[3.70619898]\n",
      " [3.22793769]]\n",
      "Theta (i=38): [[3.70037953]\n",
      " [3.22459743]]\n",
      "Theta (i=39): [[3.69054613]\n",
      " [3.21579237]]\n",
      "Theta (i=40): [[3.673919  ]\n",
      " [3.20333424]]\n",
      "Theta (i=41): [[3.68577325]\n",
      " [3.21230369]]\n",
      "Theta (i=42): [[3.68380835]\n",
      " [3.21133708]]\n",
      "Theta (i=43): [[3.69286993]\n",
      " [3.22752927]]\n",
      "Theta (i=44): [[3.70569329]\n",
      " [3.24234209]]\n",
      "Theta (i=45): [[3.69365616]\n",
      " [3.225763  ]]\n",
      "Theta (i=46): [[3.68000683]\n",
      " [3.21064261]]\n",
      "Theta (i=47): [[3.69801283]\n",
      " [3.22251416]]\n",
      "Theta (i=48): [[3.69522578]\n",
      " [3.21757279]]\n",
      "Theta (i=49): [[3.69835925]\n",
      " [3.22548691]]\n",
      "Theta (i=50): [[3.69033899]\n",
      " [3.2179378 ]]\n"
     ]
    },
    {
     "data": {
      "text/plain": [
       "[<matplotlib.lines.Line2D at 0x198efacc630>]"
      ]
     },
     "execution_count": 18,
     "metadata": {},
     "output_type": "execute_result"
    },
    {
     "data": {
      "image/png": "[encoded data removed]",
      "text/plain": [
       "<matplotlib.figure.Figure at 0x198eff227f0>"
      ]
     },
     "metadata": {},
     "output_type": "display_data"
    }
   ],
   "source": [
    "# Set loop\n",
    "n_epochs = 50\n",
    "m = (len(X)) # number of inputs\n",
    "\n",
    "# Initialize Linear Model's parameters\n",
    "theta = np.random.randn(2,1)\n",
    "showProgress(0, X, y, theta)\n",
    "\n",
    "batch_size = 5 # b\n",
    "\n",
    "\n",
    "# Train Linear Model\n",
    "for epoch in range(0, n_epochs):\n",
    "    for i in range(0,m):\n",
    "    \n",
    "        rand_idx = np.arange(m) #array from 0 to m-1\n",
    "        np.random.shuffle(rand_idx) #shuffle index arry\n",
    "\n",
    "        xi = X_b[rand_idx[:batch_size]] #grab labels for first b rows\n",
    "        yi = y[rand_idx[:batch_size]]   #grab labels for first b rows\n",
    "        \n",
    "        gradients = 2/batch_size * xi.T.dot(xi.dot(theta) - yi)  # 2/b * XT.(X.theta - y)\n",
    "        eta = learning_schedule(epoch*m + i)\n",
    "        theta = theta - eta * gradients\n",
    "        \n",
    "    showProgress(epoch, X, y, theta)\n",
    "\n",
    "plt.plot(X,y, \"b.\")"
   ]
  },
  {
   "cell_type": "code",
   "execution_count": 20,
   "metadata": {
    "scrolled": true
   },
   "outputs": [
    {
     "name": "stdout",
     "output_type": "stream",
     "text": [
      "[[ 3.69033899]\n",
      " [ 5.29930789]\n",
      " [ 6.90827679]\n",
      " [ 8.51724569]\n",
      " [10.12621459]]\n"
     ]
    }
   ],
   "source": [
    "# Predictions based upon theta\n",
    "\n",
    "# Data\n",
    "X_new = np.array([[0],[0.5],[1],[1.5],[2]])\n",
    "X_new_b = np.c_[np.ones((5,1)), X_new]\n",
    "\n",
    "# Prediction\n",
    "y_predict = X_new_b.dot(theta)\n",
    "print(y_predict)"
   ]
  },
  {
   "cell_type": "code",
   "execution_count": null,
   "metadata": {
    "collapsed": true
   },
   "outputs": [],
   "source": [
    "#####################################################################\n",
    "#####################################################################"
   ]
  },
  {
   "cell_type": "markdown",
   "metadata": {},
   "source": [
    "# Polynomial Regression"
   ]
  },
  {
   "cell_type": "code",
   "execution_count": 24,
   "metadata": {
    "collapsed": true
   },
   "outputs": [],
   "source": [
    "from sklearn.preprocessing import PolynomialFeatures"
   ]
  },
  {
   "cell_type": "code",
   "execution_count": 25,
   "metadata": {},
   "outputs": [
    {
     "data": {
      "text/plain": [
       "[<matplotlib.lines.Line2D at 0x198efe82668>]"
      ]
     },
     "execution_count": 25,
     "metadata": {},
     "output_type": "execute_result"
    },
    {
     "data": {
      "image/png": "[encoded data removed]",
      "text/plain": [
       "<matplotlib.figure.Figure at 0x198eff415f8>"
      ]
     },
     "metadata": {},
     "output_type": "display_data"
    }
   ],
   "source": [
    "# Sample Training Data\n",
    "m = 100\n",
    "X = 6 * np.random.rand(m,1) - 3\n",
    "y = 0.5 * X**2 + X + 2 + np.random.randn(m,1)\n",
    "\n",
    "plt.plot(X,y,\"b.\")"
   ]
  },
  {
   "cell_type": "code",
   "execution_count": 32,
   "metadata": {},
   "outputs": [
    {
     "name": "stdout",
     "output_type": "stream",
     "text": [
      "Trained Theta:\n",
      "[2.01646843] [[ 3.06583001e-01  1.24282436e+00  8.54850226e-01 -5.41746134e-01\n",
      "  -2.83393969e-01  1.12708176e-01  3.54117871e-02 -7.81844232e-03\n",
      "  -1.50670606e-03  9.75550853e-05]]\n"
     ]
    },
    {
     "data": {
      "text/plain": [
       "[<matplotlib.lines.Line2D at 0x198efbfb400>]"
      ]
     },
     "execution_count": 32,
     "metadata": {},
     "output_type": "execute_result"
    },
    {
     "data": {
      "image/png": "[encoded data removed]",
      "text/plain": [
       "<matplotlib.figure.Figure at 0x198f037a278>"
      ]
     },
     "metadata": {},
     "output_type": "display_data"
    }
   ],
   "source": [
    "# Adjust degree to observe change in model\n",
    "degree = 10\n",
    "\n",
    "# Add extra features using PolynomialFeatures transform\n",
    "poly_features = PolynomialFeatures(degree=degree, include_bias=False)\n",
    "X_poly = poly_features.fit_transform(X)\n",
    "\n",
    "# Train the modified input data set.\n",
    "lin_reg = LinearRegression()\n",
    "lin_reg.fit(X_poly, y)\n",
    "\n",
    "print(\"Trained Theta:\")\n",
    "print(lin_reg.intercept_, lin_reg.coef_)\n",
    "\n",
    "\n",
    "# Prepare test data\n",
    "x_test = [[0.1*x] for x in range(-30,30)]\n",
    "test_X_poly = poly_features.fit_transform(x_test)\n",
    "\n",
    "# Predict using test data\n",
    "predict = lin_reg.predict(test_X_poly)\n",
    "\n",
    "# Plot Scatter and Model\n",
    "plt.plot(X,y,\"b.\")\n",
    "plt.plot(x_test, predict,\"r-\")"
   ]
  },
  {
   "cell_type": "markdown",
   "metadata": {},
   "source": [
    "# Performance Analysis Using Learning Curves\n",
    "\n",
    "Demonstrated using Polynomial Regression examples."
   ]
  },
  {
   "cell_type": "code",
   "execution_count": 36,
   "metadata": {
    "collapsed": true
   },
   "outputs": [],
   "source": [
    "from sklearn.model_selection import train_test_split\n",
    "from sklearn.metrics import mean_squared_error\n",
    "from sklearn.pipeline import Pipeline\n",
    "from sklearn.linear_model import SGDRegressor"
   ]
  },
  {
   "cell_type": "code",
   "execution_count": 37,
   "metadata": {
    "collapsed": true
   },
   "outputs": [],
   "source": [
    "def plot_learning_curves(model, X, y):\n",
    "    \"\"\"\n",
    "    Plots performance on the training set and testing (validation) set.\n",
    "    X-axis - number of training samples used\n",
    "    Y-axis - RMSE\n",
    "    \"\"\"\n",
    "    \n",
    "    train_X, test_X, train_y, test_y = train_test_split(X, y, test_size = 0.20)\n",
    "    \n",
    "    training_errors, validation_errors = [], []\n",
    "    \n",
    "    for m in range(1, len(train_X)):\n",
    "        \n",
    "        model.fit(train_X[:m], train_y[:m])\n",
    "        \n",
    "        train_pred = model.predict(train_X)\n",
    "        val_pred = model.predict(test_X)\n",
    "        \n",
    "        training_errors.append(np.sqrt(mean_squared_error(train_y, train_pred)))\n",
    "        validation_errors.append(np.sqrt(mean_squared_error(test_y, val_pred)))\n",
    "        \n",
    "    plt.plot(training_errors, \"r-+\", label=\"train\")\n",
    "    plt.plot(validation_errors, \"b-\", label=\"test\")\n",
    "    plt.axis([0, 80, 0, 3])     "
   ]
  },
  {
   "cell_type": "code",
   "execution_count": 42,
   "metadata": {},
   "outputs": [
    {
     "data": {
      "image/png": "[encoded data removed]",
      "text/plain": [
       "<matplotlib.figure.Figure at 0x198efae4c50>"
      ]
     },
     "metadata": {},
     "output_type": "display_data"
    }
   ],
   "source": [
    "plot_learning_curves(LinearRegression(), X, y)"
   ]
  },
  {
   "cell_type": "code",
   "execution_count": 41,
   "metadata": {},
   "outputs": [
    {
     "data": {
      "image/png": "[encoded data removed]",
      "text/plain": [
       "<matplotlib.figure.Figure at 0x198efc2ac18>"
      ]
     },
     "metadata": {},
     "output_type": "display_data"
    }
   ],
   "source": [
    "degree = 2\n",
    "\n",
    "poly_reg = Pipeline([\n",
    "    (\"poly_features\", PolynomialFeatures(degree=degree, include_bias=False)),\n",
    "    (\"lin_reg\", LinearRegression()),\n",
    "    ])\n",
    "\n",
    "plot_learning_curves(poly_reg, X, y)"
   ]
  },
  {
   "cell_type": "code",
   "execution_count": null,
   "metadata": {
    "collapsed": true
   },
   "outputs": [],
   "source": [
    "# Demo w/ Degree = 3\n",
    "\n",
    "from sklearn.pipeline import Pipeline\n",
    "from sklearn.linear_model import SGDRegressor\n",
    "\n",
    "deg = 3\n",
    "poly_reg = Pipeline([\n",
    "    (\"poly_features\", PolynomialFeatures(degree=deg, include_bias=False)),\n",
    "    (\"lin_reg\", LinearRegression()),\n",
    "    ])\n",
    "\n",
    "plot_learning_curves(poly_reg, X, y)"
   ]
  },
  {
   "cell_type": "code",
   "execution_count": null,
   "metadata": {
    "collapsed": true
   },
   "outputs": [],
   "source": [
    "#####################################################################\n",
    "#####################################################################"
   ]
  },
  {
   "cell_type": "markdown",
   "metadata": {},
   "source": [
    "# Regularization Techniques"
   ]
  },
  {
   "cell_type": "markdown",
   "metadata": {},
   "source": [
    "## Ridge Regression"
   ]
  },
  {
   "cell_type": "code",
   "execution_count": null,
   "metadata": {
    "collapsed": true
   },
   "outputs": [],
   "source": [
    "# Includes\n",
    "from sklearn.linear_model import Ridge, SGDRegressor\n",
    "from sklearn.preprocessing import PolynomialFeatures\n",
    "from sklearn.model_selection import train_test_split\n",
    "from sklearn.pipeline import Pipeline\n",
    "from sklearn.metrics import mean_squared_error\n",
    "import numpy as np\n",
    "from matplotlib import pyplot as plt"
   ]
  },
  {
   "cell_type": "markdown",
   "metadata": {},
   "source": [
    "### Demonstration Data Set and Test Inputs"
   ]
  },
  {
   "cell_type": "code",
   "execution_count": null,
   "metadata": {
    "collapsed": true
   },
   "outputs": [],
   "source": [
    "# Sample Training Data\n",
    "m = 100\n",
    "X = 6 * np.random.rand(m,1) - 3\n",
    "y = 0.5 * X**2 + X + 2 + np.random.randn(m,1)\n",
    "\n",
    "plt.plot(X,y,\"b.\")\n",
    "\n",
    "# Test data - values between -3 to 3 in 0.1 increments\n",
    "x_test = [[0.1*x] for x in range(-30,30)]"
   ]
  },
  {
   "cell_type": "markdown",
   "metadata": {},
   "source": [
    "Closed-Form Approach using Ridge class w/ Cholesky solver (formulation of closed form solution for regression with ridge regularization)"
   ]
  },
  {
   "cell_type": "code",
   "execution_count": null,
   "metadata": {
    "collapsed": true,
    "scrolled": true
   },
   "outputs": [],
   "source": [
    "alpha = 0.8\n",
    "\n",
    "# Build and Train\n",
    "model = Ridge(alpha=alpha, solver=\"cholesky\")\n",
    "model.fit(X,y)\n",
    "\n",
    "# Plot polynomials for each alpha\n",
    "predict = model.predict(x_test)\n",
    "plt.plot(X,y,\"b.\")          \n",
    "plt.plot(x_test, predict,\"r-\")"
   ]
  },
  {
   "cell_type": "code",
   "execution_count": null,
   "metadata": {
    "collapsed": true
   },
   "outputs": [],
   "source": [
    "for a in range(0,1000,100):\n",
    "    \n",
    "    alpha = (a+1)\n",
    "    \n",
    "    model = Ridge(alpha=alpha, solver=\"cholesky\")\n",
    "    model.fit(X,y.ravel())\n",
    "    \n",
    "    plt.figure(0)\n",
    "    \n",
    "    # Plot polynomials for each alpha\n",
    "    predict = model.predict(x_test)\n",
    "    plt.plot(x_test, predict,\"r-\")\n",
    "    \n",
    "    plt.figure(a+1)\n",
    "   \n",
    "    # Plot learning curve for each alpha\n",
    "    plt.title(\"Alpha=\" + str(alpha))\n",
    "    plot_learning_curves(model, X, y.ravel())\n",
    "\n",
    "plt.figure(0)\n",
    "plt.plot(X,y,\"b.\")\n",
    "\n",
    "# Note on Syntax\n",
    "# Figure 0 - plots curves for each model\n",
    "# Figure (a+1) - plots the figure for each alpha=(a+1)*0.1\n",
    "#  By specifying the figure before each plot, we tell matplot\n",
    "#  lib which plot to update."
   ]
  },
  {
   "cell_type": "code",
   "execution_count": null,
   "metadata": {
    "collapsed": true
   },
   "outputs": [],
   "source": [
    "deg = 2\n",
    "for a in range(0,1001,100):\n",
    "    \n",
    "    alpha = a+1\n",
    "    \n",
    "    model = Pipeline([\n",
    "        (\"poly_features\", PolynomialFeatures(degree=deg, include_bias=False)),\n",
    "        (\"Ridged\", Ridge(alpha=alpha, solver=\"cholesky\")),\n",
    "        ])\n",
    "    model.fit(X,y.ravel())\n",
    "    \n",
    "    plt.figure(0)\n",
    "    \n",
    "    # Plot polynomials for each alpha\n",
    "    predict = model.predict(x_test)\n",
    "    plt.plot(x_test, predict,\"r-\")\n",
    "    \n",
    "    plt.figure(a+1)\n",
    "   \n",
    "    # Plot learning curve for each alpha\n",
    "    plt.title(\"Alpha=\" + str(alpha))\n",
    "    plot_learning_curves(model, X, y.ravel())\n",
    "\n",
    "plt.figure(0)\n",
    "plt.plot(X,y,\"b.\")"
   ]
  },
  {
   "cell_type": "markdown",
   "metadata": {},
   "source": [
    "### Stochastic Gradient Descent w/ Ridge Regression Enabled as L2 penalty"
   ]
  },
  {
   "cell_type": "code",
   "execution_count": null,
   "metadata": {
    "collapsed": true
   },
   "outputs": [],
   "source": [
    "deg = 2\n",
    "\n",
    "plt.figure(0)\n",
    "plt.plot(X,y,\"b.\")\n",
    "    \n",
    "# Build Polynomial SGD w/ Lasso Regularization\n",
    "model = Pipeline([\n",
    "    (\"poly_features\", PolynomialFeatures(degree=deg, include_bias=False)),\n",
    "    (\"SGD Ridge\", SGDRegressor(penalty=\"l2\", max_iter=100000, tol=0.00001)),\n",
    "    ])\n",
    "    \n",
    "model.fit(X,y.ravel())\n",
    "\n",
    "# Plot polynomials for each alpha\n",
    "predict = model.predict(x_test)\n",
    "plt.plot(x_test, predict,\"r-\")\n",
    "    \n",
    "plt.figure(1)\n",
    "   \n",
    "plot_learning_curves(model, X, y.ravel())"
   ]
  },
  {
   "cell_type": "code",
   "execution_count": null,
   "metadata": {
    "collapsed": true
   },
   "outputs": [],
   "source": [
    "#####################################################################"
   ]
  },
  {
   "cell_type": "markdown",
   "metadata": {},
   "source": [
    "## Lasso Regularization\n",
    "\n",
    "The following declares the includes for this demonstration."
   ]
  },
  {
   "cell_type": "code",
   "execution_count": null,
   "metadata": {
    "collapsed": true
   },
   "outputs": [],
   "source": [
    "# Includes\n",
    "from sklearn.linear_model import Lasso, SGDRegressor\n",
    "from sklearn.preprocessing import PolynomialFeatures\n",
    "from sklearn.model_selection import train_test_split\n",
    "from sklearn.pipeline import Pipeline\n",
    "from sklearn.metrics import mean_squared_error"
   ]
  },
  {
   "cell_type": "markdown",
   "metadata": {},
   "source": [
    "### Demonstration Data Set and Test Inputs"
   ]
  },
  {
   "cell_type": "code",
   "execution_count": null,
   "metadata": {
    "collapsed": true
   },
   "outputs": [],
   "source": [
    "# Sample Training Data\n",
    "m = 100\n",
    "X = 6 * np.random.rand(m,1) - 3\n",
    "y = 0.5 * X**2 + X + 2 + np.random.randn(m,1)\n",
    "\n",
    "plt.plot(X,y,\"b.\")\n",
    "\n",
    "# Test data - values between -3 to 3 in 0.1 increments\n",
    "x_test = [[0.1*x] for x in range(-30,30)]"
   ]
  },
  {
   "cell_type": "markdown",
   "metadata": {},
   "source": [
    "### Lasso Regression - Linear Example\n",
    "\n",
    "This demonstrates the Linear Regression with Lasso Model using the Lasso class built into SkLearn"
   ]
  },
  {
   "cell_type": "code",
   "execution_count": null,
   "metadata": {
    "collapsed": true,
    "scrolled": true
   },
   "outputs": [],
   "source": [
    "alpha = 0.8\n",
    "\n",
    "# Build and Train\n",
    "model = Lasso(alpha=alpha)\n",
    "model.fit(X,y)\n",
    "\n",
    "# Plot polynomials for each alpha\n",
    "predict = model.predict(x_test)\n",
    "plt.plot(X,y,\"b.\")          \n",
    "plt.plot(x_test, predict,\"r-\")"
   ]
  },
  {
   "cell_type": "markdown",
   "metadata": {},
   "source": [
    "Let's observe our models and their learning curves across alphas from 0 to 1."
   ]
  },
  {
   "cell_type": "code",
   "execution_count": null,
   "metadata": {
    "collapsed": true
   },
   "outputs": [],
   "source": [
    "for a in range(0,101,20):\n",
    "    \n",
    "    alpha = 0.01*(a+1)\n",
    "    \n",
    "    model = Lasso(alpha=alpha)\n",
    "    model.fit(X,y.ravel())\n",
    "    \n",
    "    plt.figure(0)\n",
    "    \n",
    "    # Plot polynomials for each alpha\n",
    "    predict = model.predict(x_test)\n",
    "    plt.plot(x_test, predict,\"r-\")\n",
    "    \n",
    "    plt.figure(a+1)\n",
    "   \n",
    "    # Plot learning curve for each alpha\n",
    "    plt.title(\"Alpha=\" + str(a*0.01))\n",
    "    plot_learning_curves(model, X, y.ravel())\n",
    "\n",
    "plt.figure(0)\n",
    "plt.plot(X,y,\"b.\")\n",
    "\n",
    "# Note on Syntax\n",
    "# Figure 0 - plots curves for each model\n",
    "# Figure (a+1) - plots the figure for each alpha=(a+1)*0.1\n",
    "#  By specifying the figure before each plot, we tell matplot\n",
    "#  lib which plot to update."
   ]
  },
  {
   "cell_type": "markdown",
   "metadata": {},
   "source": [
    "### Lasso Regression - Polynomial Example\n",
    "\n",
    "Now, we will change our model to a polynomial of a specified degreee.  We can then observe how our model is impacted as alpha is adjusted."
   ]
  },
  {
   "cell_type": "code",
   "execution_count": null,
   "metadata": {
    "collapsed": true,
    "scrolled": true
   },
   "outputs": [],
   "source": [
    "alpha = 0.8\n",
    "deg = 2\n",
    "\n",
    "# Build and Train\n",
    "model = Pipeline([\n",
    "    (\"poly_features\", PolynomialFeatures(degree=deg, include_bias=False)),\n",
    "    (\"Lasso\", Lasso(alpha=alpha)),\n",
    "    ])\n",
    "    \n",
    "model.fit(X,y)\n",
    "\n",
    "# Plot polynomials for each alpha\n",
    "predict = model.predict(x_test)\n",
    "plt.plot(X,y,\"b.\")          \n",
    "plt.plot(x_test, predict,\"r-\")"
   ]
  },
  {
   "cell_type": "markdown",
   "metadata": {},
   "source": [
    "Let's observe our models and their learning curves across alphas from 0 to 1."
   ]
  },
  {
   "cell_type": "code",
   "execution_count": null,
   "metadata": {
    "collapsed": true,
    "scrolled": true
   },
   "outputs": [],
   "source": [
    "for a in range(0,101,20):\n",
    "    \n",
    "    alpha = 0.01*(a+1)\n",
    "    \n",
    "    model = Pipeline([\n",
    "    (\"poly_features\", PolynomialFeatures(degree=deg, include_bias=False)),\n",
    "    (\"Lasso\", Lasso(alpha=alpha)),\n",
    "    ])\n",
    "    \n",
    "    model.fit(X,y.ravel())\n",
    "    \n",
    "    plt.figure(0)\n",
    "    \n",
    "    # Plot polynomials for each alpha\n",
    "    predict = model.predict(x_test)\n",
    "    plt.plot(x_test, predict,\"r-\")\n",
    "    \n",
    "    plt.figure(a+1)\n",
    "   \n",
    "    # Plot learning curve for each alpha\n",
    "    plt.title(\"Alpha=\" + str(a*0.01))\n",
    "    plot_learning_curves(model, X, y.ravel())\n",
    "    \n",
    "plt.figure(0)\n",
    "plt.plot(X,y,\"b.\")"
   ]
  },
  {
   "cell_type": "markdown",
   "metadata": {},
   "source": [
    "### Lasso Regression - Stochastic Gradient Descent Example\n",
    "\n",
    "Now, we will utilize steepest gradient descent with an l1 penalty to implement our lasso regression.  For our example, we will use a polynomial model."
   ]
  },
  {
   "cell_type": "code",
   "execution_count": null,
   "metadata": {
    "collapsed": true
   },
   "outputs": [],
   "source": [
    "deg = 2\n",
    "\n",
    "plt.figure(0)\n",
    "plt.plot(X,y,\"b.\")\n",
    "    \n",
    "# Build Polynomial SGD w/ Lasso Regularization\n",
    "model = Pipeline([\n",
    "    (\"poly_features\", PolynomialFeatures(degree=deg, include_bias=False)),\n",
    "    (\"SGD Lasso\", SGDRegressor(penalty=\"l1\", max_iter=1000, tol=0.01)),\n",
    "    ])\n",
    "    \n",
    "model.fit(X,y.ravel())\n",
    "\n",
    "# Plot polynomials for each alpha\n",
    "predict = model.predict(x_test)\n",
    "plt.plot(x_test, predict,\"r-\")\n",
    "    \n",
    "plt.figure(1)\n",
    "   \n",
    "plot_learning_curves(model, X, y.ravel())"
   ]
  },
  {
   "cell_type": "code",
   "execution_count": null,
   "metadata": {
    "collapsed": true
   },
   "outputs": [],
   "source": []
  },
  {
   "cell_type": "markdown",
   "metadata": {},
   "source": [
    "## Demo Boston Data Set\n",
    "\n",
    "Dataset User Guide: https://scikit-learn.org/stable/datasets/index.html#boston-dataset\n",
    "Dataset API Info: https://scikit-learn.org/stable/modules/generated/sklearn.datasets.load_boston.html#sklearn.datasets.load_boston\n",
    "\n",
    "\n",
    "   * CRIM per capita crime rate by town\n",
    "   * ZN proportion of residential land zoned for lots over 25,000 sq.ft.\n",
    "   * INDUS proportion of non-retail business acres per town\n",
    "   * CHAS Charles River dummy variable (= 1 if tract bounds river; 0 otherwise)\n",
    "   * NOX nitric oxides concentration (parts per 10 million)\n",
    "   * RM average number of rooms per dwelling\n",
    "   * AGE proportion of owner-occupied units built prior to 1940\n",
    "   * DIS weighted distances to five Boston employment centres\n",
    "   * RAD index of accessibility to radial highways\n",
    "   * TAX full-value property-tax rate per \\$10,000\n",
    "   * PTRATIO pupil-teacher ratio by town\n",
    "   * B 1000(Bk - 0.63)^2 where Bk is the proportion of blacks by town\n",
    "   * LSTAT % lower status of the population\n",
    "   * MEDV Median value of owner-occupied homes in \\$1000’s\n"
   ]
  },
  {
   "cell_type": "code",
   "execution_count": null,
   "metadata": {
    "collapsed": true,
    "scrolled": false
   },
   "outputs": [],
   "source": [
    "from sklearn import datasets\n",
    "import numpy as np\n",
    "from matplotlib import pyplot as plt\n",
    "from sklearn.linear_model import LinearRegression\n",
    "from sklearn.model_selection import train_test_split\n",
    "from sklearn.metrics import mean_absolute_error, mean_squared_error\n",
    "import pandas as pd\n",
    "from pandas.plotting import scatter_matrix\n",
    "\n",
    "%matplotlib inline \n",
    "\n",
    "boston_housing_data = datasets.load_boston()"
   ]
  },
  {
   "cell_type": "code",
   "execution_count": null,
   "metadata": {
    "collapsed": true
   },
   "outputs": [],
   "source": [
    "# Attempt to visualize data\n",
    "boston_df = pd.DataFrame(np.c_[boston_housing_data.data, boston_housing_data.target], \n",
    "                  columns=[\"CRIM\", \"ZN\",\"INDUS\",\"CHAS\", \"NOX\",\"RM\",\"AGE\",\n",
    "                           \"DIS\",\"RAD\",\"TAX\",\"PTRatio\",\"BK\", \"LSTAT\",\"MEDV\"])\n",
    "\n",
    "for column in boston_df.columns:\n",
    "    plt.figure()\n",
    "    plt.xlabel(column)\n",
    "    plt.ylabel(\"MEDV\")\n",
    "    plt.plot(boston_df[column], boston_df[\"MEDV\"], \"b.\")\n",
    "\n",
    "scatter_matrix(boston_df, figsize=(12, 12))"
   ]
  },
  {
   "cell_type": "code",
   "execution_count": null,
   "metadata": {
    "collapsed": true
   },
   "outputs": [],
   "source": [
    "train_X, test_X, train_y, test_y = train_test_split(boston_housing_data.data,\n",
    "                                                   boston_housing_data.target,\n",
    "                                                   test_size=0.33)\n",
    "\n",
    "lin_reg = LinearRegression()\n",
    "lin_reg.fit(train_X,train_y)\n",
    "pred_y = lin_reg.predict(test_X)\n",
    "\n",
    "# Outputs the intercept and coefficient of the model (theta_0 and theta_1 respectively)\n",
    "print(lin_reg.intercept_, lin_reg.coef_)\n",
    "\n",
    "plt.hist(abs(test_y - pred_y),bins=100)\n",
    "plt.xlabel(\"Error ($k)\")\n",
    "\n",
    "mean_absolute_error(test_y, pred_y)"
   ]
  },
  {
   "cell_type": "code",
   "execution_count": null,
   "metadata": {
    "collapsed": true,
    "scrolled": true
   },
   "outputs": [],
   "source": [
    "attributes = [\"AGE\",\"RM\",\"LSTAT\"]\n",
    "boston_data_set = boston_df[attributes].values\n",
    "\n",
    "train_X, test_X, train_y, test_y = train_test_split(boston_data_set,\n",
    "                                                   boston_housing_data.target,\n",
    "                                                   test_size=0.33)\n",
    "\n",
    "lin_reg = LinearRegression()\n",
    "lin_reg.fit(train_X,train_y)\n",
    "pred_y = lin_reg.predict(test_X)\n",
    "\n",
    "# Outputs the intercept and coefficient of the model (theta_0 and theta_1 respectively)\n",
    "print(lin_reg.intercept_, lin_reg.coef_)\n",
    "\n",
    "plt.hist(abs(test_y - pred_y),bins=100)\n",
    "plt.xlabel(\"Error ($k)\")\n",
    "\n",
    "mean_absolute_error(test_y, pred_y)"
   ]
  },
  {
   "cell_type": "code",
   "execution_count": null,
   "metadata": {
    "collapsed": true
   },
   "outputs": [],
   "source": [
    "from sklearn.preprocessing import normalize\n",
    "\n",
    "boston_data_set = normalize(boston_housing_data.data, axis=0, norm='max')\n",
    "\n",
    "\n",
    "train_X, test_X, train_y, test_y = train_test_split(boston_data_set,\n",
    "                                                   boston_housing_data.target,\n",
    "                                                   test_size=0.33)\n",
    "\n",
    "lin_reg = LinearRegression()\n",
    "lin_reg.fit(train_X,train_y)\n",
    "pred_y = lin_reg.predict(test_X)\n",
    "\n",
    "# Outputs the intercept and coefficient of the model (theta_0 and theta_1 respectively)\n",
    "print(lin_reg.intercept_, lin_reg.coef_)\n",
    "\n",
    "plt.hist(abs(test_y - pred_y),bins=100)\n",
    "plt.xlabel(\"Error ($k)\")\n",
    "\n",
    "mean_absolute_error(test_y, pred_y)"
   ]
  },
  {
   "cell_type": "code",
   "execution_count": null,
   "metadata": {
    "collapsed": true
   },
   "outputs": [],
   "source": [
    "from sklearn.preprocessing import StandardScaler\n",
    "\n",
    "scaler = StandardScaler()\n",
    "\n",
    "boston_data_set = scaler.fit_transform(boston_housing_data.data)\n",
    "\n",
    "\n",
    "train_X, test_X, train_y, test_y = train_test_split(boston_data_set,\n",
    "                                                   boston_housing_data.target,\n",
    "                                                   test_size=0.33)\n",
    "\n",
    "lin_reg = LinearRegression()\n",
    "lin_reg.fit(train_X,train_y)\n",
    "pred_y = lin_reg.predict(test_X)\n",
    "\n",
    "# Outputs the intercept and coefficient of the model (theta_0 and theta_1 respectively)\n",
    "print(lin_reg.intercept_, lin_reg.coef_)\n",
    "\n",
    "plt.hist(abs(test_y - pred_y),bins=100)\n",
    "plt.xlabel(\"Error ($k)\")\n",
    "\n",
    "mean_absolute_error(test_y, pred_y)"
   ]
  },
  {
   "cell_type": "code",
   "execution_count": null,
   "metadata": {
    "collapsed": true
   },
   "outputs": [],
   "source": [
    "from sklearn.preprocessing import StandardScaler\n",
    "from sklearn.linear_model import SGDRegressor\n",
    "# Regularized\n",
    "\n",
    "scaler = StandardScaler()\n",
    "\n",
    "boston_data_set = scaler.fit_transform(boston_housing_data.data)\n",
    "\n",
    "\n",
    "train_X, test_X, train_y, test_y = train_test_split(boston_data_set,\n",
    "                                                   boston_housing_data.target,\n",
    "                                                   test_size=0.33)\n",
    "\n",
    "lin_reg = SGDRegressor(penalty=\"l2\", max_iter=10000, tol=0.001)\n",
    "lin_reg.fit(train_X,train_y)\n",
    "pred_y = lin_reg.predict(test_X)\n",
    "\n",
    "# Outputs the intercept and coefficient of the model (theta_0 and theta_1 respectively)\n",
    "print(lin_reg.intercept_, lin_reg.coef_)\n",
    "\n",
    "plt.hist(abs(test_y - pred_y),bins=100)\n",
    "plt.xlabel(\"Error ($k)\")\n",
    "\n",
    "mean_absolute_error(test_y, pred_y)"
   ]
  }
 ],
 "metadata": {
  "kernelspec": {
   "display_name": "Python 3",
   "language": "python",
   "name": "python3"
  },
  "language_info": {
   "codemirror_mode": {
    "name": "ipython",
    "version": 3
   },
   "file_extension": ".py",
   "mimetype": "text/x-python",
   "name": "python",
   "nbconvert_exporter": "python",
   "pygments_lexer": "ipython3",
   "version": "3.6.2"
  }
 },
 "nbformat": 4,
 "nbformat_minor": 2
}
