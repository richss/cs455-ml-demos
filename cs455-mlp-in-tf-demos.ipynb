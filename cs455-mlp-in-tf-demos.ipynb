{
 "cells": [
  {
   "cell_type": "markdown",
   "metadata": {},
   "source": [
    "<h1><center>CS 455/595a: MLP Demo using TensorFlow</center></h1>\n",
    "<center>Richard S. Stansbury</center>\n",
    "\n",
    "This notebook applies the ANN techniques for the Titanic Survivors and Boston Housing Prediction models covered in [1] with the [Titanic](https://www.kaggle.com/c/titanic/) and [Boston Housing](https://scikit-learn.org/stable/modules/generated/sklearn.datasets.load_boston.html) data sets for DT-based classification and regression, respectively.\n",
    "\n",
    "Several different approaches to model construction are shown ihe demos below\n",
    "\n",
    "Reference:\n",
    "\n",
    "[1] Aurelen Geron. *Hands on Machine Learning with Scikit-Learn & TensorFlow* O'Reilley Media Inc, 2017.\n",
    "\n",
    "[2] Aurelen Geron. \"ageron/handson-ml: A series of Jupyter notebooks that walk you through the fundamentals of Machine Learning and Deep Learning in python using Scikit-Learn and TensorFlow.\" Github.com, online at: https://github.com/ageron/handson-ml [last accessed 2019-03-01]"
   ]
  },
  {
   "cell_type": "markdown",
   "metadata": {},
   "source": [
    "**Table of Contents**\n",
    "1. [Titanic Survivor ANN Classifiers](#Titanic-Survivor-Classifier)\n",
    " \n",
    "2. [Boston Housing Cost Ensemble ANN Regressor](#Boston-Housing-Cost-Estimator)"
   ]
  },
  {
   "cell_type": "markdown",
   "metadata": {},
   "source": [
    "\n"
   ]
  },
  {
   "cell_type": "markdown",
   "metadata": {},
   "source": [
    "# Titanic Survivor Classifier\n",
    "\n",
    "## Set up - Imports of libraries and Data Preparation"
   ]
  },
  {
   "cell_type": "code",
   "execution_count": 7,
   "metadata": {},
   "outputs": [],
   "source": [
    "from matplotlib import pyplot as plt\n",
    "%matplotlib inline \n",
    "import numpy as np\n",
    "import pandas as pd\n",
    "import os\n",
    "import tensorflow.keras as keras\n",
    "\n",
    "# From: https://github.com/ageron/handson-ml/blob/master/09_up_and_running_with_tensorflow.ipynb    \n",
    "def reset_graph():\n",
    "    keras.backend.clear_session() \n",
    "    \n",
    "from datetime import datetime\n",
    "\n",
    "now = datetime.utcnow().strftime(\"%Y%m%d%H%M%S\")\n",
    "root_logdir = \"titanic-logs\"\n",
    "logdir = \"{}/run-{}/\".format(root_logdir, now)"
   ]
  },
  {
   "cell_type": "markdown",
   "metadata": {},
   "source": [
    "Import the data and apply pipelines to pre-process the data."
   ]
  },
  {
   "cell_type": "code",
   "execution_count": 8,
   "metadata": {},
   "outputs": [
    {
     "name": "stdout",
     "output_type": "stream",
     "text": [
      "(891, 9)\n",
      "(891, 1)\n"
     ]
    }
   ],
   "source": [
    "from sklearn.pipeline import Pipeline, FeatureUnion\n",
    "from sklearn.preprocessing import OneHotEncoder, StandardScaler\n",
    "from sklearn.impute import SimpleImputer\n",
    "from sklearn.base import TransformerMixin, BaseEstimator\n",
    "from sklearn.model_selection import train_test_split\n",
    "\n",
    "# Read data from input files into Pandas data frames\n",
    "data_path = os.path.join(\"datasets\",\"titanic\")\n",
    "train_filename = \"train.csv\"\n",
    "test_filename = \"test.csv\"\n",
    "\n",
    "def read_csv(data_path, filename):\n",
    "    joined_path = os.path.join(data_path, filename)\n",
    "    return pd.read_csv(joined_path)\n",
    "\n",
    "# Read CSV file into Pandas Dataframes\n",
    "train_df = read_csv(data_path, train_filename)\n",
    "\n",
    "# Defining Data Pre-Processing Pipelines\n",
    "class DataFrameSelector(BaseEstimator, TransformerMixin):\n",
    "    \n",
    "    def __init__(self, attributes):\n",
    "        self.attributes = attributes\n",
    "    \n",
    "    def fit(self, X, y=None):\n",
    "        return self\n",
    "    \n",
    "    def transform(self, X):\n",
    "        return X[self.attributes]\n",
    "\n",
    "class MostFrequentImputer(BaseEstimator, TransformerMixin):\n",
    "    \n",
    "    def fit(self, X, y=None):\n",
    "        self.most_frequent = pd.Series([X[c].value_counts().index[0] for c in X], \n",
    "                                       index = X.columns)\n",
    "        return self\n",
    "    \n",
    "    def transform(self, X):\n",
    "        return X.fillna(self.most_frequent)\n",
    "\n",
    "\n",
    "numeric_pipe = Pipeline([\n",
    "        (\"Select\", DataFrameSelector([\"Age\", \"Fare\", \"SibSp\", \"Parch\"])), # Selects Fields from dataframe\n",
    "        (\"Imputer\", SimpleImputer(strategy=\"median\")),   # Fills in NaN w/ median value for its column\n",
    "        (\"Scaler\", StandardScaler()),\n",
    "    ])\n",
    "\n",
    "categories_pipe = Pipeline([\n",
    "        (\"Select\", DataFrameSelector([\"Pclass\", \"Sex\"])), # Selects Fields from dataframe\n",
    "        (\"MostFreqImp\", MostFrequentImputer()), # Fill in NaN with most frequent\n",
    "        (\"OneHot\", OneHotEncoder(sparse=False, categories='auto')), # Onehot encode\n",
    "    ])\n",
    "\n",
    "preprocessing_pipe = FeatureUnion(transformer_list = [\n",
    "        (\"numeric pipeline\", numeric_pipe), \n",
    "        (\"categories pipeline\", categories_pipe)\n",
    "     ]) \n",
    "\n",
    "# Process Input Data Using Pipleines\n",
    "X_data = preprocessing_pipe.fit_transform(train_df)\n",
    "y_data = train_df[\"Survived\"].values.reshape(-1,1)\n",
    "\n",
    "# Process the output data.\n",
    "feature_names = [\"Age\", \"Fare\", \"SibSp\", \"Parch\", \"Class0\", \"class1\",\"Sex0\", \"Sex1\"]\n",
    "\n",
    "print(X_data.shape)\n",
    "print(y_data.shape)"
   ]
  },
  {
   "cell_type": "markdown",
   "metadata": {},
   "source": [
    "Split the data into a training and validation set."
   ]
  },
  {
   "cell_type": "code",
   "execution_count": 9,
   "metadata": {},
   "outputs": [
    {
     "name": "stdout",
     "output_type": "stream",
     "text": [
      "(596, 9) (596, 1) (295, 9) (295, 1)\n"
     ]
    }
   ],
   "source": [
    "from sklearn.model_selection import train_test_split\n",
    "X_train, X_test, y_train, y_test = train_test_split(X_data, y_data, test_size = 0.33)\n",
    "print(X_train.shape, y_train.shape, X_test.shape, y_test.shape)"
   ]
  },
  {
   "cell_type": "markdown",
   "metadata": {},
   "source": [
    "Implementation of the TF.Estimator.DNNClassifier (formerly of TFLearn)"
   ]
  },
  {
   "cell_type": "code",
   "execution_count": 10,
   "metadata": {},
   "outputs": [
    {
     "name": "stdout",
     "output_type": "stream",
     "text": [
      "INFO:tensorflow:Using default config.\n",
      "WARNING:tensorflow:Using temporary folder as model directory: C:\\Users\\RICHAR~1.STA\\AppData\\Local\\Temp\\tmpf5m72o46\n",
      "INFO:tensorflow:Using config: {'_model_dir': 'C:\\\\Users\\\\RICHAR~1.STA\\\\AppData\\\\Local\\\\Temp\\\\tmpf5m72o46', '_tf_random_seed': None, '_save_summary_steps': 100, '_save_checkpoints_steps': None, '_save_checkpoints_secs': 600, '_session_config': allow_soft_placement: true\n",
      "graph_options {\n",
      "  rewrite_options {\n",
      "    meta_optimizer_iterations: ONE\n",
      "  }\n",
      "}\n",
      ", '_keep_checkpoint_max': 5, '_keep_checkpoint_every_n_hours': 10000, '_log_step_count_steps': 100, '_train_distribute': None, '_device_fn': None, '_protocol': None, '_eval_distribute': None, '_experimental_distribute': None, '_experimental_max_worker_delay_secs': None, '_session_creation_timeout_secs': 7200, '_service': None, '_cluster_spec': ClusterSpec({}), '_task_type': 'worker', '_task_id': 0, '_global_id_in_cluster': 0, '_master': '', '_evaluation_master': '', '_is_chief': True, '_num_ps_replicas': 0, '_num_worker_replicas': 1}\n"
     ]
    },
    {
     "ename": "AttributeError",
     "evalue": "module 'tensorflow_core.estimator' has no attribute 'inputs'",
     "output_type": "error",
     "traceback": [
      "\u001b[1;31m---------------------------------------------------------------------------\u001b[0m",
      "\u001b[1;31mAttributeError\u001b[0m                            Traceback (most recent call last)",
      "\u001b[1;32m<ipython-input-10-8f018ea5fd24>\u001b[0m in \u001b[0;36m<module>\u001b[1;34m\u001b[0m\n\u001b[0;32m     10\u001b[0m                                      feature_columns=feature_cols)\n\u001b[0;32m     11\u001b[0m \u001b[1;33m\u001b[0m\u001b[0m\n\u001b[1;32m---> 12\u001b[1;33m train_input_fn = tf.estimator.inputs.numpy_input_fn(\n\u001b[0m\u001b[0;32m     13\u001b[0m     x={\"X\": X_train}, y=y_train, batch_size=50, num_epochs=400, shuffle=True)\n\u001b[0;32m     14\u001b[0m \u001b[0mdnn_clf\u001b[0m\u001b[1;33m.\u001b[0m\u001b[0mtrain\u001b[0m\u001b[1;33m(\u001b[0m\u001b[0minput_fn\u001b[0m\u001b[1;33m=\u001b[0m\u001b[0mtrain_input_fn\u001b[0m\u001b[1;33m)\u001b[0m\u001b[1;33m\u001b[0m\u001b[1;33m\u001b[0m\u001b[0m\n",
      "\u001b[1;31mAttributeError\u001b[0m: module 'tensorflow_core.estimator' has no attribute 'inputs'"
     ]
    }
   ],
   "source": [
    "# Construction Phase\n",
    "\n",
    "import tensorflow as tf\n",
    "\n",
    "reset_graph()\n",
    "\n",
    "feature_cols = [tf.feature_column.numeric_column(\"X\", shape=[X_data.shape[1]])]\n",
    "\n",
    "dnn_clf = tf.estimator.DNNClassifier(hidden_units=[20,20], n_classes=2,\n",
    "                                     feature_columns=feature_cols)\n",
    "\n",
    "train_input_fn = tf.estimator.inputs.numpy_input_fn(\n",
    "    x={\"X\": X_train}, y=y_train, batch_size=50, num_epochs=400, shuffle=True)\n",
    "dnn_clf.train(input_fn=train_input_fn)\n",
    "\n",
    "test_input_fn = tf.estimator.inputs.numpy_input_fn(\n",
    "    x={\"X\": X_test}, y=y_test, shuffle=False)\n",
    "\n",
    "print(X_train.shape)\n",
    "\n",
    "eval_results = dnn_clf.evaluate(input_fn=test_input_fn)\n",
    "                                \n",
    "eval_results\n"
   ]
  },
  {
   "cell_type": "markdown",
   "metadata": {},
   "source": [
    "Now, let's use plain TensorFlow to implement a neural network using the tf.layers.dense class to define fully-connected (dense) layers of RELU and a softmax of the final output."
   ]
  },
  {
   "cell_type": "code",
   "execution_count": null,
   "metadata": {
    "scrolled": false
   },
   "outputs": [],
   "source": [
    "reset_graph()\n",
    "\n",
    "def get_batch(X, iter, size):\n",
    "    return X[(iter*batch_size) : ((iter+1)*batch_size)]\n",
    "\n",
    "\n",
    "learning_rate = 0.1\n",
    "\n",
    "num_features = X_train.shape[1]\n",
    "num_instances = X_train.shape[0]\n",
    "\n",
    "# Construction\n",
    "X = tf.placeholder(tf.float32, shape=(None, num_features), name=\"X\")\n",
    "y = tf.placeholder(tf.int32, shape=(None), name=\"y\")\n",
    "\n",
    "with tf.name_scope(\"Titanic_MLP\"):\n",
    "    hidden1 = tf.layers.dense(X, 20, name=\"Hidden-1\", activation = tf.nn.relu)\n",
    "    hidden2 = tf.layers.dense(hidden1, 10, name=\"Hidden-2\", activation=tf.nn.relu)\n",
    "    hidden3 = tf.layers.dense(hidden2, 5, name=\"Hidden-3\", activation=tf.nn.relu)\n",
    "    logits = tf.layers.dense(hidden3, 2, name=\"Survived\")\n",
    "    output = tf.nn.softmax(logits)\n",
    "    \n",
    "with tf.name_scope(\"loss\"):\n",
    "    xentropy = tf.nn.sparse_softmax_cross_entropy_with_logits(labels=y,\n",
    "                                                              logits=logits)\n",
    "    loss = tf.reduce_mean(xentropy, name=\"loss\")\n",
    "    loss_summary = tf.summary.scalar('Loss', loss)\n",
    "    file_writer = tf.summary.FileWriter(logdir, tf.get_default_graph())\n",
    "\n",
    "with tf.name_scope(\"train\"): \n",
    "    optimizer = tf.train.GradientDescentOptimizer(learning_rate)\n",
    "    training_op = optimizer.minimize(loss)\n",
    "    \n",
    "with tf.name_scope(\"eval\"):\n",
    "    correct = tf.nn.in_top_k(logits, y, 1)\n",
    "    accuracy = tf.reduce_mean(tf.cast(correct, tf.float32))\n",
    "    accuracy_summary = tf.summary.scalar('accuracy', accuracy)\n",
    "    \n",
    "init = tf.global_variables_initializer()\n",
    "saver = tf.train.Saver()\n",
    "\n",
    "n_epochs = 100\n",
    "batch_size = 50\n",
    "\n",
    "\n",
    "# Execution\n",
    "with tf.Session() as sess:\n",
    "    init.run()\n",
    "    step=0\n",
    "    \n",
    "    for epoch in range(n_epochs):\n",
    "        \n",
    "        for iteration in range(num_instances // batch_size + 1):\n",
    "            step+=1\n",
    "            X_batch = get_batch(X_train, iteration, batch_size)\n",
    "            y_batch = get_batch(y_train, iteration, batch_size)\n",
    "            \n",
    "            sess.run(training_op, feed_dict={X: X_batch,\n",
    "                                            y: y_batch.reshape(y_batch.shape[0])})\n",
    "            \n",
    "        # Save trained model at end of epoch\n",
    "        save_path = saver.save(sess, \"./tf_plain_class.chkp\")\n",
    "        \n",
    "        #Evaluate on final training batch vs. final testing\n",
    "        acc_train, loss_summary_str, acc_summary_str = sess.run([accuracy, loss_summary, accuracy_summary],feed_dict={X: X_batch, y: y_batch.reshape(y_batch.shape[0])})\n",
    "        acc_val = accuracy.eval(feed_dict={X:X_test, y: y_test.reshape(y_test.shape[0])})\n",
    "\n",
    "        # Logging for Tensor Board for each epoch\n",
    "        file_writer.add_summary(loss_summary_str,step)\n",
    "        file_writer.add_summary(acc_summary_str,step)\n",
    "        \n",
    "        # Print progress made\n",
    "        print(\"{}-Train: {} Test:{}\".format(epoch,\n",
    "                                           acc_train,\n",
    "                                           acc_val)) \n",
    "file_writer.close()"
   ]
  },
  {
   "cell_type": "code",
   "execution_count": null,
   "metadata": {},
   "outputs": [],
   "source": [
    "from sklearn.metrics import confusion_matrix, precision_score, recall_score\n",
    "\n",
    "with tf.Session() as sess:\n",
    "    \n",
    "    saver.restore(sess, \"./tf_plain_class.chkp\")\n",
    "    y_predict = output.eval(feed_dict={X:X_test, y: y_test.reshape(y_test.shape[0])})\n",
    "    \n",
    "    con_mx = confusion_matrix(y_test.reshape(1,-1)[0], np.argmax(y_predict, axis=1))\n",
    "    precision = precision_score(y_test.reshape(1,-1)[0], np.argmax(y_predict, axis=1))\n",
    "    recall = recall_score(y_test.reshape(1,-1)[0], np.argmax(y_predict, axis=1))\n",
    "    print(\"Precision: {}, \\nRecall: {}, \\nConf Mat: {}\". format(precision, recall, con_mx))"
   ]
  },
  {
   "cell_type": "code",
   "execution_count": null,
   "metadata": {},
   "outputs": [],
   "source": [
    "reset_graph()\n",
    "\n",
    "encoder = OneHotEncoder(sparse=False, categories='auto')\n",
    "\n",
    "saver_callback = tf.keras.callbacks.ModelCheckpoint(\"./keras_model_class.ckpt\", \n",
    "                                                 save_weights_only=True,\n",
    "                                                 verbose=1)\n",
    "\n",
    "model = tf.keras.Sequential()\n",
    "model.add(tf.keras.layers.Dense(20, activation='relu', input_shape=(9,)))\n",
    "model.add(tf.keras.layers.Dense(10, activation='relu'))\n",
    "model.add(tf.keras.layers.Dense(5, activation='relu'))\n",
    "model.add(tf.keras.layers.Dense(2, activation='softmax'))\n",
    "\n",
    "model.compile(optimizer = tf.train.GradientDescentOptimizer(0.1),\n",
    "              loss='sparse_categorical_crossentropy',\n",
    "              metrics=['accuracy'])\n",
    "\n",
    "init = tf.global_variables_initializer()\n",
    "\n",
    "# Execution\n",
    "with tf.Session() as sess:\n",
    "    init.run()\n",
    "    accuracy = model.fit(X_train, y_train, \n",
    "              epochs=400, \n",
    "              batch_size=100, \n",
    "              callbacks = [saver_callback],\n",
    "              validation_data = (X_test, y_test))"
   ]
  },
  {
   "cell_type": "code",
   "execution_count": null,
   "metadata": {},
   "outputs": [],
   "source": [
    "from sklearn.metrics import confusion_matrix, precision_score, recall_score\n",
    "\n",
    "with tf.Session() as sess:\n",
    "    \n",
    "    model.load_weights(\"./keras_model_class.ckpt\")\n",
    "    y_predict = model.predict(X_test)\n",
    "    \n",
    "    con_mx = confusion_matrix(y_test.reshape(1,-1)[0], np.argmax(y_predict, axis=1))\n",
    "    precision = precision_score(y_test.reshape(1,-1)[0], np.argmax(y_predict, axis=1))\n",
    "    recall = recall_score(y_test.reshape(1,-1)[0], np.argmax(y_predict, axis=1))\n",
    "    print(\"Precision: {}, \\nRecall: {}, \\nConf Mat: {}\". format(precision, recall, con_mx))"
   ]
  },
  {
   "cell_type": "code",
   "execution_count": null,
   "metadata": {},
   "outputs": [],
   "source": []
  },
  {
   "cell_type": "markdown",
   "metadata": {},
   "source": [
    "# Boston Housing Cost Estimator\n",
    "\n",
    "Building off the classifier examples above, this section shows ensemble regressors using bagging and random forests."
   ]
  },
  {
   "cell_type": "markdown",
   "metadata": {},
   "source": [
    "## Setup"
   ]
  },
  {
   "cell_type": "code",
   "execution_count": null,
   "metadata": {},
   "outputs": [],
   "source": [
    "# Load Data Set\n",
    "from sklearn import datasets\n",
    "from sklearn.preprocessing import MinMaxScaler\n",
    "boston_housing_data = datasets.load_boston()\n",
    "\n",
    "scaler = MinMaxScaler()\n",
    "bouston_housing_data_instances = scaler.fit_transform(boston_housing_data.data)\n",
    "bouston_housing_data_instances.shape\n"
   ]
  },
  {
   "cell_type": "code",
   "execution_count": null,
   "metadata": {},
   "outputs": [],
   "source": []
  },
  {
   "cell_type": "code",
   "execution_count": null,
   "metadata": {},
   "outputs": [],
   "source": [
    "reset_graph()\n",
    "\n",
    "train_X, test_X, train_y, test_y = train_test_split(bouston_housing_data_instances,\n",
    "                                                   boston_housing_data.target,\n",
    "                                                   test_size=0.20)\n",
    "\n",
    "def get_batch(X, iter, size):\n",
    "    return X[(iter*batch_size) : ((iter+1)*batch_size)]\n",
    "\n",
    "learning_rate = 0.001\n",
    "\n",
    "num_features = train_X.shape[1]\n",
    "num_instances = train_y.shape[0]\n",
    "\n",
    "# Construction\n",
    "X = tf.placeholder(tf.float32, shape=(None, num_features), name=\"X\")\n",
    "y = tf.placeholder(tf.float32, shape=(None), name=\"y\")\n",
    "\n",
    "with tf.name_scope(\"Boston-MLP\"):\n",
    "    hidden1 = tf.layers.dense(X, 5, name=\"Hidden-1\", activation = tf.nn.relu)\n",
    "    hidden2 = tf.layers.dense(hidden1, 5, name=\"Hidden-2\", activation = tf.nn.relu)\n",
    "    output = tf.transpose(tf.layers.dense(hidden2, 1, name=\"Price\"))\n",
    "    \n",
    "with tf.name_scope(\"loss\"):\n",
    "    loss = tf.reduce_mean(tf.square(y-output))\n",
    "    \n",
    "with tf.name_scope(\"train\"): \n",
    "    optimizer = tf.train.GradientDescentOptimizer(learning_rate)\n",
    "    training_op = optimizer.minimize(loss)\n",
    "    \n",
    "init = tf.global_variables_initializer()\n",
    "saver = tf.train.Saver()\n",
    "\n",
    "n_epochs = 400\n",
    "batch_size = 10\n",
    "\n",
    "# Execution\n",
    "with tf.Session() as sess:\n",
    "    init.run()\n",
    "    \n",
    "    for epoch in range(n_epochs):\n",
    "        \n",
    "        for iteration in range(num_instances // batch_size + 1):\n",
    "            X_batch = get_batch(train_X, iteration, batch_size)\n",
    "            y_batch = get_batch(train_y, iteration, batch_size)   \n",
    " \n",
    "            sess.run(training_op, feed_dict={X: X_batch,\n",
    "                                            y: y_batch})\n",
    "            \n",
    "\n",
    "        mse_train = loss.eval(feed_dict={X: X_batch,\n",
    "                                            y: y_batch})\n",
    "        mse_val = loss.eval(feed_dict={X:test_X, y: test_y})\n",
    "        \n",
    "        print(\"{}-Train: {} Test:{}\".format(epoch,\n",
    "                                           mse_train,\n",
    "                                           mse_val))"
   ]
  },
  {
   "cell_type": "markdown",
   "metadata": {},
   "source": [
    "From the above example, you will see that the model converges early. "
   ]
  },
  {
   "cell_type": "code",
   "execution_count": null,
   "metadata": {},
   "outputs": [],
   "source": [
    "reset_graph()\n",
    "\n",
    "\n",
    "train_X, test_X, train_y, test_y = train_test_split(bouston_housing_data_instances,\n",
    "                                                   boston_housing_data.target,\n",
    "                                                   test_size=0.33)\n",
    "\n",
    "\n",
    "model = tf.keras.Sequential()\n",
    "model.add(tf.keras.layers.Dense(10, activation='relu', input_shape=(13,)))\n",
    "model.add(tf.keras.layers.Dense(10, activation='relu'))\n",
    "model.add(tf.keras.layers.Dense(1))\n",
    "\n",
    "\n",
    "model.compile(optimizer = tf.train.GradientDescentOptimizer(0.001),loss='mean_squared_error',metrics=['mse'])\n",
    "\n",
    "init = tf.global_variables_initializer()\n",
    "\n",
    "\n",
    "# Execution\n",
    "with tf.Session() as sess:\n",
    "    init.run()\n",
    "    model.fit(train_X, train_y, epochs=4000, batch_size=200, validation_data = (test_X, test_y))"
   ]
  }
 ],
 "metadata": {
  "kernelspec": {
   "display_name": "Python 3",
   "language": "python",
   "name": "python3"
  },
  "language_info": {
   "codemirror_mode": {
    "name": "ipython",
    "version": 3
   },
   "file_extension": ".py",
   "mimetype": "text/x-python",
   "name": "python",
   "nbconvert_exporter": "python",
   "pygments_lexer": "ipython3",
   "version": "3.7.4"
  }
 },
 "nbformat": 4,
 "nbformat_minor": 2
}
