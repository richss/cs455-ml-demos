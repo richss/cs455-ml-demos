{
 "cells": [
  {
   "cell_type": "markdown",
   "metadata": {},
   "source": [
    "<h1><center>CS 455/595a: Support Vector Machines Demos</center></h1>\n",
    "<center>Richard S. Stansbury</center>\n",
    "\n",
    "This notebook applies the support vector machine concepts covered in [1] with the [Titanic](https://www.kaggle.com/c/titanic/) and [Boston Housing](https://scikit-learn.org/stable/modules/generated/sklearn.datasets.load_boston.html) data sets for SVM-based classification and regression, respectively.\n",
    "\n",
    "\n",
    "\n",
    "Reference:\n",
    "\n",
    "[1] Aurelen Geron. *Hands on Machine Learning with Scikit-Learn & TensorFlow* O'Reilley Media Inc, 2017.\n",
    "\n",
    "[2] Aurelen Geron. \"ageron/handson-ml: A series of Jupyter notebooks that walk you through the fundamentals of Machine Learning and Deep Learning in python using Scikit-Learn and TensorFlow.\" Github.com, online at: https://github.com/ageron/handson-ml [last accessed 2019-03-01]"
   ]
  },
  {
   "cell_type": "markdown",
   "metadata": {},
   "source": [
    "**Table of Contents**\n",
    "1. [Titanic Survivor Classifier w/ SVM](#Titanic-Survivor-Classifier)\n",
    "    * [Linear SVC Demonstration](#Linear-SVC-Demonstration)\n",
    "    * [SVC with Linear Kernel Demo](#SVC-with-Linear-Kernel-Demo)\n",
    "    * [LinearSVC with Polynomial Features](#LinearSVC-with-Polynomial-Features)\n",
    "    * [SVC Classifier with Polynomial Kernel](SVC-Classifier-with-Polynomial-Kernel)\n",
    "    * [SVC with RBF Kernel](#SVC-with-RBF-Kernel)\n",
    "\n",
    "2. Boston Demo - Coming Soon"
   ]
  },
  {
   "cell_type": "markdown",
   "metadata": {},
   "source": [
    "\n"
   ]
  },
  {
   "cell_type": "markdown",
   "metadata": {},
   "source": [
    "# Titanic Survivor Classifier\n",
    "\n",
    "## Set up"
   ]
  },
  {
   "cell_type": "code",
   "execution_count": 1,
   "metadata": {
    "collapsed": true
   },
   "outputs": [],
   "source": [
    "from sklearn.pipeline import Pipeline, FeatureUnion\n",
    "from sklearn.impute import SimpleImputer\n",
    "from sklearn.base import BaseEstimator, TransformerMixin\n",
    "from sklearn.preprocessing import OneHotEncoder, StandardScaler, PolynomialFeatures\n",
    "from sklearn.model_selection import cross_val_score, cross_val_predict\n",
    "from sklearn.svm import SVC, LinearSVC\n",
    "\n",
    "from sklearn.neighbors import KNeighborsClassifier\n",
    "from sklearn.metrics import confusion_matrix, precision_score, recall_score, accuracy_score, f1_score \n",
    "\n",
    "import numpy as np\n",
    "import pandas as pd\n",
    "import os"
   ]
  },
  {
   "cell_type": "code",
   "execution_count": 2,
   "metadata": {
    "collapsed": true
   },
   "outputs": [],
   "source": [
    "# Read data from input files into Pandas data frames\n",
    "data_path = os.path.join(\"datasets\",\"titanic\")\n",
    "train_filename = \"train.csv\"\n",
    "test_filename = \"test.csv\"\n",
    "\n",
    "def read_csv(data_path, filename):\n",
    "    joined_path = os.path.join(data_path, filename)\n",
    "    return pd.read_csv(joined_path)\n",
    "\n",
    "# Read CSV file into Pandas Dataframes\n",
    "train_df = read_csv(data_path, train_filename)\n",
    "test_df = read_csv(data_path, test_filename)"
   ]
  },
  {
   "cell_type": "code",
   "execution_count": 3,
   "metadata": {
    "collapsed": true
   },
   "outputs": [],
   "source": [
    "# Defining Data Pre-Processing Pipelines\n",
    "\n",
    "class DataFrameSelector(BaseEstimator, TransformerMixin):\n",
    "    \n",
    "    def __init__(self, attributes):\n",
    "        self.attributes = attributes\n",
    "    \n",
    "    def fit(self, X, y=None):\n",
    "        return self\n",
    "    \n",
    "    def transform(self, X):\n",
    "        return X[self.attributes]\n",
    "\n",
    "class MostFrequentImputer(BaseEstimator, TransformerMixin):\n",
    "    \n",
    "    def fit(self, X, y=None):\n",
    "        self.most_frequent = pd.Series([X[c].value_counts().index[0] for c in X], \n",
    "                                       index = X.columns)\n",
    "        return self\n",
    "    \n",
    "    def transform(self, X):\n",
    "        return X.fillna(self.most_frequent)\n",
    "\n",
    "    \n",
    "numeric_pipe = Pipeline([\n",
    "        (\"Select\", DataFrameSelector([\"Age\", \"Fare\", \"SibSp\", \"Parch\"])), # Selects Fields from dataframe\n",
    "        (\"Imputer\", SimpleImputer(strategy=\"median\")),   # Fills in NaN w/ median value for its column\n",
    "    ])\n",
    "\n",
    "categories_pipe = Pipeline([\n",
    "        (\"Select\", DataFrameSelector([\"Pclass\", \"Sex\", \"Embarked\"])), # Selects Fields from dataframe\n",
    "        (\"MostFreqImp\", MostFrequentImputer()), # Fill in NaN with most frequent\n",
    "        (\"OneHot\", OneHotEncoder(sparse=False)), # Onehot encode\n",
    "    ])\n",
    "\n",
    "preprocessing_pipe = FeatureUnion(transformer_list = [\n",
    "        (\"numeric pipeline\", numeric_pipe), \n",
    "        (\"categories pipeline\", categories_pipe)\n",
    "     ]) "
   ]
  },
  {
   "cell_type": "code",
   "execution_count": 4,
   "metadata": {
    "collapsed": true
   },
   "outputs": [],
   "source": [
    "# Process Input Data Using Pipleines\n",
    "train_X_data = preprocessing_pipe.fit_transform(train_df)\n",
    "test_X_data = preprocessing_pipe.fit_transform(test_df)\n",
    "train_y_data = train_df[\"Survived\"]"
   ]
  },
  {
   "cell_type": "markdown",
   "metadata": {},
   "source": [
    "## KNN Classifier (for comparison)"
   ]
  },
  {
   "cell_type": "code",
   "execution_count": 5,
   "metadata": {},
   "outputs": [
    {
     "name": "stdout",
     "output_type": "stream",
     "text": [
      "Confusion Matrix:\n",
      "[[509  40]\n",
      " [133 209]]\n",
      "Accuracy Score = 0.8058361391694725\n",
      "Pecision Score = 0.8393574297188755\n",
      "Recall Score = 0.6111111111111112\n",
      "F1 Score = 0.7072758037225043\n"
     ]
    }
   ],
   "source": [
    "# KNN Classifier 10-fold Validation\n",
    "k=10\n",
    "\n",
    "clf_pipe = Pipeline([\n",
    "        (\"Scaler\", StandardScaler()),\n",
    "        (\"classifier\", KNeighborsClassifier(n_neighbors=k)), \n",
    "    ])\n",
    "\n",
    "\n",
    "y_pred = cross_val_predict(clf_pipe, train_X_data, train_y_data, cv=10)\n",
    "\n",
    "print(\"Confusion Matrix:\")\n",
    "print(confusion_matrix(train_y_data, y_pred))\n",
    "print(\"Accuracy Score = \" + str(accuracy_score(train_y_data, y_pred)))\n",
    "print(\"Pecision Score = \" + str(precision_score(train_y_data, y_pred)))\n",
    "print(\"Recall Score = \" + str(recall_score(train_y_data,y_pred)))\n",
    "print(\"F1 Score = \" + str(f1_score(train_y_data,y_pred)))                            \n",
    "                               "
   ]
  },
  {
   "cell_type": "markdown",
   "metadata": {},
   "source": [
    "## Linear SVC Demonstration"
   ]
  },
  {
   "cell_type": "code",
   "execution_count": 6,
   "metadata": {},
   "outputs": [
    {
     "name": "stdout",
     "output_type": "stream",
     "text": [
      "Confusion Matrix:\n",
      "[[468  81]\n",
      " [109 233]]\n",
      "Accuracy Score = 0.7867564534231201\n",
      "Pecision Score = 0.7420382165605095\n",
      "Recall Score = 0.6812865497076024\n",
      "F1 Score = 0.7103658536585367\n"
     ]
    },
    {
     "name": "stderr",
     "output_type": "stream",
     "text": [
      "C:\\Users\\richard.stansbury\\Anaconda3\\lib\\site-packages\\sklearn\\svm\\base.py:931: ConvergenceWarning: Liblinear failed to converge, increase the number of iterations.\n",
      "  \"the number of iterations.\", ConvergenceWarning)\n"
     ]
    }
   ],
   "source": [
    "# LinearSVC Classifier - Hard Margin\n",
    "C=1\n",
    "\n",
    "clf_pipe = Pipeline([\n",
    "        (\"Scaler\", StandardScaler()),\n",
    "        (\"classifier\", LinearSVC(C=C, loss=\"hinge\")), \n",
    "    ])\n",
    "\n",
    "\n",
    "y_pred = cross_val_predict(clf_pipe, train_X_data, train_y_data, cv=10)\n",
    "\n",
    "print(\"Confusion Matrix:\")\n",
    "print(confusion_matrix(train_y_data, y_pred))\n",
    "print(\"Accuracy Score = \" + str(accuracy_score(train_y_data, y_pred)))\n",
    "print(\"Pecision Score = \" + str(precision_score(train_y_data, y_pred)))\n",
    "print(\"Recall Score = \" + str(recall_score(train_y_data,y_pred)))\n",
    "print(\"F1 Score = \" + str(f1_score(train_y_data,y_pred)))                            \n",
    "                               "
   ]
  },
  {
   "cell_type": "code",
   "execution_count": 7,
   "metadata": {},
   "outputs": [
    {
     "name": "stderr",
     "output_type": "stream",
     "text": [
      "C:\\Users\\richard.stansbury\\Anaconda3\\lib\\site-packages\\sklearn\\svm\\base.py:931: ConvergenceWarning: Liblinear failed to converge, increase the number of iterations.\n",
      "  \"the number of iterations.\", ConvergenceWarning)\n",
      "C:\\Users\\richard.stansbury\\Anaconda3\\lib\\site-packages\\sklearn\\svm\\base.py:931: ConvergenceWarning: Liblinear failed to converge, increase the number of iterations.\n",
      "  \"the number of iterations.\", ConvergenceWarning)\n",
      "C:\\Users\\richard.stansbury\\Anaconda3\\lib\\site-packages\\sklearn\\svm\\base.py:931: ConvergenceWarning: Liblinear failed to converge, increase the number of iterations.\n",
      "  \"the number of iterations.\", ConvergenceWarning)\n",
      "C:\\Users\\richard.stansbury\\Anaconda3\\lib\\site-packages\\sklearn\\svm\\base.py:931: ConvergenceWarning: Liblinear failed to converge, increase the number of iterations.\n",
      "  \"the number of iterations.\", ConvergenceWarning)\n",
      "C:\\Users\\richard.stansbury\\Anaconda3\\lib\\site-packages\\sklearn\\svm\\base.py:931: ConvergenceWarning: Liblinear failed to converge, increase the number of iterations.\n",
      "  \"the number of iterations.\", ConvergenceWarning)\n",
      "C:\\Users\\richard.stansbury\\Anaconda3\\lib\\site-packages\\sklearn\\svm\\base.py:931: ConvergenceWarning: Liblinear failed to converge, increase the number of iterations.\n",
      "  \"the number of iterations.\", ConvergenceWarning)\n",
      "C:\\Users\\richard.stansbury\\Anaconda3\\lib\\site-packages\\sklearn\\svm\\base.py:931: ConvergenceWarning: Liblinear failed to converge, increase the number of iterations.\n",
      "  \"the number of iterations.\", ConvergenceWarning)\n",
      "C:\\Users\\richard.stansbury\\Anaconda3\\lib\\site-packages\\sklearn\\svm\\base.py:931: ConvergenceWarning: Liblinear failed to converge, increase the number of iterations.\n",
      "  \"the number of iterations.\", ConvergenceWarning)\n",
      "C:\\Users\\richard.stansbury\\Anaconda3\\lib\\site-packages\\sklearn\\svm\\base.py:931: ConvergenceWarning: Liblinear failed to converge, increase the number of iterations.\n",
      "  \"the number of iterations.\", ConvergenceWarning)\n",
      "C:\\Users\\richard.stansbury\\Anaconda3\\lib\\site-packages\\sklearn\\svm\\base.py:931: ConvergenceWarning: Liblinear failed to converge, increase the number of iterations.\n",
      "  \"the number of iterations.\", ConvergenceWarning)\n"
     ]
    },
    {
     "name": "stdout",
     "output_type": "stream",
     "text": [
      "Confusion Matrix:\n",
      "[[464  85]\n",
      " [112 230]]\n",
      "Accuracy Score = 0.7789001122334456\n",
      "Pecision Score = 0.7301587301587301\n",
      "Recall Score = 0.672514619883041\n",
      "F1 Score = 0.700152207001522\n"
     ]
    }
   ],
   "source": [
    "# LinearSVC Classifier - Soft Margin\n",
    "C=100\n",
    "\n",
    "clf_pipe = Pipeline([\n",
    "        (\"Scaler\", StandardScaler()),\n",
    "        (\"classifier\", LinearSVC(C=C, loss=\"hinge\")), \n",
    "    ])\n",
    "\n",
    "\n",
    "y_pred = cross_val_predict(clf_pipe, train_X_data, train_y_data, cv=10)\n",
    "\n",
    "print(\"Confusion Matrix:\")\n",
    "print(confusion_matrix(train_y_data, y_pred))\n",
    "print(\"Accuracy Score = \" + str(accuracy_score(train_y_data, y_pred)))\n",
    "print(\"Pecision Score = \" + str(precision_score(train_y_data, y_pred)))\n",
    "print(\"Recall Score = \" + str(recall_score(train_y_data,y_pred)))\n",
    "print(\"F1 Score = \" + str(f1_score(train_y_data,y_pred)))                            \n",
    "                               "
   ]
  },
  {
   "cell_type": "markdown",
   "metadata": {},
   "source": [
    "## SVC with Linear Kernel Demo"
   ]
  },
  {
   "cell_type": "code",
   "execution_count": 8,
   "metadata": {},
   "outputs": [
    {
     "name": "stdout",
     "output_type": "stream",
     "text": [
      "Confusion Matrix:\n",
      "[[468  81]\n",
      " [109 233]]\n",
      "Accuracy Score = 0.7867564534231201\n",
      "Pecision Score = 0.7420382165605095\n",
      "Recall Score = 0.6812865497076024\n",
      "F1 Score = 0.7103658536585367\n"
     ]
    }
   ],
   "source": [
    "# SVC Classifier \n",
    "c=1\n",
    "\n",
    "clf_pipe = Pipeline([\n",
    "        (\"Scaler\", StandardScaler()),\n",
    "        (\"classifier\", SVC(kernel=\"linear\", C=c)), \n",
    "    ])\n",
    "\n",
    "\n",
    "y_pred = cross_val_predict(clf_pipe, train_X_data, train_y_data, cv=10)\n",
    "\n",
    "print(\"Confusion Matrix:\")\n",
    "print(confusion_matrix(train_y_data, y_pred))\n",
    "print(\"Accuracy Score = \" + str(accuracy_score(train_y_data, y_pred)))\n",
    "print(\"Pecision Score = \" + str(precision_score(train_y_data, y_pred)))\n",
    "print(\"Recall Score = \" + str(recall_score(train_y_data,y_pred)))\n",
    "print(\"F1 Score = \" + str(f1_score(train_y_data,y_pred)))                            \n",
    "                               "
   ]
  },
  {
   "cell_type": "markdown",
   "metadata": {},
   "source": [
    "## LinearSVC with Polynomial Features"
   ]
  },
  {
   "cell_type": "code",
   "execution_count": 9,
   "metadata": {},
   "outputs": [
    {
     "name": "stderr",
     "output_type": "stream",
     "text": [
      "C:\\Users\\richard.stansbury\\Anaconda3\\lib\\site-packages\\sklearn\\svm\\base.py:931: ConvergenceWarning: Liblinear failed to converge, increase the number of iterations.\n",
      "  \"the number of iterations.\", ConvergenceWarning)\n",
      "C:\\Users\\richard.stansbury\\Anaconda3\\lib\\site-packages\\sklearn\\svm\\base.py:931: ConvergenceWarning: Liblinear failed to converge, increase the number of iterations.\n",
      "  \"the number of iterations.\", ConvergenceWarning)\n",
      "C:\\Users\\richard.stansbury\\Anaconda3\\lib\\site-packages\\sklearn\\svm\\base.py:931: ConvergenceWarning: Liblinear failed to converge, increase the number of iterations.\n",
      "  \"the number of iterations.\", ConvergenceWarning)\n",
      "C:\\Users\\richard.stansbury\\Anaconda3\\lib\\site-packages\\sklearn\\svm\\base.py:931: ConvergenceWarning: Liblinear failed to converge, increase the number of iterations.\n",
      "  \"the number of iterations.\", ConvergenceWarning)\n",
      "C:\\Users\\richard.stansbury\\Anaconda3\\lib\\site-packages\\sklearn\\svm\\base.py:931: ConvergenceWarning: Liblinear failed to converge, increase the number of iterations.\n",
      "  \"the number of iterations.\", ConvergenceWarning)\n",
      "C:\\Users\\richard.stansbury\\Anaconda3\\lib\\site-packages\\sklearn\\svm\\base.py:931: ConvergenceWarning: Liblinear failed to converge, increase the number of iterations.\n",
      "  \"the number of iterations.\", ConvergenceWarning)\n",
      "C:\\Users\\richard.stansbury\\Anaconda3\\lib\\site-packages\\sklearn\\svm\\base.py:931: ConvergenceWarning: Liblinear failed to converge, increase the number of iterations.\n",
      "  \"the number of iterations.\", ConvergenceWarning)\n",
      "C:\\Users\\richard.stansbury\\Anaconda3\\lib\\site-packages\\sklearn\\svm\\base.py:931: ConvergenceWarning: Liblinear failed to converge, increase the number of iterations.\n",
      "  \"the number of iterations.\", ConvergenceWarning)\n",
      "C:\\Users\\richard.stansbury\\Anaconda3\\lib\\site-packages\\sklearn\\svm\\base.py:931: ConvergenceWarning: Liblinear failed to converge, increase the number of iterations.\n",
      "  \"the number of iterations.\", ConvergenceWarning)\n"
     ]
    },
    {
     "name": "stdout",
     "output_type": "stream",
     "text": [
      "Confusion Matrix:\n",
      "[[492  57]\n",
      " [117 225]]\n",
      "Accuracy Score = 0.8047138047138047\n",
      "Pecision Score = 0.7978723404255319\n",
      "Recall Score = 0.6578947368421053\n",
      "F1 Score = 0.7211538461538463\n"
     ]
    },
    {
     "name": "stderr",
     "output_type": "stream",
     "text": [
      "C:\\Users\\richard.stansbury\\Anaconda3\\lib\\site-packages\\sklearn\\svm\\base.py:931: ConvergenceWarning: Liblinear failed to converge, increase the number of iterations.\n",
      "  \"the number of iterations.\", ConvergenceWarning)\n"
     ]
    }
   ],
   "source": [
    "# SVC Classifier with Polynomial Features Added\n",
    "c=1\n",
    "deg=3\n",
    "\n",
    "clf_pipe = Pipeline([\n",
    "        (\"Polynomial\", PolynomialFeatures(degree=deg)),\n",
    "        (\"Scaler\", StandardScaler()),\n",
    "        (\"classifier\", LinearSVC(loss=\"hinge\", max_iter=10000, C=c)), \n",
    "    ])\n",
    "\n",
    "\n",
    "y_pred = cross_val_predict(clf_pipe, train_X_data, train_y_data, cv=10)\n",
    "\n",
    "print(\"Confusion Matrix:\")\n",
    "print(confusion_matrix(train_y_data, y_pred))\n",
    "print(\"Accuracy Score = \" + str(accuracy_score(train_y_data, y_pred)))\n",
    "print(\"Pecision Score = \" + str(precision_score(train_y_data, y_pred)))\n",
    "print(\"Recall Score = \" + str(recall_score(train_y_data,y_pred)))\n",
    "print(\"F1 Score = \" + str(f1_score(train_y_data,y_pred)))                            \n",
    "                               "
   ]
  },
  {
   "cell_type": "markdown",
   "metadata": {},
   "source": [
    "## SVC Classifier with Polynomial Kernel"
   ]
  },
  {
   "cell_type": "code",
   "execution_count": 10,
   "metadata": {},
   "outputs": [
    {
     "name": "stdout",
     "output_type": "stream",
     "text": [
      "Confusion Matrix:\n",
      "[[516  33]\n",
      " [119 223]]\n",
      "Accuracy Score = 0.8294051627384961\n",
      "Pecision Score = 0.87109375\n",
      "Recall Score = 0.652046783625731\n",
      "F1 Score = 0.7458193979933111\n"
     ]
    }
   ],
   "source": [
    "# SVC Classifier with Polynomial Kernel\n",
    "c=10\n",
    "deg=2\n",
    "r=100\n",
    "\n",
    "clf_pipe = Pipeline([\n",
    "        (\"Scaler\", StandardScaler()),\n",
    "        (\"classifier\", SVC(kernel=\"poly\", degree=deg, coef0=r, C=c)), \n",
    "    ])\n",
    "\n",
    "\n",
    "y_pred = cross_val_predict(clf_pipe, train_X_data, train_y_data, cv=10)\n",
    "\n",
    "print(\"Confusion Matrix:\")\n",
    "print(confusion_matrix(train_y_data, y_pred))\n",
    "print(\"Accuracy Score = \" + str(accuracy_score(train_y_data, y_pred)))\n",
    "print(\"Pecision Score = \" + str(precision_score(train_y_data, y_pred)))\n",
    "print(\"Recall Score = \" + str(recall_score(train_y_data,y_pred)))\n",
    "print(\"F1 Score = \" + str(f1_score(train_y_data,y_pred)))                            \n",
    "                               "
   ]
  },
  {
   "cell_type": "markdown",
   "metadata": {},
   "source": [
    "## SVC with RBF Kernel"
   ]
  },
  {
   "cell_type": "code",
   "execution_count": 11,
   "metadata": {},
   "outputs": [
    {
     "name": "stdout",
     "output_type": "stream",
     "text": [
      "Confusion Matrix:\n",
      "[[520  29]\n",
      " [126 216]]\n",
      "Accuracy Score = 0.8260381593714927\n",
      "Pecision Score = 0.8816326530612245\n",
      "Recall Score = 0.631578947368421\n",
      "F1 Score = 0.735945485519591\n"
     ]
    }
   ],
   "source": [
    "# SVC Classifier with Gaussian Radial Basis Function Kernel\n",
    "c=0.7\n",
    "gamma=.1\n",
    "\n",
    "clf_pipe = Pipeline([\n",
    "        (\"Scaler\", StandardScaler()),\n",
    "        (\"classifier\", SVC(kernel=\"rbf\", C=c, gamma=gamma)), \n",
    "    ])\n",
    "\n",
    "\n",
    "y_pred = cross_val_predict(clf_pipe, train_X_data, train_y_data, cv=10)\n",
    "\n",
    "print(\"Confusion Matrix:\")\n",
    "print(confusion_matrix(train_y_data, y_pred))\n",
    "print(\"Accuracy Score = \" + str(accuracy_score(train_y_data, y_pred)))\n",
    "print(\"Pecision Score = \" + str(precision_score(train_y_data, y_pred)))\n",
    "print(\"Recall Score = \" + str(recall_score(train_y_data,y_pred)))\n",
    "print(\"F1 Score = \" + str(f1_score(train_y_data,y_pred)))                            \n",
    "                               "
   ]
  },
  {
   "cell_type": "markdown",
   "metadata": {},
   "source": [
    "\n"
   ]
  },
  {
   "cell_type": "code",
   "execution_count": null,
   "metadata": {
    "collapsed": true
   },
   "outputs": [],
   "source": []
  }
 ],
 "metadata": {
  "kernelspec": {
   "display_name": "Python 3",
   "language": "python",
   "name": "python3"
  },
  "language_info": {
   "codemirror_mode": {
    "name": "ipython",
    "version": 3
   },
   "file_extension": ".py",
   "mimetype": "text/x-python",
   "name": "python",
   "nbconvert_exporter": "python",
   "pygments_lexer": "ipython3",
   "version": "3.6.2"
  }
 },
 "nbformat": 4,
 "nbformat_minor": 2
}
