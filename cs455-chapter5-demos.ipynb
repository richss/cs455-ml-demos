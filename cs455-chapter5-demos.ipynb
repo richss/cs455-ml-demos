{
 "cells": [
  {
   "cell_type": "markdown",
   "metadata": {},
   "source": [
    "<h1><center>CS 455/595a: Support Vector Machines Demos</center></h1>\n",
    "<center>Richard S. Stansbury</center>\n",
    "\n",
    "This notebook applies the support vector machine concepts covered in [1] with the [Titanic](https://www.kaggle.com/c/titanic/) and [Boston Housing](https://scikit-learn.org/stable/modules/generated/sklearn.datasets.load_boston.html) data sets for SVM-based classification and regression, respectively.\n",
    "\n",
    "\n",
    "\n",
    "Reference:\n",
    "\n",
    "[1] Aurelen Geron. *Hands on Machine Learning with Scikit-Learn & TensorFlow* O'Reilley Media Inc, 2017.\n",
    "\n",
    "[2] Aurelen Geron. \"ageron/handson-ml: A series of Jupyter notebooks that walk you through the fundamentals of Machine Learning and Deep Learning in python using Scikit-Learn and TensorFlow.\" Github.com, online at: https://github.com/ageron/handson-ml [last accessed 2019-03-01]"
   ]
  },
  {
   "cell_type": "markdown",
   "metadata": {},
   "source": [
    "**Table of Contents**\n",
    "1. [Titanic Survivor Classifier w/ SVM](#Titanic-Survivor-Classifier)\n",
    "    * [Linear SVC Demonstration](#Linear-SVC-Demonstration)\n",
    "    * [SVC with Linear Kernel Demo](#SVC-with-Linear-Kernel-Demo)\n",
    "    * [LinearSVC with Polynomial Features](#LinearSVC-with-Polynomial-Features)\n",
    "    * [SVC Classifier with Polynomial Kernel](SVC-Classifier-with-Polynomial-Kernel)\n",
    "    * [SVC with RBF Kernel](#SVC-with-RBF-Kernel)\n",
    "\n",
    "2. Boston Demo - Coming Soon"
   ]
  },
  {
   "cell_type": "markdown",
   "metadata": {},
   "source": [
    "\n"
   ]
  },
  {
   "cell_type": "markdown",
   "metadata": {},
   "source": [
    "# Titanic Survivor Classifier\n",
    "\n",
    "## Set up"
   ]
  },
  {
   "cell_type": "code",
   "execution_count": 1,
   "metadata": {},
   "outputs": [],
   "source": [
    "from sklearn.pipeline import Pipeline, FeatureUnion\n",
    "from sklearn.impute import SimpleImputer\n",
    "from sklearn.base import BaseEstimator, TransformerMixin\n",
    "from sklearn.preprocessing import OneHotEncoder, StandardScaler, PolynomialFeatures\n",
    "from sklearn.model_selection import cross_val_score, cross_val_predict, GridSearchCV\n",
    "from sklearn.model_selection import train_test_split\n",
    "from sklearn.model_selection import RandomizedSearchCV\n",
    "from sklearn.svm import SVC, LinearSVC, SVR, LinearSVR\n",
    "from sklearn import datasets\n",
    "\n",
    "from matplotlib import pyplot as plt\n",
    "%matplotlib inline \n",
    "\n",
    "from sklearn.neighbors import KNeighborsClassifier\n",
    "from sklearn.metrics import confusion_matrix, precision_score, recall_score, accuracy_score, f1_score \n",
    "from sklearn.metrics import mean_squared_error, mean_absolute_error\n",
    "\n",
    "import numpy as np\n",
    "import pandas as pd\n",
    "import os\n",
    "\n",
    "# Read data from input files into Pandas data frames\n",
    "data_path = os.path.join(\"datasets\",\"titanic\")\n",
    "train_filename = \"train.csv\"\n",
    "test_filename = \"test.csv\"\n",
    "\n",
    "def read_csv(data_path, filename):\n",
    "    joined_path = os.path.join(data_path, filename)\n",
    "    return pd.read_csv(joined_path)\n",
    "\n",
    "# Read CSV file into Pandas Dataframes\n",
    "train_df = read_csv(data_path, train_filename)\n",
    "\n",
    "\n",
    "# Defining Data Pre-Processing Pipelines\n",
    "class DataFrameSelector(BaseEstimator, TransformerMixin):\n",
    "    \n",
    "    def __init__(self, attributes):\n",
    "        self.attributes = attributes\n",
    "    \n",
    "    def fit(self, X, y=None):\n",
    "        return self\n",
    "    \n",
    "    def transform(self, X):\n",
    "        return X[self.attributes]\n",
    "\n",
    "class MostFrequentImputer(BaseEstimator, TransformerMixin):\n",
    "    \n",
    "    def fit(self, X, y=None):\n",
    "        self.most_frequent = pd.Series([X[c].value_counts().index[0] for c in X], \n",
    "                                       index = X.columns)\n",
    "        return self\n",
    "    \n",
    "    def transform(self, X):\n",
    "        return X.fillna(self.most_frequent)\n",
    "\n",
    "    \n",
    "numeric_pipe = Pipeline([\n",
    "        (\"Select\", DataFrameSelector([\"Age\", \"Fare\", \"SibSp\", \"Parch\"])), # Selects Fields from dataframe\n",
    "        (\"Imputer\", SimpleImputer(strategy=\"median\")),   # Fills in NaN w/ median value for its column\n",
    "    ])\n",
    "\n",
    "categories_pipe = Pipeline([\n",
    "        (\"Select\", DataFrameSelector([\"Pclass\", \"Sex\"])), # Selects Fields from dataframe\n",
    "        (\"MostFreqImp\", MostFrequentImputer()), # Fill in NaN with most frequent\n",
    "        (\"OneHot\", OneHotEncoder(sparse=False)), # Onehot encode\n",
    "    ])\n",
    "\n",
    "preprocessing_pipe = FeatureUnion(transformer_list = [\n",
    "        (\"numeric pipeline\", numeric_pipe), \n",
    "        (\"categories pipeline\", categories_pipe)\n",
    "     ]) \n",
    "\n",
    "# Process Input Data Using Pipleines\n",
    "train_X_data = preprocessing_pipe.fit_transform(train_df)\n",
    "\n",
    "# Scale Input Data\n",
    "s = StandardScaler()\n",
    "train_X_data = s.fit_transform(train_X_data)\n",
    "\n",
    "train_y_data = train_df[\"Survived\"]"
   ]
  },
  {
   "cell_type": "markdown",
   "metadata": {},
   "source": [
    "## KNN Classifier (for comparison)"
   ]
  },
  {
   "cell_type": "code",
   "execution_count": 2,
   "metadata": {},
   "outputs": [
    {
     "name": "stdout",
     "output_type": "stream",
     "text": [
      "Confusion Matrix:\n",
      "[[493  56]\n",
      " [119 223]]\n",
      "Accuracy Score = 0.8035914702581369\n",
      "Pecision Score = 0.7992831541218638\n",
      "Recall Score = 0.652046783625731\n",
      "F1 Score = 0.7181964573268921\n"
     ]
    }
   ],
   "source": [
    "# KNN Classifier 10-fold Validation\n",
    "k=10\n",
    "clf = KNeighborsClassifier(n_neighbors=k)\n",
    "\n",
    "y_pred = cross_val_predict(clf, train_X_data, train_y_data, cv=5)\n",
    "\n",
    "print(\"Confusion Matrix:\")\n",
    "print(confusion_matrix(train_y_data, y_pred))\n",
    "print(\"Accuracy Score = \" + str(accuracy_score(train_y_data, y_pred)))\n",
    "print(\"Pecision Score = \" + str(precision_score(train_y_data, y_pred)))\n",
    "print(\"Recall Score = \" + str(recall_score(train_y_data,y_pred)))\n",
    "print(\"F1 Score = \" + str(f1_score(train_y_data,y_pred)))                            \n",
    "                               "
   ]
  },
  {
   "cell_type": "markdown",
   "metadata": {},
   "source": [
    "## Linear SVC Demonstration"
   ]
  },
  {
   "cell_type": "code",
   "execution_count": 3,
   "metadata": {},
   "outputs": [
    {
     "name": "stdout",
     "output_type": "stream",
     "text": [
      "Confusion Matrix:\n",
      "[[469  80]\n",
      " [109 233]]\n",
      "Accuracy Score = 0.7878787878787878\n",
      "Pecision Score = 0.744408945686901\n",
      "Recall Score = 0.6812865497076024\n",
      "F1 Score = 0.7114503816793893\n"
     ]
    },
    {
     "name": "stderr",
     "output_type": "stream",
     "text": [
      "C:\\Users\\richard.stansbury\\Anaconda3\\lib\\site-packages\\sklearn\\svm\\base.py:929: ConvergenceWarning: Liblinear failed to converge, increase the number of iterations.\n",
      "  \"the number of iterations.\", ConvergenceWarning)\n",
      "C:\\Users\\richard.stansbury\\Anaconda3\\lib\\site-packages\\sklearn\\svm\\base.py:929: ConvergenceWarning: Liblinear failed to converge, increase the number of iterations.\n",
      "  \"the number of iterations.\", ConvergenceWarning)\n",
      "C:\\Users\\richard.stansbury\\Anaconda3\\lib\\site-packages\\sklearn\\svm\\base.py:929: ConvergenceWarning: Liblinear failed to converge, increase the number of iterations.\n",
      "  \"the number of iterations.\", ConvergenceWarning)\n"
     ]
    }
   ],
   "source": [
    "# LinearSVC Classifier - Hard Margin \n",
    "clf = LinearSVC(C=10, loss=\"hinge\")\n",
    "\n",
    "y_pred = cross_val_predict(clf, train_X_data, train_y_data, cv=5)\n",
    "\n",
    "print(\"Confusion Matrix:\")\n",
    "print(confusion_matrix(train_y_data, y_pred))\n",
    "print(\"Accuracy Score = \" + str(accuracy_score(train_y_data, y_pred)))\n",
    "print(\"Pecision Score = \" + str(precision_score(train_y_data, y_pred)))\n",
    "print(\"Recall Score = \" + str(recall_score(train_y_data,y_pred)))\n",
    "print(\"F1 Score = \" + str(f1_score(train_y_data,y_pred)))                                                       "
   ]
  },
  {
   "cell_type": "code",
   "execution_count": 4,
   "metadata": {},
   "outputs": [
    {
     "name": "stderr",
     "output_type": "stream",
     "text": [
      "C:\\Users\\richard.stansbury\\Anaconda3\\lib\\site-packages\\sklearn\\svm\\base.py:929: ConvergenceWarning: Liblinear failed to converge, increase the number of iterations.\n",
      "  \"the number of iterations.\", ConvergenceWarning)\n",
      "C:\\Users\\richard.stansbury\\Anaconda3\\lib\\site-packages\\sklearn\\svm\\base.py:929: ConvergenceWarning: Liblinear failed to converge, increase the number of iterations.\n",
      "  \"the number of iterations.\", ConvergenceWarning)\n",
      "C:\\Users\\richard.stansbury\\Anaconda3\\lib\\site-packages\\sklearn\\svm\\base.py:929: ConvergenceWarning: Liblinear failed to converge, increase the number of iterations.\n",
      "  \"the number of iterations.\", ConvergenceWarning)\n"
     ]
    },
    {
     "name": "stdout",
     "output_type": "stream",
     "text": [
      "Confusion Matrix:\n",
      "[[469  80]\n",
      " [109 233]]\n",
      "Accuracy Score = 0.7878787878787878\n",
      "Pecision Score = 0.744408945686901\n",
      "Recall Score = 0.6812865497076024\n",
      "F1 Score = 0.7114503816793893\n"
     ]
    }
   ],
   "source": [
    "# LinearSVC Classifier - Soft Margin\n",
    "clf = LinearSVC(C=1, loss=\"hinge\")\n",
    "y_pred = cross_val_predict(clf, train_X_data, train_y_data, cv=5)\n",
    "\n",
    "print(\"Confusion Matrix:\")\n",
    "print(confusion_matrix(train_y_data, y_pred))\n",
    "print(\"Accuracy Score = \" + str(accuracy_score(train_y_data, y_pred)))\n",
    "print(\"Pecision Score = \" + str(precision_score(train_y_data, y_pred)))\n",
    "print(\"Recall Score = \" + str(recall_score(train_y_data,y_pred)))\n",
    "print(\"F1 Score = \" + str(f1_score(train_y_data,y_pred)))                            \n",
    "                               "
   ]
  },
  {
   "cell_type": "code",
   "execution_count": 5,
   "metadata": {
    "scrolled": true
   },
   "outputs": [
    {
     "name": "stderr",
     "output_type": "stream",
     "text": [
      "C:\\Users\\richard.stansbury\\Anaconda3\\lib\\site-packages\\sklearn\\svm\\base.py:929: ConvergenceWarning: Liblinear failed to converge, increase the number of iterations.\n",
      "  \"the number of iterations.\", ConvergenceWarning)\n",
      "C:\\Users\\richard.stansbury\\Anaconda3\\lib\\site-packages\\sklearn\\svm\\base.py:929: ConvergenceWarning: Liblinear failed to converge, increase the number of iterations.\n",
      "  \"the number of iterations.\", ConvergenceWarning)\n",
      "C:\\Users\\richard.stansbury\\Anaconda3\\lib\\site-packages\\sklearn\\svm\\base.py:929: ConvergenceWarning: Liblinear failed to converge, increase the number of iterations.\n",
      "  \"the number of iterations.\", ConvergenceWarning)\n",
      "C:\\Users\\richard.stansbury\\Anaconda3\\lib\\site-packages\\sklearn\\svm\\base.py:929: ConvergenceWarning: Liblinear failed to converge, increase the number of iterations.\n",
      "  \"the number of iterations.\", ConvergenceWarning)\n",
      "C:\\Users\\richard.stansbury\\Anaconda3\\lib\\site-packages\\sklearn\\svm\\base.py:929: ConvergenceWarning: Liblinear failed to converge, increase the number of iterations.\n",
      "  \"the number of iterations.\", ConvergenceWarning)\n",
      "C:\\Users\\richard.stansbury\\Anaconda3\\lib\\site-packages\\sklearn\\svm\\base.py:929: ConvergenceWarning: Liblinear failed to converge, increase the number of iterations.\n",
      "  \"the number of iterations.\", ConvergenceWarning)\n",
      "C:\\Users\\richard.stansbury\\Anaconda3\\lib\\site-packages\\sklearn\\svm\\base.py:929: ConvergenceWarning: Liblinear failed to converge, increase the number of iterations.\n",
      "  \"the number of iterations.\", ConvergenceWarning)\n",
      "C:\\Users\\richard.stansbury\\Anaconda3\\lib\\site-packages\\sklearn\\svm\\base.py:929: ConvergenceWarning: Liblinear failed to converge, increase the number of iterations.\n",
      "  \"the number of iterations.\", ConvergenceWarning)\n",
      "C:\\Users\\richard.stansbury\\Anaconda3\\lib\\site-packages\\sklearn\\svm\\base.py:929: ConvergenceWarning: Liblinear failed to converge, increase the number of iterations.\n",
      "  \"the number of iterations.\", ConvergenceWarning)\n",
      "C:\\Users\\richard.stansbury\\Anaconda3\\lib\\site-packages\\sklearn\\svm\\base.py:929: ConvergenceWarning: Liblinear failed to converge, increase the number of iterations.\n",
      "  \"the number of iterations.\", ConvergenceWarning)\n",
      "C:\\Users\\richard.stansbury\\Anaconda3\\lib\\site-packages\\sklearn\\svm\\base.py:929: ConvergenceWarning: Liblinear failed to converge, increase the number of iterations.\n",
      "  \"the number of iterations.\", ConvergenceWarning)\n",
      "C:\\Users\\richard.stansbury\\Anaconda3\\lib\\site-packages\\sklearn\\svm\\base.py:929: ConvergenceWarning: Liblinear failed to converge, increase the number of iterations.\n",
      "  \"the number of iterations.\", ConvergenceWarning)\n",
      "C:\\Users\\richard.stansbury\\Anaconda3\\lib\\site-packages\\sklearn\\svm\\base.py:929: ConvergenceWarning: Liblinear failed to converge, increase the number of iterations.\n",
      "  \"the number of iterations.\", ConvergenceWarning)\n",
      "C:\\Users\\richard.stansbury\\Anaconda3\\lib\\site-packages\\sklearn\\svm\\base.py:929: ConvergenceWarning: Liblinear failed to converge, increase the number of iterations.\n",
      "  \"the number of iterations.\", ConvergenceWarning)\n",
      "C:\\Users\\richard.stansbury\\Anaconda3\\lib\\site-packages\\sklearn\\svm\\base.py:929: ConvergenceWarning: Liblinear failed to converge, increase the number of iterations.\n",
      "  \"the number of iterations.\", ConvergenceWarning)\n",
      "C:\\Users\\richard.stansbury\\Anaconda3\\lib\\site-packages\\sklearn\\svm\\base.py:929: ConvergenceWarning: Liblinear failed to converge, increase the number of iterations.\n",
      "  \"the number of iterations.\", ConvergenceWarning)\n",
      "C:\\Users\\richard.stansbury\\Anaconda3\\lib\\site-packages\\sklearn\\svm\\base.py:929: ConvergenceWarning: Liblinear failed to converge, increase the number of iterations.\n",
      "  \"the number of iterations.\", ConvergenceWarning)\n",
      "C:\\Users\\richard.stansbury\\Anaconda3\\lib\\site-packages\\sklearn\\svm\\base.py:929: ConvergenceWarning: Liblinear failed to converge, increase the number of iterations.\n",
      "  \"the number of iterations.\", ConvergenceWarning)\n"
     ]
    },
    {
     "data": {
      "text/plain": [
       "{'C': 1, 'loss': 'hinge'}"
      ]
     },
     "execution_count": 5,
     "metadata": {},
     "output_type": "execute_result"
    }
   ],
   "source": [
    "# Grid Search for Best HyperParameters\n",
    "\n",
    "param_grid = [{'loss' :['hinge'],'C': [0.1,1,10,100,1000]}]\n",
    "\n",
    "clf = LinearSVC(loss=\"hinge\")\n",
    "\n",
    "grid_search = GridSearchCV(clf, param_grid, cv=5, scoring='roc_auc')\n",
    "grid_search.fit(train_X_data, train_y_data)\n",
    "\n",
    "grid_search.best_params_ \n"
   ]
  },
  {
   "cell_type": "markdown",
   "metadata": {},
   "source": [
    "## SVC with Linear Kernel Demo"
   ]
  },
  {
   "cell_type": "code",
   "execution_count": 6,
   "metadata": {},
   "outputs": [
    {
     "data": {
      "text/plain": [
       "{'C': 10}"
      ]
     },
     "execution_count": 6,
     "metadata": {},
     "output_type": "execute_result"
    }
   ],
   "source": [
    "param_grid = [{'C': [0.1,1,10]}]\n",
    "\n",
    "clf = SVC(cache_size=1000, kernel='linear')\n",
    "\n",
    "grid_search = GridSearchCV(clf, param_grid, cv=5, scoring='roc_auc')\n",
    "grid_search.fit(train_X_data, train_y_data)\n",
    "\n",
    "grid_search.best_params_ \n",
    "                            "
   ]
  },
  {
   "cell_type": "code",
   "execution_count": 7,
   "metadata": {},
   "outputs": [
    {
     "name": "stdout",
     "output_type": "stream",
     "text": [
      "Confusion Matrix:\n",
      "[[469  80]\n",
      " [109 233]]\n",
      "Accuracy Score = 0.7878787878787878\n",
      "Pecision Score = 0.744408945686901\n",
      "Recall Score = 0.6812865497076024\n",
      "F1 Score = 0.7114503816793893\n"
     ]
    }
   ],
   "source": [
    "# SVC Classifier \n",
    "c=10\n",
    "clf = SVC(kernel=\"linear\", C=c)\n",
    "\n",
    "y_pred = cross_val_predict(clf, train_X_data, train_y_data, cv=5)\n",
    "\n",
    "print(\"Confusion Matrix:\")\n",
    "print(confusion_matrix(train_y_data, y_pred))\n",
    "print(\"Accuracy Score = \" + str(accuracy_score(train_y_data, y_pred)))\n",
    "print(\"Pecision Score = \" + str(precision_score(train_y_data, y_pred)))\n",
    "print(\"Recall Score = \" + str(recall_score(train_y_data,y_pred)))\n",
    "print(\"F1 Score = \" + str(f1_score(train_y_data,y_pred)))                            \n",
    "                               "
   ]
  },
  {
   "cell_type": "markdown",
   "metadata": {},
   "source": [
    "## LinearSVC with Polynomial Features"
   ]
  },
  {
   "cell_type": "code",
   "execution_count": 8,
   "metadata": {},
   "outputs": [
    {
     "name": "stderr",
     "output_type": "stream",
     "text": [
      "C:\\Users\\richard.stansbury\\Anaconda3\\lib\\site-packages\\sklearn\\svm\\base.py:929: ConvergenceWarning: Liblinear failed to converge, increase the number of iterations.\n",
      "  \"the number of iterations.\", ConvergenceWarning)\n",
      "C:\\Users\\richard.stansbury\\Anaconda3\\lib\\site-packages\\sklearn\\svm\\base.py:929: ConvergenceWarning: Liblinear failed to converge, increase the number of iterations.\n",
      "  \"the number of iterations.\", ConvergenceWarning)\n",
      "C:\\Users\\richard.stansbury\\Anaconda3\\lib\\site-packages\\sklearn\\svm\\base.py:929: ConvergenceWarning: Liblinear failed to converge, increase the number of iterations.\n",
      "  \"the number of iterations.\", ConvergenceWarning)\n",
      "C:\\Users\\richard.stansbury\\Anaconda3\\lib\\site-packages\\sklearn\\svm\\base.py:929: ConvergenceWarning: Liblinear failed to converge, increase the number of iterations.\n",
      "  \"the number of iterations.\", ConvergenceWarning)\n",
      "C:\\Users\\richard.stansbury\\Anaconda3\\lib\\site-packages\\sklearn\\svm\\base.py:929: ConvergenceWarning: Liblinear failed to converge, increase the number of iterations.\n",
      "  \"the number of iterations.\", ConvergenceWarning)\n",
      "C:\\Users\\richard.stansbury\\Anaconda3\\lib\\site-packages\\sklearn\\svm\\base.py:929: ConvergenceWarning: Liblinear failed to converge, increase the number of iterations.\n",
      "  \"the number of iterations.\", ConvergenceWarning)\n",
      "C:\\Users\\richard.stansbury\\Anaconda3\\lib\\site-packages\\sklearn\\svm\\base.py:929: ConvergenceWarning: Liblinear failed to converge, increase the number of iterations.\n",
      "  \"the number of iterations.\", ConvergenceWarning)\n",
      "C:\\Users\\richard.stansbury\\Anaconda3\\lib\\site-packages\\sklearn\\svm\\base.py:929: ConvergenceWarning: Liblinear failed to converge, increase the number of iterations.\n",
      "  \"the number of iterations.\", ConvergenceWarning)\n",
      "C:\\Users\\richard.stansbury\\Anaconda3\\lib\\site-packages\\sklearn\\svm\\base.py:929: ConvergenceWarning: Liblinear failed to converge, increase the number of iterations.\n",
      "  \"the number of iterations.\", ConvergenceWarning)\n",
      "C:\\Users\\richard.stansbury\\Anaconda3\\lib\\site-packages\\sklearn\\svm\\base.py:929: ConvergenceWarning: Liblinear failed to converge, increase the number of iterations.\n",
      "  \"the number of iterations.\", ConvergenceWarning)\n",
      "C:\\Users\\richard.stansbury\\Anaconda3\\lib\\site-packages\\sklearn\\svm\\base.py:929: ConvergenceWarning: Liblinear failed to converge, increase the number of iterations.\n",
      "  \"the number of iterations.\", ConvergenceWarning)\n",
      "C:\\Users\\richard.stansbury\\Anaconda3\\lib\\site-packages\\sklearn\\svm\\base.py:929: ConvergenceWarning: Liblinear failed to converge, increase the number of iterations.\n",
      "  \"the number of iterations.\", ConvergenceWarning)\n",
      "C:\\Users\\richard.stansbury\\Anaconda3\\lib\\site-packages\\sklearn\\svm\\base.py:929: ConvergenceWarning: Liblinear failed to converge, increase the number of iterations.\n",
      "  \"the number of iterations.\", ConvergenceWarning)\n",
      "C:\\Users\\richard.stansbury\\Anaconda3\\lib\\site-packages\\sklearn\\svm\\base.py:929: ConvergenceWarning: Liblinear failed to converge, increase the number of iterations.\n",
      "  \"the number of iterations.\", ConvergenceWarning)\n",
      "C:\\Users\\richard.stansbury\\Anaconda3\\lib\\site-packages\\sklearn\\svm\\base.py:929: ConvergenceWarning: Liblinear failed to converge, increase the number of iterations.\n",
      "  \"the number of iterations.\", ConvergenceWarning)\n",
      "C:\\Users\\richard.stansbury\\Anaconda3\\lib\\site-packages\\sklearn\\svm\\base.py:929: ConvergenceWarning: Liblinear failed to converge, increase the number of iterations.\n",
      "  \"the number of iterations.\", ConvergenceWarning)\n",
      "C:\\Users\\richard.stansbury\\Anaconda3\\lib\\site-packages\\sklearn\\svm\\base.py:929: ConvergenceWarning: Liblinear failed to converge, increase the number of iterations.\n",
      "  \"the number of iterations.\", ConvergenceWarning)\n",
      "C:\\Users\\richard.stansbury\\Anaconda3\\lib\\site-packages\\sklearn\\svm\\base.py:929: ConvergenceWarning: Liblinear failed to converge, increase the number of iterations.\n",
      "  \"the number of iterations.\", ConvergenceWarning)\n",
      "C:\\Users\\richard.stansbury\\Anaconda3\\lib\\site-packages\\sklearn\\svm\\base.py:929: ConvergenceWarning: Liblinear failed to converge, increase the number of iterations.\n",
      "  \"the number of iterations.\", ConvergenceWarning)\n",
      "C:\\Users\\richard.stansbury\\Anaconda3\\lib\\site-packages\\sklearn\\svm\\base.py:929: ConvergenceWarning: Liblinear failed to converge, increase the number of iterations.\n",
      "  \"the number of iterations.\", ConvergenceWarning)\n",
      "C:\\Users\\richard.stansbury\\Anaconda3\\lib\\site-packages\\sklearn\\svm\\base.py:929: ConvergenceWarning: Liblinear failed to converge, increase the number of iterations.\n",
      "  \"the number of iterations.\", ConvergenceWarning)\n",
      "C:\\Users\\richard.stansbury\\Anaconda3\\lib\\site-packages\\sklearn\\svm\\base.py:929: ConvergenceWarning: Liblinear failed to converge, increase the number of iterations.\n",
      "  \"the number of iterations.\", ConvergenceWarning)\n",
      "C:\\Users\\richard.stansbury\\Anaconda3\\lib\\site-packages\\sklearn\\svm\\base.py:929: ConvergenceWarning: Liblinear failed to converge, increase the number of iterations.\n",
      "  \"the number of iterations.\", ConvergenceWarning)\n",
      "C:\\Users\\richard.stansbury\\Anaconda3\\lib\\site-packages\\sklearn\\svm\\base.py:929: ConvergenceWarning: Liblinear failed to converge, increase the number of iterations.\n",
      "  \"the number of iterations.\", ConvergenceWarning)\n",
      "C:\\Users\\richard.stansbury\\Anaconda3\\lib\\site-packages\\sklearn\\svm\\base.py:929: ConvergenceWarning: Liblinear failed to converge, increase the number of iterations.\n",
      "  \"the number of iterations.\", ConvergenceWarning)\n",
      "C:\\Users\\richard.stansbury\\Anaconda3\\lib\\site-packages\\sklearn\\svm\\base.py:929: ConvergenceWarning: Liblinear failed to converge, increase the number of iterations.\n",
      "  \"the number of iterations.\", ConvergenceWarning)\n",
      "C:\\Users\\richard.stansbury\\Anaconda3\\lib\\site-packages\\sklearn\\svm\\base.py:929: ConvergenceWarning: Liblinear failed to converge, increase the number of iterations.\n",
      "  \"the number of iterations.\", ConvergenceWarning)\n",
      "C:\\Users\\richard.stansbury\\Anaconda3\\lib\\site-packages\\sklearn\\svm\\base.py:929: ConvergenceWarning: Liblinear failed to converge, increase the number of iterations.\n",
      "  \"the number of iterations.\", ConvergenceWarning)\n",
      "C:\\Users\\richard.stansbury\\Anaconda3\\lib\\site-packages\\sklearn\\svm\\base.py:929: ConvergenceWarning: Liblinear failed to converge, increase the number of iterations.\n",
      "  \"the number of iterations.\", ConvergenceWarning)\n",
      "C:\\Users\\richard.stansbury\\Anaconda3\\lib\\site-packages\\sklearn\\svm\\base.py:929: ConvergenceWarning: Liblinear failed to converge, increase the number of iterations.\n",
      "  \"the number of iterations.\", ConvergenceWarning)\n",
      "C:\\Users\\richard.stansbury\\Anaconda3\\lib\\site-packages\\sklearn\\svm\\base.py:929: ConvergenceWarning: Liblinear failed to converge, increase the number of iterations.\n",
      "  \"the number of iterations.\", ConvergenceWarning)\n",
      "C:\\Users\\richard.stansbury\\Anaconda3\\lib\\site-packages\\sklearn\\svm\\base.py:929: ConvergenceWarning: Liblinear failed to converge, increase the number of iterations.\n",
      "  \"the number of iterations.\", ConvergenceWarning)\n",
      "C:\\Users\\richard.stansbury\\Anaconda3\\lib\\site-packages\\sklearn\\svm\\base.py:929: ConvergenceWarning: Liblinear failed to converge, increase the number of iterations.\n",
      "  \"the number of iterations.\", ConvergenceWarning)\n",
      "C:\\Users\\richard.stansbury\\Anaconda3\\lib\\site-packages\\sklearn\\svm\\base.py:929: ConvergenceWarning: Liblinear failed to converge, increase the number of iterations.\n",
      "  \"the number of iterations.\", ConvergenceWarning)\n",
      "C:\\Users\\richard.stansbury\\Anaconda3\\lib\\site-packages\\sklearn\\svm\\base.py:929: ConvergenceWarning: Liblinear failed to converge, increase the number of iterations.\n",
      "  \"the number of iterations.\", ConvergenceWarning)\n",
      "C:\\Users\\richard.stansbury\\Anaconda3\\lib\\site-packages\\sklearn\\svm\\base.py:929: ConvergenceWarning: Liblinear failed to converge, increase the number of iterations.\n",
      "  \"the number of iterations.\", ConvergenceWarning)\n",
      "C:\\Users\\richard.stansbury\\Anaconda3\\lib\\site-packages\\sklearn\\svm\\base.py:929: ConvergenceWarning: Liblinear failed to converge, increase the number of iterations.\n",
      "  \"the number of iterations.\", ConvergenceWarning)\n",
      "C:\\Users\\richard.stansbury\\Anaconda3\\lib\\site-packages\\sklearn\\svm\\base.py:929: ConvergenceWarning: Liblinear failed to converge, increase the number of iterations.\n",
      "  \"the number of iterations.\", ConvergenceWarning)\n",
      "C:\\Users\\richard.stansbury\\Anaconda3\\lib\\site-packages\\sklearn\\svm\\base.py:929: ConvergenceWarning: Liblinear failed to converge, increase the number of iterations.\n",
      "  \"the number of iterations.\", ConvergenceWarning)\n"
     ]
    },
    {
     "name": "stderr",
     "output_type": "stream",
     "text": [
      "C:\\Users\\richard.stansbury\\Anaconda3\\lib\\site-packages\\sklearn\\svm\\base.py:929: ConvergenceWarning: Liblinear failed to converge, increase the number of iterations.\n",
      "  \"the number of iterations.\", ConvergenceWarning)\n",
      "C:\\Users\\richard.stansbury\\Anaconda3\\lib\\site-packages\\sklearn\\svm\\base.py:929: ConvergenceWarning: Liblinear failed to converge, increase the number of iterations.\n",
      "  \"the number of iterations.\", ConvergenceWarning)\n",
      "C:\\Users\\richard.stansbury\\Anaconda3\\lib\\site-packages\\sklearn\\svm\\base.py:929: ConvergenceWarning: Liblinear failed to converge, increase the number of iterations.\n",
      "  \"the number of iterations.\", ConvergenceWarning)\n",
      "C:\\Users\\richard.stansbury\\Anaconda3\\lib\\site-packages\\sklearn\\svm\\base.py:929: ConvergenceWarning: Liblinear failed to converge, increase the number of iterations.\n",
      "  \"the number of iterations.\", ConvergenceWarning)\n",
      "C:\\Users\\richard.stansbury\\Anaconda3\\lib\\site-packages\\sklearn\\svm\\base.py:929: ConvergenceWarning: Liblinear failed to converge, increase the number of iterations.\n",
      "  \"the number of iterations.\", ConvergenceWarning)\n",
      "C:\\Users\\richard.stansbury\\Anaconda3\\lib\\site-packages\\sklearn\\svm\\base.py:929: ConvergenceWarning: Liblinear failed to converge, increase the number of iterations.\n",
      "  \"the number of iterations.\", ConvergenceWarning)\n",
      "C:\\Users\\richard.stansbury\\Anaconda3\\lib\\site-packages\\sklearn\\svm\\base.py:929: ConvergenceWarning: Liblinear failed to converge, increase the number of iterations.\n",
      "  \"the number of iterations.\", ConvergenceWarning)\n",
      "C:\\Users\\richard.stansbury\\Anaconda3\\lib\\site-packages\\sklearn\\svm\\base.py:929: ConvergenceWarning: Liblinear failed to converge, increase the number of iterations.\n",
      "  \"the number of iterations.\", ConvergenceWarning)\n",
      "C:\\Users\\richard.stansbury\\Anaconda3\\lib\\site-packages\\sklearn\\svm\\base.py:929: ConvergenceWarning: Liblinear failed to converge, increase the number of iterations.\n",
      "  \"the number of iterations.\", ConvergenceWarning)\n",
      "C:\\Users\\richard.stansbury\\Anaconda3\\lib\\site-packages\\sklearn\\svm\\base.py:929: ConvergenceWarning: Liblinear failed to converge, increase the number of iterations.\n",
      "  \"the number of iterations.\", ConvergenceWarning)\n",
      "C:\\Users\\richard.stansbury\\Anaconda3\\lib\\site-packages\\sklearn\\svm\\base.py:929: ConvergenceWarning: Liblinear failed to converge, increase the number of iterations.\n",
      "  \"the number of iterations.\", ConvergenceWarning)\n",
      "C:\\Users\\richard.stansbury\\Anaconda3\\lib\\site-packages\\sklearn\\svm\\base.py:929: ConvergenceWarning: Liblinear failed to converge, increase the number of iterations.\n",
      "  \"the number of iterations.\", ConvergenceWarning)\n",
      "C:\\Users\\richard.stansbury\\Anaconda3\\lib\\site-packages\\sklearn\\svm\\base.py:929: ConvergenceWarning: Liblinear failed to converge, increase the number of iterations.\n",
      "  \"the number of iterations.\", ConvergenceWarning)\n",
      "C:\\Users\\richard.stansbury\\Anaconda3\\lib\\site-packages\\sklearn\\svm\\base.py:929: ConvergenceWarning: Liblinear failed to converge, increase the number of iterations.\n",
      "  \"the number of iterations.\", ConvergenceWarning)\n",
      "C:\\Users\\richard.stansbury\\Anaconda3\\lib\\site-packages\\sklearn\\svm\\base.py:929: ConvergenceWarning: Liblinear failed to converge, increase the number of iterations.\n",
      "  \"the number of iterations.\", ConvergenceWarning)\n",
      "C:\\Users\\richard.stansbury\\Anaconda3\\lib\\site-packages\\sklearn\\svm\\base.py:929: ConvergenceWarning: Liblinear failed to converge, increase the number of iterations.\n",
      "  \"the number of iterations.\", ConvergenceWarning)\n",
      "C:\\Users\\richard.stansbury\\Anaconda3\\lib\\site-packages\\sklearn\\svm\\base.py:929: ConvergenceWarning: Liblinear failed to converge, increase the number of iterations.\n",
      "  \"the number of iterations.\", ConvergenceWarning)\n",
      "C:\\Users\\richard.stansbury\\Anaconda3\\lib\\site-packages\\sklearn\\svm\\base.py:929: ConvergenceWarning: Liblinear failed to converge, increase the number of iterations.\n",
      "  \"the number of iterations.\", ConvergenceWarning)\n",
      "C:\\Users\\richard.stansbury\\Anaconda3\\lib\\site-packages\\sklearn\\svm\\base.py:929: ConvergenceWarning: Liblinear failed to converge, increase the number of iterations.\n",
      "  \"the number of iterations.\", ConvergenceWarning)\n",
      "C:\\Users\\richard.stansbury\\Anaconda3\\lib\\site-packages\\sklearn\\svm\\base.py:929: ConvergenceWarning: Liblinear failed to converge, increase the number of iterations.\n",
      "  \"the number of iterations.\", ConvergenceWarning)\n",
      "C:\\Users\\richard.stansbury\\Anaconda3\\lib\\site-packages\\sklearn\\svm\\base.py:929: ConvergenceWarning: Liblinear failed to converge, increase the number of iterations.\n",
      "  \"the number of iterations.\", ConvergenceWarning)\n",
      "C:\\Users\\richard.stansbury\\Anaconda3\\lib\\site-packages\\sklearn\\svm\\base.py:929: ConvergenceWarning: Liblinear failed to converge, increase the number of iterations.\n",
      "  \"the number of iterations.\", ConvergenceWarning)\n",
      "C:\\Users\\richard.stansbury\\Anaconda3\\lib\\site-packages\\sklearn\\svm\\base.py:929: ConvergenceWarning: Liblinear failed to converge, increase the number of iterations.\n",
      "  \"the number of iterations.\", ConvergenceWarning)\n",
      "C:\\Users\\richard.stansbury\\Anaconda3\\lib\\site-packages\\sklearn\\svm\\base.py:929: ConvergenceWarning: Liblinear failed to converge, increase the number of iterations.\n",
      "  \"the number of iterations.\", ConvergenceWarning)\n"
     ]
    },
    {
     "data": {
      "text/plain": [
       "{'Classifier__C': 0.01, 'Polynomial__degree': 3}"
      ]
     },
     "execution_count": 8,
     "metadata": {},
     "output_type": "execute_result"
    }
   ],
   "source": [
    "# SVC Classifier with Polynomial Features Added\n",
    "clf_pipe = Pipeline([\n",
    "        (\"Polynomial\", PolynomialFeatures()),\n",
    "        (\"Scaler\", StandardScaler()),\n",
    "        (\"Classifier\", LinearSVC(loss=\"hinge\")), \n",
    "    ])\n",
    "\n",
    "param_grid = [{'Polynomial__degree' :[1,2,3],'Classifier__C': [0.01, 0.1,1,10,100]}]\n",
    "\n",
    "\n",
    "grid_search = GridSearchCV(clf_pipe, param_grid, cv=5, scoring='roc_auc')\n",
    "grid_search.fit(train_X_data, train_y_data)\n",
    "\n",
    "grid_search.best_params_                             \n",
    "                               "
   ]
  },
  {
   "cell_type": "code",
   "execution_count": 9,
   "metadata": {},
   "outputs": [
    {
     "name": "stdout",
     "output_type": "stream",
     "text": [
      "Confusion Matrix:\n",
      "[[492  57]\n",
      " [106 236]]\n",
      "Accuracy Score = 0.8170594837261503\n",
      "Pecision Score = 0.8054607508532423\n",
      "Recall Score = 0.6900584795321637\n",
      "F1 Score = 0.7433070866141731\n"
     ]
    }
   ],
   "source": [
    "# SVC Classifier with Polynomial Features Added\n",
    "c=0.01\n",
    "deg=3\n",
    "\n",
    "clf_pipe = Pipeline([\n",
    "        (\"Polynomial\", PolynomialFeatures(degree=deg)),\n",
    "        (\"Scaler\", StandardScaler()),\n",
    "        (\"classifier\", LinearSVC(loss=\"hinge\", max_iter=10000, C=c)), \n",
    "    ])\n",
    "\n",
    "y_pred = cross_val_predict(clf_pipe, train_X_data, train_y_data, cv=5)\n",
    "\n",
    "print(\"Confusion Matrix:\")\n",
    "print(confusion_matrix(train_y_data, y_pred))\n",
    "print(\"Accuracy Score = \" + str(accuracy_score(train_y_data, y_pred)))\n",
    "print(\"Pecision Score = \" + str(precision_score(train_y_data, y_pred)))\n",
    "print(\"Recall Score = \" + str(recall_score(train_y_data,y_pred)))\n",
    "print(\"F1 Score = \" + str(f1_score(train_y_data,y_pred)))                            \n",
    "                               "
   ]
  },
  {
   "cell_type": "markdown",
   "metadata": {},
   "source": [
    "## SVC Classifier with Polynomial Kernel"
   ]
  },
  {
   "cell_type": "code",
   "execution_count": 10,
   "metadata": {},
   "outputs": [
    {
     "data": {
      "text/plain": [
       "{'C': 1, 'coef0': 0}"
      ]
     },
     "execution_count": 10,
     "metadata": {},
     "output_type": "execute_result"
    }
   ],
   "source": [
    "# Examine parameters using Grid Search\n",
    "\n",
    "param_grid = [{'C': [0.1,1,10], 'coef0':[0,0.1,10,100]}]\n",
    "\n",
    "clf = SVC(kernel='poly', degree=2, gamma='scale')\n",
    "grid_search = GridSearchCV(clf, param_grid, cv=5, scoring='roc_auc')\n",
    "grid_search.fit(train_X_data, train_y_data)\n",
    "\n",
    "grid_search.best_params_                                "
   ]
  },
  {
   "cell_type": "code",
   "execution_count": 11,
   "metadata": {},
   "outputs": [
    {
     "name": "stdout",
     "output_type": "stream",
     "text": [
      "Confusion Matrix:\n",
      "[[489  60]\n",
      " [101 241]]\n",
      "Accuracy Score = 0.819304152637486\n",
      "Pecision Score = 0.8006644518272426\n",
      "Recall Score = 0.7046783625730995\n",
      "F1 Score = 0.7496111975116642\n"
     ]
    }
   ],
   "source": [
    "# SVC Classifier with Polynomial Kernel\n",
    "C=10\n",
    "deg=2\n",
    "r=100\n",
    "\n",
    "clf = SVC(kernel=\"poly\", gamma='scale',degree=deg, coef0=r, C=C)\n",
    "    \n",
    "y_pred = cross_val_predict(clf, train_X_data, train_y_data, cv=5)\n",
    "\n",
    "print(\"Confusion Matrix:\")\n",
    "print(confusion_matrix(train_y_data, y_pred))\n",
    "print(\"Accuracy Score = \" + str(accuracy_score(train_y_data, y_pred)))\n",
    "print(\"Pecision Score = \" + str(precision_score(train_y_data, y_pred)))\n",
    "print(\"Recall Score = \" + str(recall_score(train_y_data,y_pred)))\n",
    "print(\"F1 Score = \" + str(f1_score(train_y_data,y_pred)))                            \n",
    "                               "
   ]
  },
  {
   "cell_type": "markdown",
   "metadata": {},
   "source": [
    "## SVC with RBF Kernel"
   ]
  },
  {
   "cell_type": "code",
   "execution_count": 12,
   "metadata": {},
   "outputs": [
    {
     "name": "stdout",
     "output_type": "stream",
     "text": [
      "{'C': 2.3707085458538, 'gamma': 0.2192528545950102}\n",
      "0.7745263925107599 {'C': 6.123829364921926, 'gamma': 9.877547145332587}\n",
      "0.7868830792709053 {'C': 5.174371088544534, 'gamma': 4.814875933113863}\n",
      "0.795143245148163 {'C': 5.087669225286556, 'gamma': 1.312945231490078}\n",
      "0.7896147278055593 {'C': 4.840065861181587, 'gamma': 5.389441313692711}\n",
      "0.7857309551640885 {'C': 4.796875908129039, 'gamma': 6.818819353511562}\n",
      "0.8030747603551713 {'C': 1.0164311054869002, 'gamma': 4.328786321943275}\n",
      "0.7758482079514502 {'C': 5.928043959169763, 'gamma': 9.86407814264108}\n",
      "0.8180782617934943 {'C': 3.523546852060635, 'gamma': 0.3442953007124018}\n",
      "0.7890474228492009 {'C': 3.8563893336173045, 'gamma': 4.898348985512558}\n",
      "0.7746139526284058 {'C': 8.338723988106045, 'gamma': 5.643547463635005}\n",
      "0.7968400530705577 {'C': 1.6463815912965163, 'gamma': 7.215595134646481}\n",
      "0.8270740598129436 {'C': 9.862660288208547, 'gamma': 0.19981045919828866}\n",
      "0.8049926690279751 {'C': 0.8476922850038981, 'gamma': 3.836403695621454}\n",
      "0.7912628008220244 {'C': 6.80843609934994, 'gamma': 1.428270009878071}\n",
      "0.7728258503682681 {'C': 9.801282135877296, 'gamma': 5.926111591427655}\n",
      "0.7825368887730698 {'C': 4.55753166608908, 'gamma': 9.915906411907395}\n",
      "0.8165871606842947 {'C': 2.0230102785361224, 'gamma': 0.3911105883324729}\n",
      "0.7752012056513463 {'C': 7.523587222340963, 'gamma': 7.691672565704854}\n",
      "0.7890843334895769 {'C': 2.903736235392313, 'gamma': 7.0322121821506896}\n",
      "0.8229710708278503 {'C': 4.8719572770225135, 'gamma': 0.3004077493283942}\n",
      "0.8075586506829296 {'C': 0.48911474549233835, 'gamma': 6.687415905302122}\n",
      "0.7876984417942108 {'C': 3.847063671949996, 'gamma': 6.9730381700861885}\n",
      "0.8181783320611832 {'C': 0.3247931192492981, 'gamma': 3.1625343876257292}\n",
      "0.7831744164906734 {'C': 6.120347957717124, 'gamma': 3.6496052075466365}\n",
      "0.7944481302655955 {'C': 1.9299297824650796, 'gamma': 4.744127302581353}\n",
      "0.8006994271369056 {'C': 3.562359030330261, 'gamma': 1.3945955301700552}\n",
      "0.8260214257450635 {'C': 0.32135446285971314, 'gamma': 1.4641550532506886}\n",
      "0.7888442113149001 {'C': 3.7977735437543725, 'gamma': 6.42566294302637}\n",
      "0.7886977546273288 {'C': 3.252889747842643, 'gamma': 5.579092429973997}\n",
      "0.7720106853110676 {'C': 8.430818759499354, 'gamma': 8.855720963129873}\n",
      "0.8241635160448936 {'C': 6.56583538149174, 'gamma': 0.4972355932881679}\n",
      "0.7933084451268592 {'C': 1.8632942316538392, 'gamma': 6.968904027586799}\n",
      "0.7742156836450864 {'C': 7.905148127019441, 'gamma': 5.890032570142199}\n",
      "0.7864929747469214 {'C': 3.976930248331203, 'gamma': 7.458548503447946}\n",
      "0.7916843970999169 {'C': 2.196174394259772, 'gamma': 9.171841370988716}\n",
      "0.781905965097663 {'C': 5.656392212465979, 'gamma': 7.214679567758074}\n",
      "0.8205636194623892 {'C': 0.26171710356666433, 'gamma': 3.0862863828159237}\n",
      "0.8144995803484182 {'C': 0.41061510866498785, 'gamma': 4.294483220211388}\n",
      "0.7890958051570369 {'C': 3.114254339356144, 'gamma': 5.590357140680376}\n",
      "0.7757414176117742 {'C': 8.234097718846922, 'gamma': 6.1394253904169}\n",
      "0.7870641900428729 {'C': 4.51965997194436, 'gamma': 6.363268476003199}\n",
      "0.7875293328437004 {'C': 5.428704092747145, 'gamma': 3.0514692057410744}\n",
      "0.7830174760646683 {'C': 6.017814972336777, 'gamma': 5.264274319640959}\n",
      "0.7738365304101149 {'C': 6.573894305669545, 'gamma': 9.251432018948817}\n",
      "0.7917702828055446 {'C': 2.537088184420573, 'gamma': 7.653408857721228}\n",
      "0.8286635895757807 {'C': 2.3707085458538, 'gamma': 0.2192528545950102}\n",
      "0.7874846430203494 {'C': 4.765334971039293, 'gamma': 5.746645318689958}\n",
      "0.7697417567970156 {'C': 8.122116215200606, 'gamma': 7.997768202359447}\n",
      "0.7892567281819027 {'C': 8.048899472698315, 'gamma': 1.74174991255587}\n",
      "0.778653926983524 {'C': 8.40936855261908, 'gamma': 4.721329030182015}\n",
      "0.7849389100401062 {'C': 5.914142756362821, 'gamma': 4.511889708314514}\n",
      "0.7844813073402376 {'C': 7.828520783851932, 'gamma': 3.3365247451633393}\n",
      "0.7685025612303389 {'C': 9.259638913799684, 'gamma': 8.16408125712273}\n",
      "0.7769041501850599 {'C': 6.568929099826347, 'gamma': 7.200762008658605}\n",
      "0.8144559847083335 {'C': 1.2838624438413415, 'gamma': 0.5735865080339054}\n",
      "0.7839052869027407 {'C': 6.1598014970380035, 'gamma': 4.6284482978077826}\n",
      "0.7835567000960701 {'C': 6.963882970039334, 'gamma': 3.620892926054372}\n",
      "0.7844602779781547 {'C': 5.538600688252004, 'gamma': 4.705574621421848}\n",
      "0.7761360362053229 {'C': 7.194946130762127, 'gamma': 7.2751685589438635}\n",
      "0.7829928896792895 {'C': 5.917913674713075, 'gamma': 3.9576636141236854}\n",
      "0.7887073226960046 {'C': 2.9575639797389703, 'gamma': 7.342284945901324}\n",
      "0.8018157845022659 {'C': 4.79632191669149, 'gamma': 1.1014153790252823}\n",
      "0.7985156550325712 {'C': 0.8002338661110897, 'gamma': 7.693170225351297}\n",
      "0.8035555774320389 {'C': 3.4563483498760115, 'gamma': 1.1837703732253102}\n",
      "0.8110091892745027 {'C': 0.8852774374152406, 'gamma': 2.7277849371695626}\n",
      "0.7868577546519713 {'C': 4.44335699065318, 'gamma': 4.041787051904545}\n",
      "0.7828855065821979 {'C': 6.274126239489597, 'gamma': 6.341669628090198}\n",
      "0.7901129331514863 {'C': 3.6551567222737154, 'gamma': 4.3374508161976175}\n",
      "0.79785647395361 {'C': 1.1016610671519134, 'gamma': 9.186620600252127}\n",
      "0.8058677708134927 {'C': 0.7908113867604305, 'gamma': 3.7908043020795748}\n",
      "0.8258070964581031 {'C': 0.3099632948996933, 'gamma': 1.4999218926697189}\n",
      "0.7704330541079621 {'C': 8.979140884897934, 'gamma': 7.38558614110102}\n",
      "0.7785895805246732 {'C': 7.178848153194594, 'gamma': 5.348031886554601}\n",
      "0.7827758980512851 {'C': 8.486576491745705, 'gamma': 2.6991687537768825}\n",
      "0.7825411841496217 {'C': 9.584029830712243, 'gamma': 2.7334169185992985}\n",
      "0.8042034110927722 {'C': 2.5717503197657874, 'gamma': 1.782483284348061}\n",
      "0.7775513396969161 {'C': 7.760058305897362, 'gamma': 5.462755088040573}\n",
      "0.7690280571580015 {'C': 9.067812176720599, 'gamma': 7.687243209170768}\n",
      "0.7996842425616428 {'C': 3.639429427662485, 'gamma': 1.9293525284619895}\n",
      "0.7856822920386237 {'C': 5.630294213862155, 'gamma': 6.06122550663322}\n",
      "0.7747199002757946 {'C': 6.798726682534756, 'gamma': 9.509870017398342}\n",
      "0.7688092136817761 {'C': 9.96464309439861, 'gamma': 8.950719983164522}\n",
      "0.7930164463441698 {'C': 2.0136495159729035, 'gamma': 7.607725650675543}\n",
      "0.7998838869379964 {'C': 1.7491409852464257, 'gamma': 3.0078394286753296}\n",
      "0.8187784920815857 {'C': 0.6361553502094108, 'gamma': 1.6771895810816428}\n",
      "0.7722335536005686 {'C': 8.911941155676454, 'gamma': 7.211297330550168}\n",
      "0.7713569958566442 {'C': 7.186813132935092, 'gamma': 8.61545675487218}\n",
      "0.7914552888176712 {'C': 3.759200454904531, 'gamma': 2.892897166495684}\n",
      "0.8042301086776912 {'C': 2.80315070009404, 'gamma': 1.6935230298941706}\n",
      "0.7901769568176948 {'C': 8.082067839053014, 'gamma': 1.6265945859809339}\n",
      "0.7826311154166302 {'C': 9.038415828688912, 'gamma': 3.2892848145711375}\n",
      "0.7919343375175424 {'C': 8.965638833839028, 'gamma': 1.3404736940943518}\n",
      "0.8026188844163873 {'C': 0.8636714262521217, 'gamma': 4.878449615909999}\n",
      "0.7897742579542393 {'C': 4.327464892314563, 'gamma': 5.423833200232893}\n",
      "0.7725684428271551 {'C': 8.283203753351973, 'gamma': 8.880484307786828}\n",
      "0.7862003413515034 {'C': 7.434164014062549, 'gamma': 3.274157883112274}\n",
      "0.7812469814848064 {'C': 8.10500252429878, 'gamma': 3.979196592004648}\n",
      "0.7808456236272728 {'C': 8.182579517850861, 'gamma': 3.882043550736032}\n",
      "0.7692943671526041 {'C': 8.624970787541658, 'gamma': 8.016927615214836}\n",
      "0.7877217801810403 {'C': 4.568576830184304, 'gamma': 3.5831317185660914}\n"
     ]
    },
    {
     "name": "stderr",
     "output_type": "stream",
     "text": [
      "C:\\Users\\richard.stansbury\\Anaconda3\\lib\\site-packages\\sklearn\\model_selection\\_search.py:814: DeprecationWarning: The default of the `iid` parameter will change from True to False in version 0.22 and will be removed in 0.24. This will change numeric results when test-set sizes are unequal.\n",
      "  DeprecationWarning)\n"
     ]
    }
   ],
   "source": [
    "import scipy as sp\n",
    "# Examine parameters using Grid Search\n",
    "param_grid = {'C': sp.stats.uniform(0.01,10), \n",
    "              'gamma':sp.stats.uniform(0.001,10)}\n",
    "\n",
    "clf = SVC(kernel='rbf')\n",
    "rand_search = RandomizedSearchCV(clf, param_distributions=param_grid, n_iter=100, cv=5, scoring='roc_auc')\n",
    "rand_search.fit(train_X_data, train_y_data)\n",
    "\n",
    "print(rand_search.best_params_)\n",
    "\n",
    "results = rand_search.cv_results_\n",
    "for mean_score, params in zip(results[\"mean_test_score\"],results[\"params\"]):\n",
    "    print(mean_score, params)"
   ]
  },
  {
   "cell_type": "code",
   "execution_count": 30,
   "metadata": {},
   "outputs": [
    {
     "name": "stdout",
     "output_type": "stream",
     "text": [
      "Confusion Matrix:\n",
      "[[493  56]\n",
      " [ 99 243]]\n",
      "Accuracy Score = 0.8260381593714927\n",
      "Pecision Score = 0.8127090301003345\n",
      "Recall Score = 0.7105263157894737\n",
      "F1 Score = 0.7581903276131046\n"
     ]
    }
   ],
   "source": [
    "# SVC Classifier with Gaussian Radial Basis Function Kernel\n",
    "C=2.0\n",
    "gamma=0.2\n",
    "\n",
    "clf = SVC(kernel=\"rbf\", C=C, gamma=gamma) \n",
    "\n",
    "y_pred = cross_val_predict(clf, train_X_data, train_y_data, cv=5)\n",
    "\n",
    "print(\"Confusion Matrix:\")\n",
    "print(confusion_matrix(train_y_data, y_pred))\n",
    "print(\"Accuracy Score = \" + str(accuracy_score(train_y_data, y_pred)))\n",
    "print(\"Pecision Score = \" + str(precision_score(train_y_data, y_pred)))\n",
    "print(\"Recall Score = \" + str(recall_score(train_y_data,y_pred)))\n",
    "print(\"F1 Score = \" + str(f1_score(train_y_data,y_pred)))                            \n",
    "                               "
   ]
  },
  {
   "cell_type": "markdown",
   "metadata": {},
   "source": [
    "\n"
   ]
  },
  {
   "cell_type": "code",
   "execution_count": 14,
   "metadata": {},
   "outputs": [],
   "source": [
    "# Load Data Set\n",
    "boston_housing_data = datasets.load_boston()\n",
    "\n",
    "# Build data frame for visualization\n",
    "boston_df = pd.DataFrame(np.c_[boston_housing_data.data, boston_housing_data.target], \n",
    "                  columns=[\"CRIM\", \"ZN\",\"INDUS\",\"CHAS\", \"NOX\",\"RM\",\"AGE\",\n",
    "                           \"DIS\",\"RAD\",\"TAX\",\"PTRatio\",\"BK\", \"LSTAT\",\"MEDV\"])\n",
    "\n",
    "scaler = StandardScaler()\n",
    "boston_data_set = scaler.fit_transform(boston_housing_data.data)\n",
    "train_X, test_X, train_y, test_y = train_test_split(boston_data_set,\n",
    "                                                   boston_housing_data.target,\n",
    "                                                   test_size=0.33)\n",
    "\n",
    "\n",
    "def plot_learning_curves(model, X, y):\n",
    "    \"\"\"\n",
    "    Plots performance on the training set and testing (validation) set.\n",
    "    X-axis - number of training samples used\n",
    "    Y-axis - RMSE\n",
    "    \"\"\"\n",
    "    \n",
    "    train_X, test_X, train_y, test_y = train_test_split(X, y, test_size = 0.20)\n",
    "    \n",
    "    training_errors, validation_errors = [], []\n",
    "    \n",
    "    for m in range(1, len(train_X)):\n",
    "        \n",
    "        model.fit(train_X[:m], train_y[:m])\n",
    "        \n",
    "        train_pred = model.predict(train_X)\n",
    "        test_pred = model.predict(test_X)\n",
    "        \n",
    "        training_errors.append(np.sqrt(mean_squared_error(train_y, train_pred)))\n",
    "        validation_errors.append(np.sqrt(mean_squared_error(test_y, test_pred)))\n",
    "        \n",
    "    plt.plot(training_errors, \"r-+\", label=\"train\")\n",
    "    plt.plot(validation_errors, \"b-\", label=\"test\")\n",
    "    plt.legend()\n",
    "    plt.axis([0, 80, 0, 3])"
   ]
  },
  {
   "cell_type": "code",
   "execution_count": 36,
   "metadata": {},
   "outputs": [
    {
     "name": "stderr",
     "output_type": "stream",
     "text": [
      "C:\\Users\\richard.stansbury\\Anaconda3\\lib\\site-packages\\sklearn\\svm\\base.py:929: ConvergenceWarning: Liblinear failed to converge, increase the number of iterations.\n",
      "  \"the number of iterations.\", ConvergenceWarning)\n",
      "C:\\Users\\richard.stansbury\\Anaconda3\\lib\\site-packages\\sklearn\\svm\\base.py:929: ConvergenceWarning: Liblinear failed to converge, increase the number of iterations.\n",
      "  \"the number of iterations.\", ConvergenceWarning)\n",
      "C:\\Users\\richard.stansbury\\Anaconda3\\lib\\site-packages\\sklearn\\svm\\base.py:929: ConvergenceWarning: Liblinear failed to converge, increase the number of iterations.\n",
      "  \"the number of iterations.\", ConvergenceWarning)\n",
      "C:\\Users\\richard.stansbury\\Anaconda3\\lib\\site-packages\\sklearn\\svm\\base.py:929: ConvergenceWarning: Liblinear failed to converge, increase the number of iterations.\n",
      "  \"the number of iterations.\", ConvergenceWarning)\n",
      "C:\\Users\\richard.stansbury\\Anaconda3\\lib\\site-packages\\sklearn\\svm\\base.py:929: ConvergenceWarning: Liblinear failed to converge, increase the number of iterations.\n",
      "  \"the number of iterations.\", ConvergenceWarning)\n",
      "C:\\Users\\richard.stansbury\\Anaconda3\\lib\\site-packages\\sklearn\\svm\\base.py:929: ConvergenceWarning: Liblinear failed to converge, increase the number of iterations.\n",
      "  \"the number of iterations.\", ConvergenceWarning)\n",
      "C:\\Users\\richard.stansbury\\Anaconda3\\lib\\site-packages\\sklearn\\svm\\base.py:929: ConvergenceWarning: Liblinear failed to converge, increase the number of iterations.\n",
      "  \"the number of iterations.\", ConvergenceWarning)\n",
      "C:\\Users\\richard.stansbury\\Anaconda3\\lib\\site-packages\\sklearn\\svm\\base.py:929: ConvergenceWarning: Liblinear failed to converge, increase the number of iterations.\n",
      "  \"the number of iterations.\", ConvergenceWarning)\n",
      "C:\\Users\\richard.stansbury\\Anaconda3\\lib\\site-packages\\sklearn\\svm\\base.py:929: ConvergenceWarning: Liblinear failed to converge, increase the number of iterations.\n",
      "  \"the number of iterations.\", ConvergenceWarning)\n",
      "C:\\Users\\richard.stansbury\\Anaconda3\\lib\\site-packages\\sklearn\\svm\\base.py:929: ConvergenceWarning: Liblinear failed to converge, increase the number of iterations.\n",
      "  \"the number of iterations.\", ConvergenceWarning)\n",
      "C:\\Users\\richard.stansbury\\Anaconda3\\lib\\site-packages\\sklearn\\svm\\base.py:929: ConvergenceWarning: Liblinear failed to converge, increase the number of iterations.\n",
      "  \"the number of iterations.\", ConvergenceWarning)\n",
      "C:\\Users\\richard.stansbury\\Anaconda3\\lib\\site-packages\\sklearn\\svm\\base.py:929: ConvergenceWarning: Liblinear failed to converge, increase the number of iterations.\n",
      "  \"the number of iterations.\", ConvergenceWarning)\n",
      "C:\\Users\\richard.stansbury\\Anaconda3\\lib\\site-packages\\sklearn\\svm\\base.py:929: ConvergenceWarning: Liblinear failed to converge, increase the number of iterations.\n",
      "  \"the number of iterations.\", ConvergenceWarning)\n",
      "C:\\Users\\richard.stansbury\\Anaconda3\\lib\\site-packages\\sklearn\\svm\\base.py:929: ConvergenceWarning: Liblinear failed to converge, increase the number of iterations.\n",
      "  \"the number of iterations.\", ConvergenceWarning)\n",
      "C:\\Users\\richard.stansbury\\Anaconda3\\lib\\site-packages\\sklearn\\svm\\base.py:929: ConvergenceWarning: Liblinear failed to converge, increase the number of iterations.\n",
      "  \"the number of iterations.\", ConvergenceWarning)\n",
      "C:\\Users\\richard.stansbury\\Anaconda3\\lib\\site-packages\\sklearn\\svm\\base.py:929: ConvergenceWarning: Liblinear failed to converge, increase the number of iterations.\n",
      "  \"the number of iterations.\", ConvergenceWarning)\n"
     ]
    },
    {
     "data": {
      "text/plain": [
       "{'LinearSVR__epsilon': 0.05}"
      ]
     },
     "execution_count": 36,
     "metadata": {},
     "output_type": "execute_result"
    }
   ],
   "source": [
    "# Examine parameters using Grid Search\n",
    "\n",
    "param_grid = [{'LinearSVR__epsilon': [0.05,0.1,0.5,1.5,10]}]\n",
    "deg = 3\n",
    "\n",
    "clf = Pipeline([\n",
    "    (\"poly_features\", PolynomialFeatures(degree=deg, include_bias=False)),\n",
    "    (\"LinearSVR\", LinearSVR(max_iter=10000)),\n",
    "    ])\n",
    "\n",
    "grid_search = GridSearchCV(clf, param_grid, cv=5, scoring='neg_mean_squared_error')\n",
    "grid_search.fit(train_X_data, train_y_data)\n",
    "\n",
    "grid_search.best_params_  "
   ]
  },
  {
   "cell_type": "code",
   "execution_count": 35,
   "metadata": {},
   "outputs": [
    {
     "name": "stderr",
     "output_type": "stream",
     "text": [
      "C:\\Users\\richard.stansbury\\Anaconda3\\lib\\site-packages\\sklearn\\svm\\base.py:929: ConvergenceWarning: Liblinear failed to converge, increase the number of iterations.\n",
      "  \"the number of iterations.\", ConvergenceWarning)\n",
      "C:\\Users\\richard.stansbury\\Anaconda3\\lib\\site-packages\\sklearn\\svm\\base.py:929: ConvergenceWarning: Liblinear failed to converge, increase the number of iterations.\n",
      "  \"the number of iterations.\", ConvergenceWarning)\n",
      "C:\\Users\\richard.stansbury\\Anaconda3\\lib\\site-packages\\sklearn\\svm\\base.py:929: ConvergenceWarning: Liblinear failed to converge, increase the number of iterations.\n",
      "  \"the number of iterations.\", ConvergenceWarning)\n",
      "C:\\Users\\richard.stansbury\\Anaconda3\\lib\\site-packages\\sklearn\\svm\\base.py:929: ConvergenceWarning: Liblinear failed to converge, increase the number of iterations.\n",
      "  \"the number of iterations.\", ConvergenceWarning)\n",
      "C:\\Users\\richard.stansbury\\Anaconda3\\lib\\site-packages\\sklearn\\svm\\base.py:929: ConvergenceWarning: Liblinear failed to converge, increase the number of iterations.\n",
      "  \"the number of iterations.\", ConvergenceWarning)\n",
      "C:\\Users\\richard.stansbury\\Anaconda3\\lib\\site-packages\\sklearn\\svm\\base.py:929: ConvergenceWarning: Liblinear failed to converge, increase the number of iterations.\n",
      "  \"the number of iterations.\", ConvergenceWarning)\n",
      "C:\\Users\\richard.stansbury\\Anaconda3\\lib\\site-packages\\sklearn\\svm\\base.py:929: ConvergenceWarning: Liblinear failed to converge, increase the number of iterations.\n",
      "  \"the number of iterations.\", ConvergenceWarning)\n",
      "C:\\Users\\richard.stansbury\\Anaconda3\\lib\\site-packages\\sklearn\\svm\\base.py:929: ConvergenceWarning: Liblinear failed to converge, increase the number of iterations.\n",
      "  \"the number of iterations.\", ConvergenceWarning)\n",
      "C:\\Users\\richard.stansbury\\Anaconda3\\lib\\site-packages\\sklearn\\svm\\base.py:929: ConvergenceWarning: Liblinear failed to converge, increase the number of iterations.\n",
      "  \"the number of iterations.\", ConvergenceWarning)\n",
      "C:\\Users\\richard.stansbury\\Anaconda3\\lib\\site-packages\\sklearn\\svm\\base.py:929: ConvergenceWarning: Liblinear failed to converge, increase the number of iterations.\n",
      "  \"the number of iterations.\", ConvergenceWarning)\n",
      "C:\\Users\\richard.stansbury\\Anaconda3\\lib\\site-packages\\sklearn\\svm\\base.py:929: ConvergenceWarning: Liblinear failed to converge, increase the number of iterations.\n",
      "  \"the number of iterations.\", ConvergenceWarning)\n",
      "C:\\Users\\richard.stansbury\\Anaconda3\\lib\\site-packages\\sklearn\\svm\\base.py:929: ConvergenceWarning: Liblinear failed to converge, increase the number of iterations.\n",
      "  \"the number of iterations.\", ConvergenceWarning)\n",
      "C:\\Users\\richard.stansbury\\Anaconda3\\lib\\site-packages\\sklearn\\svm\\base.py:929: ConvergenceWarning: Liblinear failed to converge, increase the number of iterations.\n",
      "  \"the number of iterations.\", ConvergenceWarning)\n",
      "C:\\Users\\richard.stansbury\\Anaconda3\\lib\\site-packages\\sklearn\\svm\\base.py:929: ConvergenceWarning: Liblinear failed to converge, increase the number of iterations.\n",
      "  \"the number of iterations.\", ConvergenceWarning)\n",
      "C:\\Users\\richard.stansbury\\Anaconda3\\lib\\site-packages\\sklearn\\svm\\base.py:929: ConvergenceWarning: Liblinear failed to converge, increase the number of iterations.\n",
      "  \"the number of iterations.\", ConvergenceWarning)\n",
      "C:\\Users\\richard.stansbury\\Anaconda3\\lib\\site-packages\\sklearn\\svm\\base.py:929: ConvergenceWarning: Liblinear failed to converge, increase the number of iterations.\n",
      "  \"the number of iterations.\", ConvergenceWarning)\n",
      "C:\\Users\\richard.stansbury\\Anaconda3\\lib\\site-packages\\sklearn\\svm\\base.py:929: ConvergenceWarning: Liblinear failed to converge, increase the number of iterations.\n",
      "  \"the number of iterations.\", ConvergenceWarning)\n",
      "C:\\Users\\richard.stansbury\\Anaconda3\\lib\\site-packages\\sklearn\\svm\\base.py:929: ConvergenceWarning: Liblinear failed to converge, increase the number of iterations.\n",
      "  \"the number of iterations.\", ConvergenceWarning)\n",
      "C:\\Users\\richard.stansbury\\Anaconda3\\lib\\site-packages\\sklearn\\svm\\base.py:929: ConvergenceWarning: Liblinear failed to converge, increase the number of iterations.\n",
      "  \"the number of iterations.\", ConvergenceWarning)\n",
      "C:\\Users\\richard.stansbury\\Anaconda3\\lib\\site-packages\\sklearn\\svm\\base.py:929: ConvergenceWarning: Liblinear failed to converge, increase the number of iterations.\n",
      "  \"the number of iterations.\", ConvergenceWarning)\n",
      "C:\\Users\\richard.stansbury\\Anaconda3\\lib\\site-packages\\sklearn\\svm\\base.py:929: ConvergenceWarning: Liblinear failed to converge, increase the number of iterations.\n",
      "  \"the number of iterations.\", ConvergenceWarning)\n",
      "C:\\Users\\richard.stansbury\\Anaconda3\\lib\\site-packages\\sklearn\\svm\\base.py:929: ConvergenceWarning: Liblinear failed to converge, increase the number of iterations.\n",
      "  \"the number of iterations.\", ConvergenceWarning)\n",
      "C:\\Users\\richard.stansbury\\Anaconda3\\lib\\site-packages\\sklearn\\svm\\base.py:929: ConvergenceWarning: Liblinear failed to converge, increase the number of iterations.\n",
      "  \"the number of iterations.\", ConvergenceWarning)\n",
      "C:\\Users\\richard.stansbury\\Anaconda3\\lib\\site-packages\\sklearn\\svm\\base.py:929: ConvergenceWarning: Liblinear failed to converge, increase the number of iterations.\n",
      "  \"the number of iterations.\", ConvergenceWarning)\n",
      "C:\\Users\\richard.stansbury\\Anaconda3\\lib\\site-packages\\sklearn\\svm\\base.py:929: ConvergenceWarning: Liblinear failed to converge, increase the number of iterations.\n",
      "  \"the number of iterations.\", ConvergenceWarning)\n",
      "C:\\Users\\richard.stansbury\\Anaconda3\\lib\\site-packages\\sklearn\\svm\\base.py:929: ConvergenceWarning: Liblinear failed to converge, increase the number of iterations.\n",
      "  \"the number of iterations.\", ConvergenceWarning)\n",
      "C:\\Users\\richard.stansbury\\Anaconda3\\lib\\site-packages\\sklearn\\svm\\base.py:929: ConvergenceWarning: Liblinear failed to converge, increase the number of iterations.\n",
      "  \"the number of iterations.\", ConvergenceWarning)\n",
      "C:\\Users\\richard.stansbury\\Anaconda3\\lib\\site-packages\\sklearn\\svm\\base.py:929: ConvergenceWarning: Liblinear failed to converge, increase the number of iterations.\n",
      "  \"the number of iterations.\", ConvergenceWarning)\n",
      "C:\\Users\\richard.stansbury\\Anaconda3\\lib\\site-packages\\sklearn\\svm\\base.py:929: ConvergenceWarning: Liblinear failed to converge, increase the number of iterations.\n",
      "  \"the number of iterations.\", ConvergenceWarning)\n",
      "C:\\Users\\richard.stansbury\\Anaconda3\\lib\\site-packages\\sklearn\\svm\\base.py:929: ConvergenceWarning: Liblinear failed to converge, increase the number of iterations.\n",
      "  \"the number of iterations.\", ConvergenceWarning)\n",
      "C:\\Users\\richard.stansbury\\Anaconda3\\lib\\site-packages\\sklearn\\svm\\base.py:929: ConvergenceWarning: Liblinear failed to converge, increase the number of iterations.\n",
      "  \"the number of iterations.\", ConvergenceWarning)\n",
      "C:\\Users\\richard.stansbury\\Anaconda3\\lib\\site-packages\\sklearn\\svm\\base.py:929: ConvergenceWarning: Liblinear failed to converge, increase the number of iterations.\n",
      "  \"the number of iterations.\", ConvergenceWarning)\n",
      "C:\\Users\\richard.stansbury\\Anaconda3\\lib\\site-packages\\sklearn\\svm\\base.py:929: ConvergenceWarning: Liblinear failed to converge, increase the number of iterations.\n",
      "  \"the number of iterations.\", ConvergenceWarning)\n",
      "C:\\Users\\richard.stansbury\\Anaconda3\\lib\\site-packages\\sklearn\\svm\\base.py:929: ConvergenceWarning: Liblinear failed to converge, increase the number of iterations.\n",
      "  \"the number of iterations.\", ConvergenceWarning)\n",
      "C:\\Users\\richard.stansbury\\Anaconda3\\lib\\site-packages\\sklearn\\svm\\base.py:929: ConvergenceWarning: Liblinear failed to converge, increase the number of iterations.\n",
      "  \"the number of iterations.\", ConvergenceWarning)\n",
      "C:\\Users\\richard.stansbury\\Anaconda3\\lib\\site-packages\\sklearn\\svm\\base.py:929: ConvergenceWarning: Liblinear failed to converge, increase the number of iterations.\n",
      "  \"the number of iterations.\", ConvergenceWarning)\n",
      "C:\\Users\\richard.stansbury\\Anaconda3\\lib\\site-packages\\sklearn\\svm\\base.py:929: ConvergenceWarning: Liblinear failed to converge, increase the number of iterations.\n",
      "  \"the number of iterations.\", ConvergenceWarning)\n",
      "C:\\Users\\richard.stansbury\\Anaconda3\\lib\\site-packages\\sklearn\\svm\\base.py:929: ConvergenceWarning: Liblinear failed to converge, increase the number of iterations.\n",
      "  \"the number of iterations.\", ConvergenceWarning)\n"
     ]
    },
    {
     "name": "stderr",
     "output_type": "stream",
     "text": [
      "C:\\Users\\richard.stansbury\\Anaconda3\\lib\\site-packages\\sklearn\\svm\\base.py:929: ConvergenceWarning: Liblinear failed to converge, increase the number of iterations.\n",
      "  \"the number of iterations.\", ConvergenceWarning)\n",
      "C:\\Users\\richard.stansbury\\Anaconda3\\lib\\site-packages\\sklearn\\svm\\base.py:929: ConvergenceWarning: Liblinear failed to converge, increase the number of iterations.\n",
      "  \"the number of iterations.\", ConvergenceWarning)\n",
      "C:\\Users\\richard.stansbury\\Anaconda3\\lib\\site-packages\\sklearn\\svm\\base.py:929: ConvergenceWarning: Liblinear failed to converge, increase the number of iterations.\n",
      "  \"the number of iterations.\", ConvergenceWarning)\n",
      "C:\\Users\\richard.stansbury\\Anaconda3\\lib\\site-packages\\sklearn\\svm\\base.py:929: ConvergenceWarning: Liblinear failed to converge, increase the number of iterations.\n",
      "  \"the number of iterations.\", ConvergenceWarning)\n",
      "C:\\Users\\richard.stansbury\\Anaconda3\\lib\\site-packages\\sklearn\\svm\\base.py:929: ConvergenceWarning: Liblinear failed to converge, increase the number of iterations.\n",
      "  \"the number of iterations.\", ConvergenceWarning)\n"
     ]
    },
    {
     "data": {
      "text/plain": [
       "3.4768755314497986"
      ]
     },
     "execution_count": 35,
     "metadata": {},
     "output_type": "execute_result"
    },
    {
     "data": {
      "image/png": "[encoded data removed]",
      "text/plain": [
       "<Figure size 432x288 with 1 Axes>"
      ]
     },
     "metadata": {
      "needs_background": "light"
     },
     "output_type": "display_data"
    },
    {
     "data": {
      "image/png": "[encoded data removed]",
      "text/plain": [
       "<Figure size 432x288 with 1 Axes>"
      ]
     },
     "metadata": {
      "needs_background": "light"
     },
     "output_type": "display_data"
    }
   ],
   "source": [
    "deg = 3\n",
    "\n",
    "clf = Pipeline([\n",
    "    (\"poly_features\", PolynomialFeatures(degree=deg, include_bias=False)),\n",
    "    (\"LinearSVR\", LinearSVR(epsilon=0.1, max_iter=10000)),\n",
    "    ])\n",
    "    \n",
    "clf.fit(train_X,train_y)\n",
    "pred_y = clf.predict(test_X)\n",
    "\n",
    "plt.figure(\"a\")\n",
    "plt.hist(abs(test_y - pred_y),bins=100)\n",
    "plt.xlabel(\"Error ($k)\")\n",
    "\n",
    "plt.figure(\"b\")\n",
    "plot_learning_curves(clf, train_X, train_y)\n",
    "plt.axis([0,300,0,10])\n",
    "\n",
    "mean_absolute_error(test_y, pred_y)"
   ]
  },
  {
   "cell_type": "code",
   "execution_count": 17,
   "metadata": {},
   "outputs": [
    {
     "data": {
      "text/plain": [
       "{'C': 1, 'epsilon': 0.1}"
      ]
     },
     "execution_count": 17,
     "metadata": {},
     "output_type": "execute_result"
    }
   ],
   "source": [
    "# Examine parameters using Grid Search\n",
    "\n",
    "param_grid = [{'epsilon': [0.05,0.1,0.5,1.5], 'C':[0.1,1,10,100]}]\n",
    "deg = 2\n",
    "\n",
    "clf = SVR(degree=deg, kernel='rbf', gamma='scale')\n",
    "\n",
    "grid_search = GridSearchCV(clf, param_grid, cv=5, scoring='neg_mean_squared_error')\n",
    "grid_search.fit(train_X_data, train_y_data)\n",
    "\n",
    "grid_search.best_params_  "
   ]
  },
  {
   "cell_type": "code",
   "execution_count": 34,
   "metadata": {},
   "outputs": [
    {
     "data": {
      "text/plain": [
       "3.2745176933276765"
      ]
     },
     "execution_count": 34,
     "metadata": {},
     "output_type": "execute_result"
    },
    {
     "data": {
      "image/png": "[encoded data removed]",
      "text/plain": [
       "<Figure size 432x288 with 1 Axes>"
      ]
     },
     "metadata": {
      "needs_background": "light"
     },
     "output_type": "display_data"
    },
    {
     "data": {
      "image/png": "[encoded data removed]",
      "text/plain": [
       "<Figure size 432x288 with 1 Axes>"
      ]
     },
     "metadata": {
      "needs_background": "light"
     },
     "output_type": "display_data"
    }
   ],
   "source": [
    "deg = 2\n",
    "\n",
    "clf = SVR(kernel='rbf', epsilon=0.1, C=1, max_iter=10000, gamma='scale')\n",
    "\n",
    "    \n",
    "clf.fit(train_X,train_y)\n",
    "pred_y = clf.predict(test_X)\n",
    "\n",
    "plt.figure(\"a\")\n",
    "plt.hist(abs(test_y - pred_y),bins=100)\n",
    "plt.xlabel(\"Error ($k)\")\n",
    "\n",
    "plt.figure(\"b\")\n",
    "plot_learning_curves(clf, train_X, train_y)\n",
    "plt.axis([0,300,0,10])\n",
    "\n",
    "mean_absolute_error(test_y, pred_y)"
   ]
  }
 ],
 "metadata": {
  "kernelspec": {
   "display_name": "Python 3",
   "language": "python",
   "name": "python3"
  },
  "language_info": {
   "codemirror_mode": {
    "name": "ipython",
    "version": 3
   },
   "file_extension": ".py",
   "mimetype": "text/x-python",
   "name": "python",
   "nbconvert_exporter": "python",
   "pygments_lexer": "ipython3",
   "version": "3.7.4"
  }
 },
 "nbformat": 4,
 "nbformat_minor": 2
}
